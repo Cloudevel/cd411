{
 "cells": [
  {
   "cell_type": "markdown",
   "metadata": {},
   "source": [
    "<a href=\"https://cloudevel.com\"> <img src=\"img/cloudevel.png\" width=\"500px\"></a>"
   ]
  },
  {
   "cell_type": "markdown",
   "metadata": {},
   "source": [
    "# Flujos de trabajo.\n",
    "\n",
    "Aquellos proyectos de desarrollo de software en los que un grupo de programadores interactúa mediante un repositorio plantea el reto de poder crear flujos de trabajo ágíles, seguros y limpios.\n",
    "\n",
    "A partir de la experiencia de varios de estos grupos de trabajo se han adoptado varios esquemas de flujo de trabajo. Los siguientes son los más populares.\n",
    "\n",
    "Atlassian ha publicado una comparación de flujos de trabajo la cual puede ser consultada en:\n",
    "\n",
    "https://www.atlassian.com/git/tutorials/comparing-workflows"
   ]
  },
  {
   "cell_type": "markdown",
   "metadata": {},
   "source": [
    "## Flujo centralizado."
   ]
  },
  {
   "cell_type": "markdown",
   "metadata": {},
   "source": [
    "Este flujo de trabajo es común en repositorios cliente-servidor, en los que sólo existe la rama única."
   ]
  },
  {
   "cell_type": "markdown",
   "metadata": {},
   "source": [
    "<img src=\"img/10/centralizado.png\" width=\"70%\">"
   ]
  },
  {
   "cell_type": "markdown",
   "metadata": {},
   "source": [
    "## Flujo por \"feature\" ."
   ]
  },
  {
   "cell_type": "markdown",
   "metadata": {},
   "source": [
    "Este flujo cuenta con una rama principal y una o más ramas de funcionalidades. Cada funcionalidad es independiente de las otras.\n",
    "\n",
    "https://www.atlassian.com/git/tutorials/comparing-workflows/feature-branch-workflow"
   ]
  },
  {
   "cell_type": "markdown",
   "metadata": {},
   "source": [
    "<img src=\"img/10/feature.png\" width=\"70%\">"
   ]
  },
  {
   "cell_type": "markdown",
   "metadata": {},
   "source": [
    "## Gitflow."
   ]
  },
  {
   "cell_type": "markdown",
   "metadata": {},
   "source": [
    "[*Gitflow*](https://nvie.com/posts/a-successful-git-branching-model/) es un modelo de flujo de trabajo propuesto por Vincent Driessen.\n",
    "\n",
    "Este flujo de trabajo considera el desarrollo de las ramas:\n",
    "\n",
    "* **master/main**, la cual es la rama principal y a la que sólo puede agregarse código totalmente probado. Esta rama contiene el código productivo.\n",
    "* **develop**, la cual corresponde a la rama en la que se realiza el desarrollo cotidiano.\n",
    "* **hotfixes**, la cual se utiliza exclusivamente para atender correcciones de emergencia (*bugs*) y que serán añadidas a la rama **master/main**.\n",
    "* **release branch**, la cual permite preparar liberaciones calendarizadas de código proveniente de **develop**. En esta rama se realizan los análisis y pruebas que garanticen que el código puede ser incluido en **master/main**.\n",
    "* **feature branches** las cuales corresponden a funcionalidades que se irán integrando con el tiempo a **develop**.\n",
    "\n",
    "https://www.atlassian.com/git/tutorials/comparing-workflows/gitflow-workflow"
   ]
  },
  {
   "cell_type": "markdown",
   "metadata": {},
   "source": [
    "<img src=\"img/10/gitflow.png\" width=\"90%\">"
   ]
  },
  {
   "cell_type": "markdown",
   "metadata": {},
   "source": [
    "## *Trunk-based development*.\n",
    "\n",
    "Cuando una organización ha implementado y madurado su procesos de *DevOps* puede utilizar un flujo de trabajo similar al flujo centralizado en el que cada desarrollador del equipo realiza un  commit de su código al final del día y dicho *commit* desencadena un aserie de acciones automatizadas que lo validan y lo preparan para ser entregado  o desplegado en producción.\n",
    "\n",
    "https://www.atlassian.com/continuous-delivery/continuous-integration/trunk-based-development"
   ]
  },
  {
   "cell_type": "markdown",
   "metadata": {},
   "source": [
    "<p style=\"text-align: center\"><a rel=\"license\" href=\"http://creativecommons.org/licenses/by/4.0/\"><img alt=\"Licencia Creative Commons\" style=\"border-width:0\" src=\"https://i.creativecommons.org/l/by/4.0/80x15.png\" /></a><br />Esta obra está bajo una <a rel=\"license\" href=\"http://creativecommons.org/licenses/by/4.0/\">Licencia Creative Commons Atribución 4.0 Internacional</a>.</p>\n",
    "<p style=\"text-align: center\">&copy; José Luis Chiquete Valdivieso. 2020.</p>"
   ]
  }
 ],
 "metadata": {
  "kernelspec": {
   "display_name": "Python 3 (ipykernel)",
   "language": "python",
   "name": "python3"
  },
  "language_info": {
   "codemirror_mode": {
    "name": "ipython",
    "version": 3
   },
   "file_extension": ".py",
   "mimetype": "text/x-python",
   "name": "python",
   "nbconvert_exporter": "python",
   "pygments_lexer": "ipython3",
   "version": "3.9.2"
  }
 },
 "nbformat": 4,
 "nbformat_minor": 2
}
