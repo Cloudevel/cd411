{
 "cells": [
  {
   "cell_type": "markdown",
   "metadata": {},
   "source": [
    "<a href=\"https://cloudevel.com\"> <img src=\"img/cloudevel.png\" width=\"500px\"></a>"
   ]
  },
  {
   "cell_type": "markdown",
   "metadata": {},
   "source": [
    "# Gestión de ramas."
   ]
  },
  {
   "cell_type": "markdown",
   "metadata": {},
   "source": [
    "Otra de las características primordiales de *Git* es su capacidad de poder separar flujos de trabajo en \"ramas\", la cuales pueden bifurcarse de una rama principal e incluso podrían converger en otro momento.\n",
    "\n",
    "La combinación de *commits* y ramas permiten crear flujos de trabajo colaborativos muy eficientes en el desarrolo de un proyecto de software.\n",
    "\n",
    "Además de que las ramas de un repositorio de *Git* cuentan con un *hash* identificador, a las rama se les asigna una etiqueta para identificarlas."
   ]
  },
  {
   "cell_type": "markdown",
   "metadata": {},
   "source": [
    "## Preliminares."
   ]
  },
  {
   "cell_type": "markdown",
   "metadata": {},
   "source": [
    "Antes de empezar este capítulo es necesario recrear el reopsitorio ```demo``` a partir del archivo ```src/03/demo.zip```."
   ]
  },
  {
   "cell_type": "code",
   "execution_count": null,
   "metadata": {},
   "outputs": [],
   "source": [
    "rm -rf demo"
   ]
  },
  {
   "cell_type": "code",
   "execution_count": null,
   "metadata": {},
   "outputs": [],
   "source": [
    "unzip -q src/03/demo.zip"
   ]
  },
  {
   "cell_type": "code",
   "execution_count": null,
   "metadata": {},
   "outputs": [],
   "source": [
    "cd demo"
   ]
  },
  {
   "cell_type": "markdown",
   "metadata": {},
   "source": [
    "* El repositorio ```demo``` contiene una rama ```main``` con una sucesión de ```commits``` descritos en la siguiente imagen.\n",
    "\n",
    "<img src=\"img/03/main.svg\">"
   ]
  },
  {
   "cell_type": "code",
   "execution_count": null,
   "metadata": {},
   "outputs": [],
   "source": [
    "git log --graph --oneline"
   ]
  },
  {
   "cell_type": "markdown",
   "metadata": {},
   "source": [
    "## La rama principal ```main``` o ```master```."
   ]
  },
  {
   "cell_type": "markdown",
   "metadata": {},
   "source": [
    "Al momento de inicializar un repositorio local de *Git* mediante ```git init```, se crea una rama principal, la cual tiene como etiqueta por defecto a ```master```. \n",
    "\n",
    "Debido a las implicaciones raciales que la palabra ```master``` conlleva, recientemente se ha optado por inicializar la rama principal de un repositorio como ```main```, por lo que es común encontrar ambos  nombres."
   ]
  },
  {
   "cell_type": "markdown",
   "metadata": {},
   "source": [
    "## Referencias del *HEAD commit* en cada rama."
   ]
  },
  {
   "cell_type": "markdown",
   "metadata": {},
   "source": [
    "Cada rama de un repositorio puede tener un ```HEAD Commit``` distinto. Cada vez que se cambia a una rama, el directorio de trabajo se sincroniza con el ```HEAD Commit``` de la  rama a la que se accede.\n",
    "\n",
    "El *hash* identificador del ```HEAD Commit``` de cada rama es guardado en un archivo de texto en el subdirectorio ```.git/refs/heads``` cuyo nombre es la etiqueta de la rama.\n",
    "\n",
    "**Nota:** El directorio de trabajo sólo puede estar sincronizado con el *HEAD Commit* de una rama a la vez."
   ]
  },
  {
   "cell_type": "markdown",
   "metadata": {},
   "source": [
    "* La siguente celda traerá la estructura del subdirectorio ```.git/refs``` del directorio actual que es ```demo```.\n",
    "* Debido a que en el repositorio sólo existe la rama ```main```, la estructura será similar a la siguiente:\n",
    "\n",
    "``` bash\n",
    ".git/refs/heads\n",
    "└── main\n",
    "\n",
    "0 directories, 1 file\n",
    "```"
   ]
  },
  {
   "cell_type": "code",
   "execution_count": null,
   "metadata": {},
   "outputs": [],
   "source": [
    "tree .git/refs/heads"
   ]
  },
  {
   "cell_type": "markdown",
   "metadata": {},
   "source": [
    "* El archivo ```.git/refs/heads/main``` contiene el *hash* identificador del *HEAD commit* de la rama ```main```."
   ]
  },
  {
   "cell_type": "code",
   "execution_count": null,
   "metadata": {},
   "outputs": [],
   "source": [
    "cat .git/refs/heads/main"
   ]
  },
  {
   "cell_type": "markdown",
   "metadata": {},
   "source": [
    "## La variable ```HEAD```."
   ]
  },
  {
   "cell_type": "markdown",
   "metadata": {},
   "source": [
    "La variable ```HEAD```corresponde al *HEAD Commit* de la rama actual. \n",
    "\n",
    "El valor de la variable ```HEAD``` se almacena en el archivo ```.git/HEAD```."
   ]
  },
  {
   "cell_type": "markdown",
   "metadata": {},
   "source": [
    "**Ejemplo:**"
   ]
  },
  {
   "cell_type": "markdown",
   "metadata": {},
   "source": [
    "* La siguiente celda mostrará el contenido de la variable ```HEAD``` del repositorio actual y contiene la cadena ```refs/heads/main```."
   ]
  },
  {
   "cell_type": "code",
   "execution_count": null,
   "metadata": {
    "scrolled": true
   },
   "outputs": [],
   "source": [
    "cat .git/HEAD"
   ]
  },
  {
   "cell_type": "markdown",
   "metadata": {},
   "source": [
    "* La siguiente celda mostrará el contenido del archivo  ```.git/refs/heads/main``` del repositorio actual correspondiente a la cadena de caracteres ```2405b5ade4ac710fcf18cd1091b8100d9b4e093f```."
   ]
  },
  {
   "cell_type": "code",
   "execution_count": null,
   "metadata": {
    "scrolled": true
   },
   "outputs": [],
   "source": [
    "cat .git/refs/heads/main"
   ]
  },
  {
   "cell_type": "markdown",
   "metadata": {},
   "source": [
    "* El comando ```git log``` despliega en su primera línea el *hash* identificador del ```commit``` al que apunta la variable ```HEAD```, así como la etiqueta de la rama a la que está ligado de forma similar a lo siguiente.\n",
    "\n",
    "```\n",
    "commit 2405b5ade4ac710fcf18cd1091b8100d9b4e093f (HEAD -> main)\n",
    "```"
   ]
  },
  {
   "cell_type": "code",
   "execution_count": null,
   "metadata": {
    "scrolled": false
   },
   "outputs": [],
   "source": [
    "git log"
   ]
  },
  {
   "cell_type": "markdown",
   "metadata": {},
   "source": [
    "## El comando ```git branch```."
   ]
  },
  {
   "cell_type": "markdown",
   "metadata": {},
   "source": [
    "El comando ```git branch``` es la herramienta principal para la gestión de ramas. Este comando tiene diversas sintaxis, pero por lo pronto sólo se explorará la siguiente:\n",
    "\n",
    "```\n",
    "git branch <opciones> <etiqueta>\n",
    "```\n",
    "\n",
    "Donde:\n",
    "* ```<etiqueta>``` es la etiqueta de una rama.\n",
    "* ```<opciones>``` es una combinación de una o más opciones. En caso de no tener opciones, el comando creará una rama nueva, asignándole la etiqueta definida por <etiqueta>.\n",
    "    \n",
    "La referencia del comando ```git branch``` puede ser consultada en:\n",
    "    \n",
    "https://git-scm.com/docs/git-branch"
   ]
  },
  {
   "cell_type": "markdown",
   "metadata": {},
   "source": [
    "### Listado simple de las ramas de un repositorio.\n",
    "\n",
    "Para listar las ramas de un repositorio se utilizan los siguientes comandos.\n",
    "\n",
    "```\n",
    "git branch <ruta>\n",
    "```\n",
    "\n",
    "La rama actual está precedida por un asterisco ```*```.\n",
    "\n",
    "También es posible usar los opciones ```--list``` o ```-l```."
   ]
  },
  {
   "cell_type": "markdown",
   "metadata": {},
   "source": [
    "**Ejemplos:**"
   ]
  },
  {
   "cell_type": "markdown",
   "metadata": {},
   "source": [
    "* La siguiente celda regresará la lista de las ramas del repositorio actual. En este caso, sólo exite la rama ```main```."
   ]
  },
  {
   "cell_type": "code",
   "execution_count": null,
   "metadata": {
    "scrolled": true
   },
   "outputs": [],
   "source": [
    "git branch"
   ]
  },
  {
   "cell_type": "markdown",
   "metadata": {},
   "source": [
    "### Creación de una rama.\n",
    "\n",
    "La creación de una rama consiste en bifurcar la historia de *commits* a partir de una rama de origen. \n",
    "\n",
    "La rama nueva compartirá la misma historia que su rama de origen hasta el momento de su separación.\n",
    "\n",
    "Para crear una rama se utiliza la siguiente sintaxis.\n",
    "\n",
    "```\n",
    "git branch <etiqueta>\n",
    "```\n",
    "\n",
    "Donde:\n",
    "\n",
    "* ```<etiqueta>``` es la etiqueta de la rama."
   ]
  },
  {
   "cell_type": "markdown",
   "metadata": {},
   "source": [
    "**Ejemplo:**"
   ]
  },
  {
   "cell_type": "markdown",
   "metadata": {},
   "source": [
    "* La siguente celda creará una rama con la etiqueta ```nueva-rama```."
   ]
  },
  {
   "cell_type": "code",
   "execution_count": null,
   "metadata": {},
   "outputs": [],
   "source": [
    "git branch nueva-rama"
   ]
  },
  {
   "cell_type": "markdown",
   "metadata": {},
   "source": [
    "<img src=\"img/03/nueva-rama.png\" width=\"400\">"
   ]
  },
  {
   "cell_type": "markdown",
   "metadata": {},
   "source": [
    "* La siguiente celda listará todas las ramas del repositorio."
   ]
  },
  {
   "cell_type": "code",
   "execution_count": null,
   "metadata": {},
   "outputs": [],
   "source": [
    "git branch"
   ]
  },
  {
   "cell_type": "markdown",
   "metadata": {},
   "source": [
    "* La siguiente celda listará todas las ramas del repositorio que empiecen con ```n```."
   ]
  },
  {
   "cell_type": "code",
   "execution_count": null,
   "metadata": {
    "scrolled": false
   },
   "outputs": [],
   "source": [
    "git branch --list \"n*\""
   ]
  },
  {
   "cell_type": "markdown",
   "metadata": {},
   "source": [
    "* Al ejecutar el comando ```git log``` es posible apreciar que tanto ```main``` como ```nueva-rama``` comparten el *HEAD Commit* con el mensaje ```cuarto commit```. \n",
    "\n",
    "```\n",
    "commit 2405b5ade4ac710fcf18cd1091b8100d9b4e093f (HEAD -> main, nueva-rama)\n",
    "```"
   ]
  },
  {
   "cell_type": "code",
   "execution_count": null,
   "metadata": {},
   "outputs": [],
   "source": [
    "git log"
   ]
  },
  {
   "cell_type": "markdown",
   "metadata": {},
   "source": [
    "* Ahora la estructura de  ```.git/refs/heads``` es similar a lo siguiente:\n",
    "\n",
    "```\n",
    ".git/refs/heads\n",
    "├── main\n",
    "└── nueva-rama\n",
    "```"
   ]
  },
  {
   "cell_type": "code",
   "execution_count": null,
   "metadata": {
    "scrolled": true
   },
   "outputs": [],
   "source": [
    "tree .git/refs/heads"
   ]
  },
  {
   "cell_type": "markdown",
   "metadata": {},
   "source": [
    "* El *HEAD Commit* tanto de la rama ```main``` como de la rama ```nueva-rama``` es el mismo."
   ]
  },
  {
   "cell_type": "code",
   "execution_count": null,
   "metadata": {},
   "outputs": [],
   "source": [
    "cat .git/refs/heads/main"
   ]
  },
  {
   "cell_type": "code",
   "execution_count": null,
   "metadata": {
    "scrolled": true
   },
   "outputs": [],
   "source": [
    "cat .git/refs/heads/nueva-rama"
   ]
  },
  {
   "cell_type": "markdown",
   "metadata": {},
   "source": [
    "### Eliminación de una rama.\n",
    "\n",
    "Para eliminar una rama se utiliza la siguiente sintaxis.\n",
    "\n",
    "```\n",
    "git branch -d <etiqueta>\n",
    "```\n",
    "\n",
    "\n",
    "Donde:\n",
    "\n",
    "* ```<etiqueta>``` es la etiqueta de la rama."
   ]
  },
  {
   "cell_type": "markdown",
   "metadata": {},
   "source": [
    "*  La siguiente celda eliminará la rama con etiqueta ```nueva-rama```"
   ]
  },
  {
   "cell_type": "code",
   "execution_count": null,
   "metadata": {},
   "outputs": [],
   "source": [
    "git branch -d nueva-rama"
   ]
  },
  {
   "cell_type": "markdown",
   "metadata": {},
   "source": [
    "<img src=\"img/03/main.svg\" width=\"400\">"
   ]
  },
  {
   "cell_type": "code",
   "execution_count": null,
   "metadata": {
    "scrolled": false
   },
   "outputs": [],
   "source": [
    "git branch"
   ]
  },
  {
   "cell_type": "markdown",
   "metadata": {},
   "source": [
    "## Desplazamiento entre ramas."
   ]
  },
  {
   "cell_type": "markdown",
   "metadata": {},
   "source": [
    "El desplazamiento entre ramas se puede realizar indsitintamente usando los comandos.\n",
    "\n",
    "* ```git checkout```\n",
    "* ```git switch```"
   ]
  },
  {
   "cell_type": "markdown",
   "metadata": {},
   "source": [
    "### El comando ```git checkout```.\n",
    "\n",
    "El comando ```git checkout``` permite desplazar el repositorio a una rama o a un *commit*.\n",
    "\n",
    "El comando ```git checkout```  también permite restaurar un archivo desde un *commit* específico al estado actual del repositorio, pero esta funcionalidad se estudiará más tarde.\n",
    "\n",
    "Para cambiar de una rama a otra se utiliza el comando git checkout con la siguiente sintaxis:\n",
    "\n",
    "```\n",
    "git checkout <destino> <opcions>\n",
    "```\n",
    "Donde:\n",
    "\n",
    "* ```<destino>``` corresponde a la etiqueta de la rama o al *hash* identificador del commit de destino.\n",
    "\n",
    "La documentación puede ser consultada en:\n",
    "\n",
    "https://git-scm.com/docs/git-checkout"
   ]
  },
  {
   "cell_type": "markdown",
   "metadata": {},
   "source": [
    "### El comando ```git switch```.\n",
    "\n",
    "El comando ```git checkout``` permite desplazar el repositorio a una rama. Se usa este comando debido a que la doble funcionalidad de ```git checkout``` puede ser confusa.\n",
    "\n",
    "Para cambiar de una rama a otra se utiliza el comando git checkout con la siguiente sintaxis:\n",
    "\n",
    "```\n",
    "git switch <rama> <opciones>\n",
    "```\n",
    "\n",
    "Donde:\n",
    "\n",
    "* ```<rama>``` corresponde a la etiqueta de la rama de destino.\n",
    "\n",
    "La documentación puede ser consultada en:\n",
    "\n",
    "https://git-scm.com/docs/git-switch"
   ]
  },
  {
   "cell_type": "markdown",
   "metadata": {},
   "source": [
    "* La siguiente celda creará una nueva rama con etiqueta ```segunda```."
   ]
  },
  {
   "cell_type": "code",
   "execution_count": null,
   "metadata": {},
   "outputs": [],
   "source": [
    "git branch segunda"
   ]
  },
  {
   "cell_type": "code",
   "execution_count": null,
   "metadata": {},
   "outputs": [],
   "source": [
    "git branch"
   ]
  },
  {
   "cell_type": "markdown",
   "metadata": {},
   "source": [
    "<img src=\"img/03/segunda.png\" width=\"400\">"
   ]
  },
  {
   "cell_type": "markdown",
   "metadata": {},
   "source": [
    "* La siguiente celda moverá el repositorio a la rama ```segunda```."
   ]
  },
  {
   "cell_type": "code",
   "execution_count": null,
   "metadata": {},
   "outputs": [],
   "source": [
    "git switch segunda"
   ]
  },
  {
   "cell_type": "code",
   "execution_count": null,
   "metadata": {},
   "outputs": [],
   "source": [
    "git status"
   ]
  },
  {
   "cell_type": "code",
   "execution_count": null,
   "metadata": {},
   "outputs": [],
   "source": [
    "git branch"
   ]
  },
  {
   "cell_type": "markdown",
   "metadata": {},
   "source": [
    "* Debido a que es una rama nueva, no se ven diferencias con respecto a la rama ```master```."
   ]
  },
  {
   "cell_type": "code",
   "execution_count": null,
   "metadata": {
    "scrolled": true
   },
   "outputs": [],
   "source": [
    "ls -a"
   ]
  },
  {
   "cell_type": "markdown",
   "metadata": {},
   "source": [
    "* Esto se debe a que la rama ```nueva``` comparte el mismo *HEAD commit*."
   ]
  },
  {
   "cell_type": "code",
   "execution_count": null,
   "metadata": {},
   "outputs": [],
   "source": [
    "git log --graph --oneline"
   ]
  },
  {
   "cell_type": "markdown",
   "metadata": {},
   "source": [
    "* Ahora se creará el archivo ```archivo_nuevo```."
   ]
  },
  {
   "cell_type": "code",
   "execution_count": null,
   "metadata": {},
   "outputs": [],
   "source": [
    "echo \"Archivo de la segunda rama.\" > archivo_nuevo"
   ]
  },
  {
   "cell_type": "code",
   "execution_count": null,
   "metadata": {},
   "outputs": [],
   "source": [
    "cat archivo_nuevo"
   ]
  },
  {
   "cell_type": "code",
   "execution_count": null,
   "metadata": {},
   "outputs": [],
   "source": [
    "ls -a"
   ]
  },
  {
   "cell_type": "markdown",
   "metadata": {},
   "source": [
    "* Se añadirán todos los cambios al área de preparación."
   ]
  },
  {
   "cell_type": "code",
   "execution_count": null,
   "metadata": {},
   "outputs": [],
   "source": [
    "git add --all"
   ]
  },
  {
   "cell_type": "markdown",
   "metadata": {},
   "source": [
    "* Se hará el primer commit en la rama ```segunda```."
   ]
  },
  {
   "cell_type": "code",
   "execution_count": null,
   "metadata": {},
   "outputs": [],
   "source": [
    "git commit -m \"primer commit de segunda\""
   ]
  },
  {
   "cell_type": "markdown",
   "metadata": {},
   "source": [
    "<img src=\"img/03/primer_commit_de_segunda.png\" width=\"600\">"
   ]
  },
  {
   "cell_type": "markdown",
   "metadata": {},
   "source": [
    "* Al ejecutar el comando ```git log --graph --oneline``` el resultado será similar a los siguiente.\n",
    "\n",
    "```\n",
    "61db1a4 (HEAD -> segunda) primer commit de segunda\n",
    "2405b5a (main) cuarto commit\n",
    "de4e044 segundo commit\n",
    "2020250 primer commit\n",
    "```\n",
    "\n",
    "Ahora el *commit* se ve reflejado en la rama ```nueva```."
   ]
  },
  {
   "cell_type": "code",
   "execution_count": null,
   "metadata": {},
   "outputs": [],
   "source": [
    "git log --graph --oneline"
   ]
  },
  {
   "cell_type": "markdown",
   "metadata": {},
   "source": [
    "* La siguiente celda mostrará los archivos del directorio de trabajo."
   ]
  },
  {
   "cell_type": "code",
   "execution_count": null,
   "metadata": {
    "scrolled": true
   },
   "outputs": [],
   "source": [
    "ls -a"
   ]
  },
  {
   "cell_type": "markdown",
   "metadata": {},
   "source": [
    "* La siguiente celda mostrará los objetos ligados a la rama actual."
   ]
  },
  {
   "cell_type": "code",
   "execution_count": null,
   "metadata": {},
   "outputs": [],
   "source": [
    "git ls-files -s"
   ]
  },
  {
   "cell_type": "markdown",
   "metadata": {},
   "source": [
    "* Ahora se moverá el repositorio a la rama ```main```."
   ]
  },
  {
   "cell_type": "code",
   "execution_count": null,
   "metadata": {
    "scrolled": true
   },
   "outputs": [],
   "source": [
    "git checkout main"
   ]
  },
  {
   "cell_type": "markdown",
   "metadata": {},
   "source": [
    "* El directorio de trabajo se sincroniza con el *HEAD commit* de la rama."
   ]
  },
  {
   "cell_type": "code",
   "execution_count": null,
   "metadata": {
    "scrolled": true
   },
   "outputs": [],
   "source": [
    "ls -a"
   ]
  },
  {
   "cell_type": "markdown",
   "metadata": {},
   "source": [
    "* La siguiente celda mostrará los objetos ligados a la rama actual."
   ]
  },
  {
   "cell_type": "code",
   "execution_count": null,
   "metadata": {},
   "outputs": [],
   "source": [
    "git ls-files -s"
   ]
  },
  {
   "cell_type": "markdown",
   "metadata": {},
   "source": [
    "* Se modificará al archivo ```archivo-1```"
   ]
  },
  {
   "cell_type": "code",
   "execution_count": null,
   "metadata": {},
   "outputs": [],
   "source": [
    "cat archivo-1"
   ]
  },
  {
   "cell_type": "code",
   "execution_count": null,
   "metadata": {},
   "outputs": [],
   "source": [
    "echo \"Otra linea\" >> archivo-1"
   ]
  },
  {
   "cell_type": "code",
   "execution_count": null,
   "metadata": {},
   "outputs": [],
   "source": [
    "cat archivo-1"
   ]
  },
  {
   "cell_type": "markdown",
   "metadata": {},
   "source": [
    "* Se hará un *commit* nuevo con el mensaje ```quinto commit```."
   ]
  },
  {
   "cell_type": "code",
   "execution_count": null,
   "metadata": {},
   "outputs": [],
   "source": [
    "git commit -am \"quinto commit\""
   ]
  },
  {
   "cell_type": "markdown",
   "metadata": {},
   "source": [
    "<img src=\"img/03/quinto_commit.png\" width=\"600\">"
   ]
  },
  {
   "cell_type": "markdown",
   "metadata": {},
   "source": [
    "* Al ejecutar el comando ```git log --oneline``` el resultado será similar a los siguiente.\n",
    "\n",
    "```\n",
    "b5f3cc9 (HEAD -> main) quinto commit\n",
    "2405b5a cuarto commit\n",
    "de4e044 segundo commit\n",
    "2020250 primer commit\n",
    "```\n"
   ]
  },
  {
   "cell_type": "code",
   "execution_count": null,
   "metadata": {},
   "outputs": [],
   "source": [
    "git log --oneline"
   ]
  },
  {
   "cell_type": "markdown",
   "metadata": {},
   "source": [
    "## Visualización de diferencias entre ramas.\n",
    "\n",
    "El comando ```git diff``` puede visualizar las diferencias entre ramas de manera similar a como lo hace con los commits.\n",
    "\n",
    "```\n",
    "git diff <etiqueta 1> <etiqueta 2>\n",
    "```\n",
    "\n",
    "Donde:\n",
    "\n",
    "* ```<etiqueta 1>```y  ```<etiqueta 2>``` son etiquetas de ramas."
   ]
  },
  {
   "cell_type": "markdown",
   "metadata": {},
   "source": [
    "**Ejemplo:**"
   ]
  },
  {
   "cell_type": "markdown",
   "metadata": {},
   "source": [
    "* La siguiente celda desplegará las diferencias entre el *HEAD commit* de la rama ```main```y el de la rama ```segunda```."
   ]
  },
  {
   "cell_type": "code",
   "execution_count": null,
   "metadata": {},
   "outputs": [],
   "source": [
    "git diff main segunda"
   ]
  },
  {
   "cell_type": "markdown",
   "metadata": {},
   "source": [
    "* Al igual que con los *commits*, es posible especificar el archivo que se quiere observar."
   ]
  },
  {
   "cell_type": "code",
   "execution_count": null,
   "metadata": {
    "scrolled": true
   },
   "outputs": [],
   "source": [
    "git diff main segunda archivo-1"
   ]
  },
  {
   "cell_type": "markdown",
   "metadata": {},
   "source": [
    "## El comando ```git merge```.\n",
    "\n",
    "Este comando combina el *HEAD commit* de una rama con el de la rama actual.\n",
    "\n",
    "La sintaxis es la siguiente:\n",
    "\n",
    "``` bash \n",
    "git merge <rama>\n",
    "```\n",
    "\n",
    "Donde:\n",
    "* ```<rama>``` es la etiqueta de la rama que se fusionará con la actual. \n",
    "\n",
    "El resultado es que los contenidos de ambas ramas serán combinados y se creará un *commit*.\n",
    "\n",
    "La referencia del comando ```git merge``` puede ser consultada en:\n",
    "\n",
    "https://git-scm.com/docs/git-merge"
   ]
  },
  {
   "cell_type": "markdown",
   "metadata": {},
   "source": [
    "### Estrategias de fusión (*merge*).\n",
    "\n",
    "Existen varias estrategias de fusión de ramas. Los siguientes enlaces contienen documentacion relacionada.\n",
    "\n",
    "* https://git-scm.com/docs/merge-strategies#Documentation/merge-strategies.txt-ours\n",
    "* https://www.atlassian.com/git/tutorials/using-branches/merge-strategy"
   ]
  },
  {
   "cell_type": "markdown",
   "metadata": {},
   "source": [
    "### Gestión de conflictos.\n",
    "\n",
    "Es muy común que puedan ocurrir conflictos al realizar un merge, particularmente cuando dos desarrolladores editan el mismo archivo.\n",
    "\n",
    "https://www.atlassian.com/git/tutorials/using-branches/merge-conflicts"
   ]
  },
  {
   "cell_type": "markdown",
   "metadata": {},
   "source": [
    "**Ejemplo:**"
   ]
  },
  {
   "cell_type": "markdown",
   "metadata": {},
   "source": [
    "* A continuación se mezclarán los contenidos de la rama ```segunda``` en la rama actual (```main```). \n",
    "* La opción ```-m``` permite ingresar un mensaje."
   ]
  },
  {
   "cell_type": "code",
   "execution_count": null,
   "metadata": {
    "scrolled": false
   },
   "outputs": [],
   "source": [
    "git merge segunda -m \"commit fusionado\""
   ]
  },
  {
   "cell_type": "markdown",
   "metadata": {},
   "source": [
    "<img src=\"img/03/commit_fusionado.png\">"
   ]
  },
  {
   "cell_type": "markdown",
   "metadata": {},
   "source": [
    "* El directorio de trabajo se ajusta a la fusión."
   ]
  },
  {
   "cell_type": "code",
   "execution_count": null,
   "metadata": {},
   "outputs": [],
   "source": [
    "ls"
   ]
  },
  {
   "cell_type": "markdown",
   "metadata": {},
   "source": [
    "* La siguiente celda muesta los objetos ligados a la rama."
   ]
  },
  {
   "cell_type": "code",
   "execution_count": null,
   "metadata": {},
   "outputs": [],
   "source": [
    "git ls-files -s"
   ]
  },
  {
   "cell_type": "code",
   "execution_count": null,
   "metadata": {
    "scrolled": true
   },
   "outputs": [],
   "source": [
    "git status"
   ]
  },
  {
   "cell_type": "markdown",
   "metadata": {},
   "source": [
    "* La siguiente celda mostrará el grafo que decribe la historia de las dos ramas desde su separación hasta el *merge*."
   ]
  },
  {
   "cell_type": "code",
   "execution_count": null,
   "metadata": {
    "scrolled": true
   },
   "outputs": [],
   "source": [
    "git log --graph --oneline"
   ]
  },
  {
   "cell_type": "markdown",
   "metadata": {},
   "source": [
    "##  Desplazamiento a un *commit* específico.\n",
    "\n",
    "Es posible sincronizar al directorio de trabajo al estado de un *commit* específico mediante el comando ```git checkout```.\n",
    "\n",
    "```bash\n",
    "git checkout <identificador>\n",
    "```\n",
    "\n",
    "Donde:\n",
    "\n",
    "* ```<identificador>``` corresponde al *hash* identificador del *commit* al que se sincronizará el repositorio.\n",
    "\n",
    "El directorio de trabajo se sincronizará con el estado de los objetos del *commit* referenciado, pero el repositorio estará en un estado intermedio que se conoce como *detached HEAD*. "
   ]
  },
  {
   "cell_type": "markdown",
   "metadata": {},
   "source": [
    "**Ejemplo:**"
   ]
  },
  {
   "cell_type": "markdown",
   "metadata": {},
   "source": [
    "* Si siguiente celda sincronizará al repositorio al estado del *commit* con descripción ```cuarto commit``` y se desplegaría una nota similar a la siguiente:\n",
    "\n",
    "```\n",
    "Note: switching to '2405b5'.\n",
    "\n",
    "You are in 'detached HEAD' state. You can look around, make experimental\n",
    "changes and commit them, and you can discard any commits you make in this\n",
    "state without impacting any branches by switching back to a branch.\n",
    "\n",
    "If you want to create a new branch to retain commits you create, you may\n",
    "do so (now or later) by using -c with the switch command. Example:\n",
    "\n",
    "  git switch -c <new-branch-name>\n",
    "\n",
    "Or undo this operation with:\n",
    "\n",
    "  git switch -\n",
    "\n",
    "Turn off this advice by setting config variable advice.detachedHead to false\n",
    "\n",
    "HEAD is now at 2405b5a cuarto commit\n",
    "\n",
    "```"
   ]
  },
  {
   "cell_type": "code",
   "execution_count": null,
   "metadata": {},
   "outputs": [],
   "source": [
    "git checkout 2405b5"
   ]
  },
  {
   "cell_type": "markdown",
   "metadata": {},
   "source": [
    "<img src=\"img/03/detached_head.png\">"
   ]
  },
  {
   "cell_type": "markdown",
   "metadata": {},
   "source": [
    "* El estado *detached HEAD* no está ligado a ninguna rama. Sin embargo, es posible hacer modificaciones al directorio de trabajo e incluso hacer *commits*."
   ]
  },
  {
   "cell_type": "code",
   "execution_count": null,
   "metadata": {},
   "outputs": [],
   "source": [
    "git branch"
   ]
  },
  {
   "cell_type": "code",
   "execution_count": null,
   "metadata": {
    "scrolled": true
   },
   "outputs": [],
   "source": [
    "git status"
   ]
  },
  {
   "cell_type": "markdown",
   "metadata": {},
   "source": [
    "* El estado de los archivos del directorio de trabajo y de los objetos relacionados con el *commit* en cuestión son sincronizados."
   ]
  },
  {
   "cell_type": "code",
   "execution_count": null,
   "metadata": {
    "scrolled": true
   },
   "outputs": [],
   "source": [
    "git log --graph --oneline"
   ]
  },
  {
   "cell_type": "code",
   "execution_count": null,
   "metadata": {},
   "outputs": [],
   "source": [
    "ls"
   ]
  },
  {
   "cell_type": "code",
   "execution_count": null,
   "metadata": {},
   "outputs": [],
   "source": [
    "git ls-files"
   ]
  },
  {
   "cell_type": "markdown",
   "metadata": {},
   "source": [
    "## Creación de una rama a partir de *detached HEAD*."
   ]
  },
  {
   "cell_type": "markdown",
   "metadata": {},
   "source": [
    "Es posible utilizar dos sintaxis para crear una rama a partir de *detached HEAD*.\n",
    "\n",
    "```\n",
    "git checkout -b <etiqueta>\n",
    "```\n",
    "o\n",
    "```\n",
    "git switch -c <etiqueta>\n",
    "```\n",
    "\n",
    "Donde:\n",
    "\n",
    "* ```<etiqueta>``` es la etiqueta que se le asignará a la nueva rama."
   ]
  },
  {
   "cell_type": "markdown",
   "metadata": {},
   "source": [
    "**Ejemplo:**"
   ]
  },
  {
   "cell_type": "markdown",
   "metadata": {},
   "source": [
    "* Se creará la rama ```restituida``` a partir del estado ```detached HEAD``` y el repostorio se desplazará a dicha rama."
   ]
  },
  {
   "cell_type": "code",
   "execution_count": null,
   "metadata": {},
   "outputs": [],
   "source": [
    "git switch -c restituida"
   ]
  },
  {
   "cell_type": "markdown",
   "metadata": {},
   "source": [
    "<img src=\"img/03/restituida.png\">"
   ]
  },
  {
   "cell_type": "markdown",
   "metadata": {},
   "source": [
    "* Ahora la rama actual es ```restituida```"
   ]
  },
  {
   "cell_type": "code",
   "execution_count": null,
   "metadata": {
    "scrolled": true
   },
   "outputs": [],
   "source": [
    "git branch"
   ]
  },
  {
   "cell_type": "code",
   "execution_count": null,
   "metadata": {},
   "outputs": [],
   "source": [
    "git log --graph --oneline"
   ]
  },
  {
   "cell_type": "markdown",
   "metadata": {},
   "source": [
    "* En le directorio ```.git/refs/heads``` se pueden observar las referencias a las ramas existentes en el repositorio."
   ]
  },
  {
   "cell_type": "code",
   "execution_count": null,
   "metadata": {
    "scrolled": true
   },
   "outputs": [],
   "source": [
    "tree .git/refs/heads"
   ]
  },
  {
   "cell_type": "markdown",
   "metadata": {},
   "source": [
    "<p style=\"text-align: center\"><a rel=\"license\" href=\"http://creativecommons.org/licenses/by/4.0/\"><img alt=\"Licencia Creative Commons\" style=\"border-width:0\" src=\"https://i.creativecommons.org/l/by/4.0/80x15.png\" /></a><br />Esta obra está bajo una <a rel=\"license\" href=\"http://creativecommons.org/licenses/by/4.0/\">Licencia Creative Commons Atribución 4.0 Internacional</a>.</p>\n",
    "<p style=\"text-align: center\">&copy; José Luis Chiquete Valdivieso. 2023.</p>"
   ]
  }
 ],
 "metadata": {
  "kernelspec": {
   "display_name": "Bash",
   "language": "bash",
   "name": "bash"
  },
  "language_info": {
   "codemirror_mode": "shell",
   "file_extension": ".sh",
   "mimetype": "text/x-sh",
   "name": "bash"
  }
 },
 "nbformat": 4,
 "nbformat_minor": 2
}
