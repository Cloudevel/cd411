{
 "cells": [
  {
   "cell_type": "markdown",
   "metadata": {},
   "source": [
    "<a href=\"https://cloudevel.com\"> <img src=\"img/cloudevel.png\" width=\"500px\"></a>"
   ]
  },
  {
   "cell_type": "markdown",
   "metadata": {},
   "source": [
    "# Referencias."
   ]
  },
  {
   "cell_type": "markdown",
   "metadata": {},
   "source": [
    "## Preliminares.\n",
    "\n",
    "Antes de empezar este capítulo es necesario descomprimir el archivo ```src/07/prueba.zip```, el cual contiene una estructura similar al repositorio ```demo``` de capítulos previos."
   ]
  },
  {
   "cell_type": "code",
   "execution_count": 1,
   "metadata": {},
   "outputs": [],
   "source": [
    "rm -rf prueba"
   ]
  },
  {
   "cell_type": "code",
   "execution_count": 2,
   "metadata": {},
   "outputs": [
    {
     "name": "stdout",
     "output_type": "stream",
     "text": [
      "Archive:  src/07/prueba.zip\n",
      "   creating: prueba/\n",
      " extracting: prueba/archivo-2        \n",
      " extracting: prueba/archivo-1        \n",
      "   creating: prueba/.git/\n",
      "  inflating: prueba/.git/index       \n",
      "   creating: prueba/.git/refs/\n",
      "   creating: prueba/.git/refs/heads/\n",
      "  inflating: prueba/.git/refs/heads/master  \n",
      " extracting: prueba/.git/refs/heads/restituida  \n",
      " extracting: prueba/.git/refs/heads/nueva  \n",
      "   creating: prueba/.git/refs/tags/\n",
      "  inflating: prueba/.git/description  \n",
      "   creating: prueba/.git/info/\n",
      "  inflating: prueba/.git/info/exclude  \n",
      " extracting: prueba/.git/ORIG_HEAD   \n",
      " extracting: prueba/.git/COMMIT_EDITMSG  \n",
      "   creating: prueba/.git/objects/\n",
      "   creating: prueba/.git/objects/90/\n",
      " extracting: prueba/.git/objects/90/a8b80bbb845cb1187852777769937a9574e3ab  \n",
      "   creating: prueba/.git/objects/ed/\n",
      " extracting: prueba/.git/objects/ed/7d117fc8970b297653c23ebc41936cc4ab4472  \n",
      "   creating: prueba/.git/objects/pack/\n",
      "   creating: prueba/.git/objects/cb/\n",
      " extracting: prueba/.git/objects/cb/0b6bb3a84bc6fcd0f6a0f87909bf68f298e21a  \n",
      "   creating: prueba/.git/objects/2c/\n",
      " extracting: prueba/.git/objects/2c/b76ef80c41c0037c6a82092737cba6061c7083  \n",
      "   creating: prueba/.git/objects/info/\n",
      "   creating: prueba/.git/objects/e6/\n",
      " extracting: prueba/.git/objects/e6/9de29bb2d1d6434b8b29ae775ad8c2e48c5391  \n",
      "   creating: prueba/.git/objects/a1/\n",
      " extracting: prueba/.git/objects/a1/9abfea0f29b668c91c58c834b8965e6c37804f  \n",
      "   creating: prueba/.git/objects/dc/\n",
      " extracting: prueba/.git/objects/dc/d3ac8c60d63186964b45f87cc4416e6caefa5f  \n",
      "   creating: prueba/.git/objects/78/\n",
      " extracting: prueba/.git/objects/78/8564428c6076630b22efc89ad20c5f63ee9bf1  \n",
      "   creating: prueba/.git/objects/ba/\n",
      " extracting: prueba/.git/objects/ba/397e8f7c51f8dfdefa12250933811042df91a2  \n",
      "   creating: prueba/.git/objects/ff/\n",
      " extracting: prueba/.git/objects/ff/7ede1f3ce0201ae532684bbee157247c3a88b7  \n",
      "   creating: prueba/.git/objects/ac/\n",
      " extracting: prueba/.git/objects/ac/9103394fb02ee49adb4c05e2125174707fbb7d  \n",
      "   creating: prueba/.git/objects/1f/\n",
      " extracting: prueba/.git/objects/1f/1f5adbb5e6ff2e2ff651e352f21df0417defb2  \n",
      "   creating: prueba/.git/objects/08/\n",
      " extracting: prueba/.git/objects/08/34a0b252e02bc28bae34588e01f410ad771884  \n",
      "   creating: prueba/.git/objects/d7/\n",
      " extracting: prueba/.git/objects/d7/f0e7ba5cf079cdea1d7c8792e1432161f082c1  \n",
      "   creating: prueba/.git/objects/46/\n",
      " extracting: prueba/.git/objects/46/c8014e29a665bd0e883c9008ad4412f8933809  \n",
      "   creating: prueba/.git/objects/df/\n",
      " extracting: prueba/.git/objects/df/8a330f084618bdb823d99a6997d7be4b9efd15  \n",
      "   creating: prueba/.git/objects/b3/\n",
      " extracting: prueba/.git/objects/b3/890082fec489a5ecff76db4fd36cc10d4bc8d6  \n",
      "   creating: prueba/.git/branches/\n",
      "   creating: prueba/.git/logs/\n",
      "   creating: prueba/.git/logs/refs/\n",
      "   creating: prueba/.git/logs/refs/heads/\n",
      "  inflating: prueba/.git/logs/refs/heads/master  \n",
      "  inflating: prueba/.git/logs/refs/heads/restituida  \n",
      "  inflating: prueba/.git/logs/refs/heads/nueva  \n",
      "  inflating: prueba/.git/logs/HEAD   \n",
      " extracting: prueba/.git/HEAD        \n",
      "  inflating: prueba/.git/config      \n",
      "   creating: prueba/.git/hooks/\n",
      "  inflating: prueba/.git/hooks/post-update.sample  \n",
      "  inflating: prueba/.git/hooks/commit-msg.sample  \n",
      "  inflating: prueba/.git/hooks/pre-receive.sample  \n",
      "  inflating: prueba/.git/hooks/update.sample  \n",
      "  inflating: prueba/.git/hooks/pre-push.sample  \n",
      "  inflating: prueba/.git/hooks/fsmonitor-watchman.sample  \n",
      "  inflating: prueba/.git/hooks/prepare-commit-msg.sample  \n",
      "  inflating: prueba/.git/hooks/pre-applypatch.sample  \n",
      "  inflating: prueba/.git/hooks/pre-rebase.sample  \n",
      "  inflating: prueba/.git/hooks/applypatch-msg.sample  \n",
      "  inflating: prueba/.git/hooks/pre-commit.sample  \n",
      " extracting: prueba/archivo_nuevo    \n",
      " extracting: prueba/invisible        \n",
      " extracting: prueba/.gitignore       \n"
     ]
    }
   ],
   "source": [
    "unzip src/07/prueba.zip "
   ]
  },
  {
   "cell_type": "code",
   "execution_count": 3,
   "metadata": {},
   "outputs": [],
   "source": [
    "cd prueba"
   ]
  },
  {
   "cell_type": "code",
   "execution_count": 4,
   "metadata": {},
   "outputs": [
    {
     "name": "stdout",
     "output_type": "stream",
     "text": [
      "ff7ede1 (HEAD -> master) commit fusionado\n",
      "0834a0b quinto commit\n",
      "46c8014 (nueva) primer commit de la rama nueva\n",
      "ba397e8 (restituida) cuarto commit\n",
      "cb0b6bb segundo commit\n",
      "ed7d117 primer commit\n"
     ]
    }
   ],
   "source": [
    "git log --oneline"
   ]
  },
  {
   "cell_type": "code",
   "execution_count": 5,
   "metadata": {},
   "outputs": [
    {
     "name": "stdout",
     "output_type": "stream",
     "text": [
      "* master\n",
      "  nueva\n",
      "  restituida\n"
     ]
    }
   ],
   "source": [
    "git branch -l"
   ]
  },
  {
   "cell_type": "code",
   "execution_count": 6,
   "metadata": {},
   "outputs": [
    {
     "name": "stdout",
     "output_type": "stream",
     "text": [
      "archivo-1  archivo-2  archivo_nuevo  invisible\n"
     ]
    }
   ],
   "source": [
    "ls"
   ]
  },
  {
   "cell_type": "code",
   "execution_count": 7,
   "metadata": {},
   "outputs": [
    {
     "name": "stdout",
     "output_type": "stream",
     "text": [
      ".gitignore\n",
      "archivo-1\n",
      "archivo-2\n",
      "archivo_nuevo\n"
     ]
    }
   ],
   "source": [
    "git ls-files"
   ]
  },
  {
   "cell_type": "markdown",
   "metadata": {},
   "source": [
    "## La base de datos de *Git*.\n",
    "\n",
    "*Git* utiliza una \"base de datos\" que relaciona identificadores con objetos específicos.\n",
    "\n",
    "Estos objetos correspoden a:\n",
    "\n",
    "* Archivos.\n",
    "* Ramas.\n",
    "* Versiones.\n",
    "\n",
    "Cada objeto es relacionado a un [*hash*](https://es.wikipedia.org/wiki/Funci%C3%B3n_hash) único que será usado como identificador.\n",
    "\n",
    "Los hashes son difícles de memorizar y es por ello por lo que se han desarrollado esquemas de referencias y asignación de etiquetas.\n",
    "\n",
    "https://git-scm.com/book/es/v2/Los-entresijos-internos-de-Git-Referencias-Git"
   ]
  },
  {
   "cell_type": "markdown",
   "metadata": {},
   "source": [
    "## Referencias.\n",
    "\n",
    "Las referencias se encuentran en el directorio ```.git/refs```  en un estructura con los directorios:\n",
    "* ```.git/refs/heads```, el cual contienen las referencias a las \"cabezas\"\n",
    " de cada rama del repositorio. Las \"cabezas\" corresponden al commit más reciente en el que se enuentra una rama.\n",
    "* ```git/refs/tags```, el cual contiene las referencias a etiquetas asignadas a ciertos objetos de Git.\n"
   ]
  },
  {
   "cell_type": "markdown",
   "metadata": {},
   "source": [
    "**Ejemplo:**"
   ]
  },
  {
   "cell_type": "markdown",
   "metadata": {},
   "source": [
    "* La siguiente celda mostrará la estructura del directorio ```.git/refs``` del repositorio en el que se encuentra esta notebook.\n",
    "\n",
    "* El resultado para el repositorio ```prueba``` sería algo similar a:\n",
    "\n",
    "```\n",
    ".git/refs\n",
    "├── heads\n",
    "│   ├── master\n",
    "│   ├── nueva\n",
    "│   └── restituida\n",
    "└── tags\n",
    "\n",
    "2 directories, 3 files\n",
    "```"
   ]
  },
  {
   "cell_type": "code",
   "execution_count": 8,
   "metadata": {},
   "outputs": [
    {
     "name": "stdout",
     "output_type": "stream",
     "text": [
      ".git/refs\n",
      "├── heads\n",
      "│   ├── master\n",
      "│   ├── nueva\n",
      "│   └── restituida\n",
      "└── tags\n",
      "\n",
      "2 directories, 3 files\n"
     ]
    }
   ],
   "source": [
    "tree .git/refs"
   ]
  },
  {
   "cell_type": "markdown",
   "metadata": {},
   "source": [
    "* Como se puede apreciar, el directorio ```.git/refs/heads/``` contiene un archivo con el nombre de cada rama del directorio. Cada unos de estos archivos contiene el identificador del commit más reciente de cada rama."
   ]
  },
  {
   "cell_type": "markdown",
   "metadata": {},
   "source": [
    "**Ejemplo:**"
   ]
  },
  {
   "cell_type": "markdown",
   "metadata": {},
   "source": [
    "* La siguiente celda regresará el contenido del archivo ```.git/refs/heads/restituida```. El cual corresponde identificador del commit con descripción ```cuarto commit```."
   ]
  },
  {
   "cell_type": "code",
   "execution_count": 9,
   "metadata": {
    "scrolled": true
   },
   "outputs": [
    {
     "name": "stdout",
     "output_type": "stream",
     "text": [
      "ba397e8f7c51f8dfdefa12250933811042df91a2\n"
     ]
    }
   ],
   "source": [
    "cat .git/refs/heads/restituida"
   ]
  },
  {
   "cell_type": "markdown",
   "metadata": {},
   "source": [
    "* La siguiente celda aplicará el comando ```git show``` al contenido de ```.git/refs/heads/restituida```."
   ]
  },
  {
   "cell_type": "code",
   "execution_count": 10,
   "metadata": {
    "scrolled": false
   },
   "outputs": [
    {
     "name": "stdout",
     "output_type": "stream",
     "text": [
      "commit ba397e8f7c51f8dfdefa12250933811042df91a2 (restituida)\n",
      "Author: Jose Luis Chiquete <josech@gmail.com>\n",
      "Date:   Tue Dec 17 12:39:12 2019 -0600\n",
      "\n",
      "    cuarto commit\n",
      "\n",
      "diff --git a/archivo-1 b/archivo-1\n",
      "index e69de29..a19abfe 100644\n",
      "--- a/archivo-1\n",
      "+++ b/archivo-1\n",
      "@@ -0,0 +1 @@\n",
      "+Hola\n"
     ]
    }
   ],
   "source": [
    "cat .git/refs/heads/restituida | xargs git show"
   ]
  },
  {
   "cell_type": "code",
   "execution_count": 11,
   "metadata": {},
   "outputs": [
    {
     "name": "stdout",
     "output_type": "stream",
     "text": [
      "commit ff7ede1f3ce0201ae532684bbee157247c3a88b7 (HEAD -> master)\n",
      "Merge: 0834a0b 46c8014\n",
      "Author: Jose Luis Chiquete <josech@gmail.com>\n",
      "Date:   Tue Dec 17 12:46:44 2019 -0600\n",
      "\n",
      "    commit fusionado\n",
      "\n"
     ]
    }
   ],
   "source": [
    "cat .git/refs/heads/master | xargs git show"
   ]
  },
  {
   "cell_type": "code",
   "execution_count": 12,
   "metadata": {},
   "outputs": [
    {
     "name": "stdout",
     "output_type": "stream",
     "text": [
      "commit 46c8014e29a665bd0e883c9008ad4412f8933809 (nueva)\n",
      "Author: Jose Luis Chiquete <josech@gmail.com>\n",
      "Date:   Tue Dec 17 12:44:46 2019 -0600\n",
      "\n",
      "    primer commit de la rama nueva\n",
      "\n",
      "diff --git a/archivo_nuevo b/archivo_nuevo\n",
      "new file mode 100644\n",
      "index 0000000..df8a330\n",
      "--- /dev/null\n",
      "+++ b/archivo_nuevo\n",
      "@@ -0,0 +1 @@\n",
      "+Archivo de la rama nueva.\n"
     ]
    }
   ],
   "source": [
    "cat .git/refs/heads/nueva | xargs git show"
   ]
  },
  {
   "cell_type": "markdown",
   "metadata": {},
   "source": [
    "### La variable ```HEAD```.\n",
    "\n",
    "*Git* le asigna a la variable ```HEAD``` el valor de la cabeza de la rama en la que se encuentra un repositorio."
   ]
  },
  {
   "cell_type": "markdown",
   "metadata": {},
   "source": [
    "**Ejemplo:**"
   ]
  },
  {
   "cell_type": "markdown",
   "metadata": {},
   "source": [
    "* El comando ```git show``` utilizado sin más argumentos devuelve la información de la posición en la que se encuentra actualmente el repositorio. "
   ]
  },
  {
   "cell_type": "code",
   "execution_count": 13,
   "metadata": {
    "scrolled": true
   },
   "outputs": [
    {
     "name": "stdout",
     "output_type": "stream",
     "text": [
      "commit ff7ede1f3ce0201ae532684bbee157247c3a88b7 (HEAD -> master)\n",
      "Merge: 0834a0b 46c8014\n",
      "Author: Jose Luis Chiquete <josech@gmail.com>\n",
      "Date:   Tue Dec 17 12:46:44 2019 -0600\n",
      "\n",
      "    commit fusionado\n",
      "\n"
     ]
    }
   ],
   "source": [
    "git show"
   ]
  },
  {
   "cell_type": "markdown",
   "metadata": {},
   "source": [
    "* La siguiente celda regresará el valor de ```HEAD```."
   ]
  },
  {
   "cell_type": "code",
   "execution_count": 14,
   "metadata": {},
   "outputs": [
    {
     "name": "stdout",
     "output_type": "stream",
     "text": [
      "commit ff7ede1f3ce0201ae532684bbee157247c3a88b7 (HEAD -> master)\n",
      "Merge: 0834a0b 46c8014\n",
      "Author: Jose Luis Chiquete <josech@gmail.com>\n",
      "Date:   Tue Dec 17 12:46:44 2019 -0600\n",
      "\n",
      "    commit fusionado\n",
      "\n"
     ]
    }
   ],
   "source": [
    "git show HEAD"
   ]
  },
  {
   "cell_type": "markdown",
   "metadata": {},
   "source": [
    "### El comando ```git reflog```. \n",
    "\n",
    "Este comando regresa la bitácora de todos los commits realizados desde cualquier rama, usando ```HEAD``` como referencia."
   ]
  },
  {
   "cell_type": "code",
   "execution_count": 15,
   "metadata": {},
   "outputs": [
    {
     "name": "stdout",
     "output_type": "stream",
     "text": [
      "ff7ede1 (HEAD -> master) HEAD@{0}: checkout: moving from restituida to master\n",
      "ba397e8 (restituida) HEAD@{1}: checkout: moving from ba397e8f7c51f8dfdefa12250933811042df91a2 to restituida\n",
      "ba397e8 (restituida) HEAD@{2}: checkout: moving from master to ba397e8\n",
      "ff7ede1 (HEAD -> master) HEAD@{3}: merge nueva: Merge made by the 'recursive' strategy.\n",
      "0834a0b HEAD@{4}: commit: quinto commit\n",
      "ba397e8 (restituida) HEAD@{5}: checkout: moving from nueva to master\n",
      "46c8014 (nueva) HEAD@{6}: commit: primer commit de la rama nueva\n",
      "ba397e8 (restituida) HEAD@{7}: checkout: moving from master to nueva\n",
      "ba397e8 (restituida) HEAD@{8}: commit: cuarto commit\n",
      "cb0b6bb HEAD@{9}: commit: segundo commit\n",
      "ed7d117 HEAD@{10}: commit (initial): primer commit\n"
     ]
    }
   ],
   "source": [
    "git reflog"
   ]
  },
  {
   "cell_type": "markdown",
   "metadata": {},
   "source": [
    "## Operaciones con  ```HEAD```.\n",
    "\n",
    "Es posible utilizar ciertos operadores con ```HEAD```.\n",
    "\n",
    "* ```@{n}``` para identificar a un commit de cualquier rama.\n",
    "* ```~``` para regresar en la rama.\n",
    "* ```^``` para ir a la rama de origen."
   ]
  },
  {
   "cell_type": "markdown",
   "metadata": {},
   "source": [
    "### Operador de referencia general.\n",
    "\n",
    "Este operador hace referencia a la secuencia lineal de commits tal como se enumeran con ```git reflog```.\n",
    "\n",
    "```HEAD@{<n>}```.\n",
    "\n",
    "Donde: \n",
    "* ```<n>``` es un número que va de ```0``` para el commit mas reciente y va regresando de uno  en uno."
   ]
  },
  {
   "cell_type": "code",
   "execution_count": 16,
   "metadata": {},
   "outputs": [
    {
     "name": "stdout",
     "output_type": "stream",
     "text": [
      "* master\n",
      "  nueva\n",
      "  restituida\n"
     ]
    }
   ],
   "source": [
    "git branch -l"
   ]
  },
  {
   "cell_type": "code",
   "execution_count": 17,
   "metadata": {},
   "outputs": [
    {
     "name": "stdout",
     "output_type": "stream",
     "text": [
      "commit ff7ede1f3ce0201ae532684bbee157247c3a88b7 (HEAD -> master)\n",
      "Merge: 0834a0b 46c8014\n",
      "Author: Jose Luis Chiquete <josech@gmail.com>\n",
      "Date:   Tue Dec 17 12:46:44 2019 -0600\n",
      "\n",
      "    commit fusionado\n",
      "\n"
     ]
    }
   ],
   "source": [
    "git show"
   ]
  },
  {
   "cell_type": "code",
   "execution_count": 18,
   "metadata": {
    "scrolled": true
   },
   "outputs": [
    {
     "name": "stdout",
     "output_type": "stream",
     "text": [
      "ba397e8 (restituida) cuarto commit\n",
      "diff --git a/archivo-1 b/archivo-1\n",
      "index e69de29..a19abfe 100644\n",
      "--- a/archivo-1\n",
      "+++ b/archivo-1\n",
      "@@ -0,0 +1 @@\n",
      "+Hola\n"
     ]
    }
   ],
   "source": [
    "git show HEAD@{8} --oneline"
   ]
  },
  {
   "cell_type": "code",
   "execution_count": 19,
   "metadata": {},
   "outputs": [
    {
     "name": "stdout",
     "output_type": "stream",
     "text": [
      "ff7ede1 (HEAD -> master) commit fusionado\n",
      "\n"
     ]
    }
   ],
   "source": [
    "git show HEAD@{3} --oneline"
   ]
  },
  {
   "cell_type": "code",
   "execution_count": 20,
   "metadata": {},
   "outputs": [
    {
     "name": "stdout",
     "output_type": "stream",
     "text": [
      "diff --git a/archivo-1 b/archivo-1\n",
      "index a19abfe..d7f0e7b 100644\n",
      "--- a/archivo-1\n",
      "+++ b/archivo-1\n",
      "@@ -1 +1,2 @@\n",
      " Hola\n",
      "+Otra linea\n",
      "diff --git a/archivo_nuevo b/archivo_nuevo\n",
      "new file mode 100644\n",
      "index 0000000..df8a330\n",
      "--- /dev/null\n",
      "+++ b/archivo_nuevo\n",
      "@@ -0,0 +1 @@\n",
      "+Archivo de la rama nueva.\n"
     ]
    }
   ],
   "source": [
    "git diff HEAD@{8} HEAD"
   ]
  },
  {
   "cell_type": "markdown",
   "metadata": {},
   "source": [
    "### Operador de referencia dentro de la rama.\n",
    "\n",
    "Este operador se usa para regresar en losm commits de una rama.\n",
    "\n",
    "```HEAD~<n>```.\n",
    "\n",
    "* ```<n>``` es un número que va de ```1``` para el commit mas reciente y va regresando de uno  en uno. El valor por defecto es 1."
   ]
  },
  {
   "cell_type": "code",
   "execution_count": 21,
   "metadata": {},
   "outputs": [
    {
     "name": "stdout",
     "output_type": "stream",
     "text": [
      "0834a0b quinto commit\n",
      "diff --git a/archivo-1 b/archivo-1\n",
      "index a19abfe..d7f0e7b 100644\n",
      "--- a/archivo-1\n",
      "+++ b/archivo-1\n",
      "@@ -1 +1,2 @@\n",
      " Hola\n",
      "+Otra linea\n"
     ]
    }
   ],
   "source": [
    "git show HEAD~ --oneline"
   ]
  },
  {
   "cell_type": "code",
   "execution_count": 22,
   "metadata": {},
   "outputs": [
    {
     "name": "stdout",
     "output_type": "stream",
     "text": [
      "0834a0b quinto commit\n",
      "diff --git a/archivo-1 b/archivo-1\n",
      "index a19abfe..d7f0e7b 100644\n",
      "--- a/archivo-1\n",
      "+++ b/archivo-1\n",
      "@@ -1 +1,2 @@\n",
      " Hola\n",
      "+Otra linea\n"
     ]
    }
   ],
   "source": [
    "git show HEAD~1 --oneline"
   ]
  },
  {
   "cell_type": "code",
   "execution_count": 23,
   "metadata": {},
   "outputs": [
    {
     "name": "stdout",
     "output_type": "stream",
     "text": [
      "ed7d117 primer commit\n",
      "diff --git a/.gitignore b/.gitignore\n",
      "new file mode 100644\n",
      "index 0000000..90a8b80\n",
      "--- /dev/null\n",
      "+++ b/.gitignore\n",
      "@@ -0,0 +1 @@\n",
      "+invisible\n",
      "diff --git a/archivo-1 b/archivo-1\n",
      "new file mode 100644\n",
      "index 0000000..e69de29\n",
      "diff --git a/archivo-2 b/archivo-2\n",
      "new file mode 100644\n",
      "index 0000000..e69de29\n",
      "diff --git a/archivo-3 b/archivo-3\n",
      "new file mode 100644\n",
      "index 0000000..e69de29\n"
     ]
    }
   ],
   "source": [
    "git show HEAD~4 --oneline"
   ]
  },
  {
   "cell_type": "markdown",
   "metadata": {},
   "source": [
    "### Operador de referencia de la rama de origen.\n",
    "\n",
    "Este operador se usa para regresar en los commits de una rama que dio origen a la actual.\n",
    "\n",
    "```HEAD^<n>```.\n",
    "\n",
    "* ```<n>``` es un número que va de ```1``` para el commit mas reciente y va regresando de uno  en uno. El valor por defecto es 1."
   ]
  },
  {
   "cell_type": "code",
   "execution_count": 25,
   "metadata": {},
   "outputs": [
    {
     "name": "stdout",
     "output_type": "stream",
     "text": [
      "0834a0b quinto commit\n",
      "diff --git a/archivo-1 b/archivo-1\n",
      "index a19abfe..d7f0e7b 100644\n",
      "--- a/archivo-1\n",
      "+++ b/archivo-1\n",
      "@@ -1 +1,2 @@\n",
      " Hola\n",
      "+Otra linea\n"
     ]
    }
   ],
   "source": [
    "git show HEAD^ --oneline"
   ]
  },
  {
   "cell_type": "code",
   "execution_count": 26,
   "metadata": {},
   "outputs": [
    {
     "name": "stdout",
     "output_type": "stream",
     "text": [
      "46c8014 (nueva) primer commit de la rama nueva\n",
      "diff --git a/archivo_nuevo b/archivo_nuevo\n",
      "new file mode 100644\n",
      "index 0000000..df8a330\n",
      "--- /dev/null\n",
      "+++ b/archivo_nuevo\n",
      "@@ -0,0 +1 @@\n",
      "+Archivo de la rama nueva.\n"
     ]
    }
   ],
   "source": [
    "git show HEAD^2 --oneline"
   ]
  },
  {
   "cell_type": "markdown",
   "metadata": {},
   "source": [
    "<p style=\"text-align: center\"><a rel=\"license\" href=\"http://creativecommons.org/licenses/by/4.0/\"><img alt=\"Licencia Creative Commons\" style=\"border-width:0\" src=\"https://i.creativecommons.org/l/by/4.0/80x15.png\" /></a><br />Esta obra está bajo una <a rel=\"license\" href=\"http://creativecommons.org/licenses/by/4.0/\">Licencia Creative Commons Atribución 4.0 Internacional</a>.</p>\n",
    "<p style=\"text-align: center\">&copy; José Luis Chiquete Valdivieso. 2020.</p>"
   ]
  }
 ],
 "metadata": {
  "kernelspec": {
   "display_name": "Bash",
   "language": "bash",
   "name": "bash"
  },
  "language_info": {
   "codemirror_mode": "shell",
   "file_extension": ".sh",
   "mimetype": "text/x-sh",
   "name": "bash"
  }
 },
 "nbformat": 4,
 "nbformat_minor": 2
}
