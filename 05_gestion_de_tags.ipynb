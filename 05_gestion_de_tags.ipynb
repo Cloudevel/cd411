{
 "cells": [
  {
   "cell_type": "markdown",
   "metadata": {},
   "source": [
    "<a href=\"https://cloudevel.com\"> <img src=\"img/cloudevel.png\" width=\"500px\"></a>"
   ]
  },
  {
   "cell_type": "markdown",
   "metadata": {},
   "source": [
    "# Gestión de *tags*."
   ]
  },
  {
   "cell_type": "markdown",
   "metadata": {},
   "source": [
    "Las etiquetas (*tags*) son un tipo de referencias que le permiten a los usuarios asignarle un nombre a un *commit* del repositorio para poder identificarlo.\n",
    "\n",
    "Los *tags* son útiles para identificar ciertas versiones relevantes en el repositorio mediante una notación particular, en vez de usar *hashes*. \n",
    "\n",
    "En el siguiente enlace contiene información adicional sobre etiquetado. \n",
    "\n",
    "https://git-scm.com/book/en/v2/Git-Basics-Tagging"
   ]
  },
  {
   "cell_type": "markdown",
   "metadata": {},
   "source": [
    "## Preliminares:\n",
    "\n",
    "A fin de contar con un entorno unificado, se utilizará una versión creada previamente del directorio ```demo``` que incluye los ejercicios de los capítulos previos y se encuentra comprimida en el archivo ```src/04/demo.zip```. "
   ]
  },
  {
   "cell_type": "code",
   "execution_count": 1,
   "metadata": {},
   "outputs": [],
   "source": [
    "rm -rf demo"
   ]
  },
  {
   "cell_type": "code",
   "execution_count": 2,
   "metadata": {
    "scrolled": true
   },
   "outputs": [],
   "source": [
    "unzip -q src/04/demo.zip"
   ]
  },
  {
   "cell_type": "code",
   "execution_count": 3,
   "metadata": {},
   "outputs": [],
   "source": [
    "cd demo"
   ]
  },
  {
   "cell_type": "code",
   "execution_count": 4,
   "metadata": {},
   "outputs": [
    {
     "name": "stdout",
     "output_type": "stream",
     "text": [
      "* main\n",
      "  restituida\n",
      "  segunda\n"
     ]
    }
   ],
   "source": [
    "git branch"
   ]
  },
  {
   "cell_type": "code",
   "execution_count": 5,
   "metadata": {},
   "outputs": [
    {
     "name": "stdout",
     "output_type": "stream",
     "text": [
      "*   955f607 (HEAD -> main) commit fusionado\n",
      "|\\  \n",
      "| * 61db1a4 (segunda) primer commit de segunda\n",
      "* | b5f3cc9 quinto commit\n",
      "|/  \n",
      "* 2405b5a (restituida) cuarto commit\n",
      "* de4e044 segundo commit\n",
      "* 2020250 primer commit\n"
     ]
    }
   ],
   "source": [
    "git log --oneline --graph"
   ]
  },
  {
   "cell_type": "markdown",
   "metadata": {},
   "source": [
    "## El comando ```git tag```.\n",
    "\n",
    "Este comando permite gestionar etiquetas en un repositorio.\n",
    "```\n",
    "git tag <opciones> <tag> <argumentos>\n",
    "```\n",
    "\n",
    "Ejecutar ```git tag``` sin opciones regresa un listado de los *tags* de un repositorio de forma idéntica a ```git tag -l```.\n",
    "\n",
    "Para mayor referencia es posible consultar la siguiente liga:\n",
    "\n",
    "https://www.git-scm.com/docs/git-tag"
   ]
  },
  {
   "cell_type": "code",
   "execution_count": 6,
   "metadata": {},
   "outputs": [],
   "source": [
    "git tag"
   ]
  },
  {
   "cell_type": "markdown",
   "metadata": {},
   "source": [
    "### Creación de etiquetas. \n",
    "\n",
    "```\n",
    "git tag <tag> <hash>\n",
    "```\n",
    "\n",
    "Donde:\n",
    "\n",
    "* ```<hash>``` corresponde al hash de un *commit* del repositorio. En caso de no incluirlo, el *tag* se ligará a ```HEAD```de la rama actual. "
   ]
  },
  {
   "cell_type": "markdown",
   "metadata": {},
   "source": [
    "**Ejemplo:**"
   ]
  },
  {
   "cell_type": "markdown",
   "metadata": {},
   "source": [
    "* La siguiente celda le asignará la etiqueta ```v2.1``` al ```HEAD```."
   ]
  },
  {
   "cell_type": "code",
   "execution_count": 7,
   "metadata": {},
   "outputs": [],
   "source": [
    "git tag v2.1"
   ]
  },
  {
   "cell_type": "code",
   "execution_count": 8,
   "metadata": {
    "scrolled": true
   },
   "outputs": [
    {
     "name": "stdout",
     "output_type": "stream",
     "text": [
      "v2.1\n"
     ]
    }
   ],
   "source": [
    "git tag"
   ]
  },
  {
   "cell_type": "code",
   "execution_count": 9,
   "metadata": {
    "scrolled": true
   },
   "outputs": [
    {
     "name": "stdout",
     "output_type": "stream",
     "text": [
      ".git/refs/tags\n",
      "└── v2.1\n",
      "\n",
      "0 directories, 1 file\n"
     ]
    }
   ],
   "source": [
    "tree .git/refs/tags"
   ]
  },
  {
   "cell_type": "code",
   "execution_count": 10,
   "metadata": {
    "scrolled": true
   },
   "outputs": [
    {
     "name": "stdout",
     "output_type": "stream",
     "text": [
      "955f607d7231ab1642f0b1c999a72b3a074bbecf\n"
     ]
    }
   ],
   "source": [
    "cat .git/refs/tags/v2.1"
   ]
  },
  {
   "cell_type": "markdown",
   "metadata": {},
   "source": [
    "* El comando ```git log```también muestra las etiquetas."
   ]
  },
  {
   "cell_type": "code",
   "execution_count": 11,
   "metadata": {
    "scrolled": true
   },
   "outputs": [
    {
     "name": "stdout",
     "output_type": "stream",
     "text": [
      "*   955f607 (HEAD -> main, tag: v2.1) commit fusionado\n",
      "|\\  \n",
      "| * 61db1a4 (segunda) primer commit de segunda\n",
      "* | b5f3cc9 quinto commit\n",
      "|/  \n",
      "* 2405b5a (restituida) cuarto commit\n",
      "* de4e044 segundo commit\n",
      "* 2020250 primer commit\n"
     ]
    }
   ],
   "source": [
    "git log --oneline --graph"
   ]
  },
  {
   "cell_type": "markdown",
   "metadata": {},
   "source": [
    "* La siguiente celda uasará la etiqueta ```v2.1```  como referencia."
   ]
  },
  {
   "cell_type": "code",
   "execution_count": 12,
   "metadata": {},
   "outputs": [
    {
     "name": "stdout",
     "output_type": "stream",
     "text": [
      "commit 955f607d7231ab1642f0b1c999a72b3a074bbecf (HEAD -> main, tag: v2.1)\n",
      "Merge: b5f3cc9 61db1a4\n",
      "Author: Jose Luis Chiquete <josech@gmail.com>\n",
      "Date:   Tue Mar 14 22:05:05 2023 -0600\n",
      "\n",
      "    commit fusionado\n",
      "\n"
     ]
    }
   ],
   "source": [
    "git show v2.1"
   ]
  },
  {
   "cell_type": "markdown",
   "metadata": {},
   "source": [
    "### *Tags* con anotaciones.\n",
    "\n",
    "Los *tags* con anotaciones dan mayores detalle del usuario que realizó el *tag* y puede incluir mensajes.\n",
    "\n",
    "```\n",
    "git tag <opciones> -a <identificador>  <hash>\n",
    "```\n",
    "\n",
    "Donde:\n",
    "\n",
    "* ```<opciones>```pueden ser:\n",
    "    * ```-e``` para abrir un editor en le cual se redacte un mensaje.\n",
    "    * ```-m <mensaje>``` en le que se incluye in mensaje de texto de una línea."
   ]
  },
  {
   "cell_type": "markdown",
   "metadata": {},
   "source": [
    "**Ejemplo:**"
   ]
  },
  {
   "cell_type": "markdown",
   "metadata": {},
   "source": [
    "* La siguiente celda asignará el *tag* ```v1.0``` al *commit* con el *hash* identificador que empieza con ```2020250```. "
   ]
  },
  {
   "cell_type": "code",
   "execution_count": 13,
   "metadata": {},
   "outputs": [],
   "source": [
    "git tag -m inicial -a v1.0 2020250"
   ]
  },
  {
   "cell_type": "code",
   "execution_count": 14,
   "metadata": {
    "scrolled": false
   },
   "outputs": [
    {
     "name": "stdout",
     "output_type": "stream",
     "text": [
      "tag v1.0\n",
      "Tagger: Jose Luis Chiquete <ficticio@example.com>\n",
      "Date:   Mon May 22 20:19:53 2023 -0500\n",
      "\n",
      "inicial\n",
      "\n",
      "commit 20202508d517ed2d9acdc3dc419a213b434a3fe7 (tag: v1.0)\n",
      "Author: Jose Luis Chiquete <josech@gmail.com>\n",
      "Date:   Tue Mar 14 16:29:01 2023 -0600\n",
      "\n",
      "    primer commit\n",
      "\n",
      "diff --git a/.gitignore b/.gitignore\n",
      "new file mode 100644\n",
      "index 0000000..90a8b80\n",
      "--- /dev/null\n",
      "+++ b/.gitignore\n",
      "@@ -0,0 +1 @@\n",
      "+invisible\n",
      "diff --git a/archivo-1 b/archivo-1\n",
      "new file mode 100644\n",
      "index 0000000..e69de29\n",
      "diff --git a/archivo-2 b/archivo-2\n",
      "new file mode 100644\n",
      "index 0000000..e69de29\n",
      "diff --git a/archivo-3 b/archivo-3\n",
      "new file mode 100644\n",
      "index 0000000..e69de29\n"
     ]
    }
   ],
   "source": [
    "git show v1.0"
   ]
  },
  {
   "cell_type": "markdown",
   "metadata": {},
   "source": [
    "### Listado de etiquetas.\n",
    "\n",
    "Para listar las etiquetas se utiliza la siguiente sintaxis.\n",
    "\n",
    "```\n",
    "git tag -l <patrón>\n",
    "```\n",
    "\n",
    "Donde:\n",
    "\n",
    "* ```<patrón>``` es una expresión regular. En caso de no incluirla, se listarán todos los *tags*."
   ]
  },
  {
   "cell_type": "code",
   "execution_count": 15,
   "metadata": {},
   "outputs": [
    {
     "name": "stdout",
     "output_type": "stream",
     "text": [
      "v1.0\n"
     ]
    }
   ],
   "source": [
    "git tag -l v1*"
   ]
  },
  {
   "cell_type": "code",
   "execution_count": 16,
   "metadata": {},
   "outputs": [
    {
     "name": "stdout",
     "output_type": "stream",
     "text": [
      "c99768312a426d3cb353e571b72d4eed48ca5e32\n"
     ]
    }
   ],
   "source": [
    "cat .git/refs/tags/v1.0"
   ]
  },
  {
   "cell_type": "markdown",
   "metadata": {},
   "source": [
    "### Eliminación de etiquetas.\n",
    "\n",
    "Para listar las etiquetas se utiliza la siguiente sintaxis.\n",
    "\n",
    "```\n",
    "git tag -d <tag>\n",
    "```\n",
    "\n",
    "Donde:\n",
    "\n",
    "* ```<tag>``` es el *tag* que se quiera eliminar."
   ]
  },
  {
   "cell_type": "markdown",
   "metadata": {},
   "source": [
    "**Ejemplo:**"
   ]
  },
  {
   "cell_type": "markdown",
   "metadata": {},
   "source": [
    "* La siguiente celda eliminará al *tag* ```v2.1```, pero no al *commit* relacionado. "
   ]
  },
  {
   "cell_type": "code",
   "execution_count": 17,
   "metadata": {},
   "outputs": [
    {
     "name": "stdout",
     "output_type": "stream",
     "text": [
      "Deleted tag 'v2.1' (was 955f607)\n"
     ]
    }
   ],
   "source": [
    "git tag -d v2.1"
   ]
  },
  {
   "cell_type": "code",
   "execution_count": 18,
   "metadata": {},
   "outputs": [
    {
     "name": "stdout",
     "output_type": "stream",
     "text": [
      "v1.0\n"
     ]
    }
   ],
   "source": [
    "git tag -l"
   ]
  },
  {
   "cell_type": "code",
   "execution_count": 19,
   "metadata": {},
   "outputs": [
    {
     "name": "stdout",
     "output_type": "stream",
     "text": [
      "commit 955f607d7231ab1642f0b1c999a72b3a074bbecf (HEAD -> main)\n",
      "Merge: b5f3cc9 61db1a4\n",
      "Author: Jose Luis Chiquete <josech@gmail.com>\n",
      "Date:   Tue Mar 14 22:05:05 2023 -0600\n",
      "\n",
      "    commit fusionado\n",
      "\n"
     ]
    }
   ],
   "source": [
    "git show 955f607"
   ]
  },
  {
   "cell_type": "markdown",
   "metadata": {},
   "source": [
    "## Versionado semántico."
   ]
  },
  {
   "cell_type": "markdown",
   "metadata": {},
   "source": [
    "Uno de los principales usos de los *tags* es el de identificar versiones de código. Es por ello que se recomienda como buena práctica tner definido un esuqema de versionado.\n",
    "\n",
    "El siguiente vínculo apunta a la Especificación del Versionado Semántico (SemVer), la cual define reglas de versionado estandarizadas.\n",
    "\n",
    "https://semver.org/lang/es"
   ]
  },
  {
   "cell_type": "markdown",
   "metadata": {},
   "source": [
    "<p style=\"text-align: center\"><a rel=\"license\" href=\"http://creativecommons.org/licenses/by/4.0/\"><img alt=\"Licencia Creative Commons\" style=\"border-width:0\" src=\"https://i.creativecommons.org/l/by/4.0/80x15.png\" /></a><br />Esta obra está bajo una <a rel=\"license\" href=\"http://creativecommons.org/licenses/by/4.0/\">Licencia Creative Commons Atribución 4.0 Internacional</a>.</p>\n",
    "<p style=\"text-align: center\">&copy; José Luis Chiquete Valdivieso. 2023.</p>"
   ]
  }
 ],
 "metadata": {
  "kernelspec": {
   "display_name": "Bash",
   "language": "bash",
   "name": "bash"
  },
  "language_info": {
   "codemirror_mode": "shell",
   "file_extension": ".sh",
   "mimetype": "text/x-sh",
   "name": "bash"
  }
 },
 "nbformat": 4,
 "nbformat_minor": 2
}
