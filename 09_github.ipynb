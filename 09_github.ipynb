{
 "cells": [
  {
   "cell_type": "markdown",
   "metadata": {},
   "source": [
    "<a href=\"https://cloudevel.com\"> <img src=\"img/cloudevel.png\" width=\"500px\"></a>"
   ]
  },
  {
   "cell_type": "markdown",
   "metadata": {},
   "source": [
    "# GitHub."
   ]
  },
  {
   "cell_type": "markdown",
   "metadata": {},
   "source": [
    "## Servicios de repositorios remotos de *Git*.\n",
    "\n",
    "Debido a la popularidad de *Git*, muchos provedores ofrecen servicios de hospedaje de repositorios remotos de *Git*. Algunos de ellos son:\n",
    "\n",
    "* [*Gitlab*](https://about.gitlab.com/).\n",
    "* [*Bitbucket*](https://bitbucket.org/).\n",
    "* [*SourceForge*](https://sourceforge.net/).\n",
    "* [*Github*](https://github.com/).\n",
    "\n",
    "Cada uno de estos proveedores ofrece servicios de hospedaje gratuito para repositorios basados en *Git*. Sin embargo, para diferenciarse, muchos de ellos han añadido funcionalidades avanzadas para gestión de proyectos y DevOps."
   ]
  },
  {
   "cell_type": "markdown",
   "metadata": {},
   "source": [
    "## El servicio *GitHub*.\n",
    "\n",
    "[*Github*](https://github.com/) Es un sitio que ofrece [múltiples servicios adicionales](https://github.com/features) para desarrolladores de software tales como:\n",
    "\n",
    "* Repositorios remotos de *Git* públicos y privados.\n",
    "* Wikis.\n",
    "* [Gists](https://gist.github.com/).\n",
    "* [Páginas](https://pages.github.com/).\n",
    "* [Revisión de código](https://github.com/features#code-review).\n",
    "* [Gestión de grupos](https://github.com/features#team-management).\n",
    "* [Gestión de proyectos](https://github.com/features/project-management).\n",
    "* [Herramiendas de CI/CD](https://github.com/features#ci-cd).\n",
    "* Servicios de nivel \"Enterprise\"."
   ]
  },
  {
   "cell_type": "markdown",
   "metadata": {},
   "source": [
    "### Forks.\n",
    "\n",
    "*Github* permite realizar copias del repositorio de un usuario al repositorio de otro usuario."
   ]
  },
  {
   "cell_type": "markdown",
   "metadata": {},
   "source": [
    "### Pull requests.\n",
    "\n",
    "A partir de los *forks* es posible colaborar con un proyecto clonado (fork), mediante *Pull Requests*, en las que un usuario permite compartir y discutir los cambios ehchos en su repositorio clonado a otro usuario para que incluya dichos cambios a su propio repositorio."
   ]
  },
  {
   "cell_type": "markdown",
   "metadata": {},
   "source": [
    "<p style=\"text-align: center\"><a rel=\"license\" href=\"http://creativecommons.org/licenses/by/4.0/\"><img alt=\"Licencia Creative Commons\" style=\"border-width:0\" src=\"https://i.creativecommons.org/l/by/4.0/80x15.png\" /></a><br />Esta obra está bajo una <a rel=\"license\" href=\"http://creativecommons.org/licenses/by/4.0/\">Licencia Creative Commons Atribución 4.0 Internacional</a>.</p>\n",
    "<p style=\"text-align: center\">&copy; José Luis Chiquete Valdivieso. 2022.</p>"
   ]
  }
 ],
 "metadata": {
  "kernelspec": {
   "display_name": "Bash",
   "language": "bash",
   "name": "bash"
  },
  "language_info": {
   "codemirror_mode": "shell",
   "file_extension": ".sh",
   "mimetype": "text/x-sh",
   "name": "bash"
  }
 },
 "nbformat": 4,
 "nbformat_minor": 2
}
