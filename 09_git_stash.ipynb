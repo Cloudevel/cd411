{
 "cells": [
  {
   "cell_type": "markdown",
   "metadata": {},
   "source": [
    "<a href=\"https://cloudevel.com\"> <img src=\"img/cloudevel.png\" width=\"500px\"></a>"
   ]
  },
  {
   "cell_type": "markdown",
   "metadata": {},
   "source": [
    "# GitHub."
   ]
  },
  {
   "cell_type": "markdown",
   "metadata": {},
   "source": [
    "## El servicio *GitHub*.\n",
    "\n",
    "[*Github*](https://github.com/) Es un sitio que ofrece múltiples servicios para desarrolladores de software tales como:\n",
    "\n",
    "* Repositorios remotos de *Git* públicos y privados.\n",
    "* Wikis.\n",
    "* Gists.\n",
    "* Gestión de proyectos.\n",
    "* Automatización de creación de artefactos.\n",
    "* Herramientas de DevOps.\n",
    "* Servicios de nivel \"Enterprise\"."
   ]
  },
  {
   "cell_type": "markdown",
   "metadata": {},
   "source": [
    "### Forks.\n",
    "\n",
    "*Github* permite realizar copias del repositorio de un usuario al repositorio de otro usuario."
   ]
  },
  {
   "cell_type": "markdown",
   "metadata": {},
   "source": [
    "### Pull requests.\n",
    "\n",
    "A partir de los *forks* es posible colaborar con un proyecto clonado (fork), mediante *Pull Requests*, en las que un usuario permite compartir y discutir los cambios ehchos en su repositorio clonado a otro usuario para que incluya dichos cambios a su propio repositorio."
   ]
  },
  {
   "cell_type": "markdown",
   "metadata": {},
   "source": [
    "<p style=\"text-align: center\"><a rel=\"license\" href=\"http://creativecommons.org/licenses/by/4.0/\"><img alt=\"Licencia Creative Commons\" style=\"border-width:0\" src=\"https://i.creativecommons.org/l/by/4.0/80x15.png\" /></a><br />Esta obra está bajo una <a rel=\"license\" href=\"http://creativecommons.org/licenses/by/4.0/\">Licencia Creative Commons Atribución 4.0 Internacional</a>.</p>\n",
    "<p style=\"text-align: center\">&copy; José Luis Chiquete Valdivieso. 2020.</p>"
   ]
  }
 ],
 "metadata": {
  "kernelspec": {
   "display_name": "Bash",
   "language": "bash",
   "name": "bash"
  },
  "language_info": {
   "codemirror_mode": "shell",
   "file_extension": ".sh",
   "mimetype": "text/x-sh",
   "name": "bash"
  }
 },
 "nbformat": 4,
 "nbformat_minor": 2
}
