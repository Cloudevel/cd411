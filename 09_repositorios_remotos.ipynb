{
 "cells": [
  {
   "cell_type": "markdown",
   "metadata": {},
   "source": [
    "<a href=\"https://cloudevel.com\"> <img src=\"img/cloudevel.png\" width=\"500px\"></a>"
   ]
  },
  {
   "cell_type": "markdown",
   "metadata": {},
   "source": [
    "# Repositorios remotos."
   ]
  },
  {
   "cell_type": "markdown",
   "metadata": {},
   "source": [
    "*Git* tiene la particularidad de que puede interactuar con repositorios locales. En vista de que los repostorios de *Git* son directorios comunes y corrientes, lo único que se debe hacer es crear las condiciones para que un usuario pueda acceder de forma remota a dicho directorio.\n",
    "\n",
    "De este modo, la forma en la que un usuario accede a el repositorio no depende de *Git* sino del servidor que lo contiene."
   ]
  },
  {
   "cell_type": "markdown",
   "metadata": {},
   "source": [
    "## Preliminares:\n",
    "\n",
    "A fin de contar con un entorno unificado, se utilizará una versión creada previamente del directorio ```demo``` que incluye los ejercicios de los capítulos previos y se encuentra comprimida en el archivo ```src/04/demo.zip```. "
   ]
  },
  {
   "cell_type": "code",
   "execution_count": 1,
   "metadata": {},
   "outputs": [],
   "source": [
    "rm -rf demo"
   ]
  },
  {
   "cell_type": "code",
   "execution_count": 2,
   "metadata": {},
   "outputs": [],
   "source": [
    "unzip -q src/04/demo.zip"
   ]
  },
  {
   "cell_type": "markdown",
   "metadata": {},
   "source": [
    "## Protocolos soportados por *Git*.\n",
    "\n",
    "* Sistema de archivos local.\n",
    "* *SSH.*\n",
    "* *HTTP/HTTPS.*"
   ]
  },
  {
   "cell_type": "markdown",
   "metadata": {},
   "source": [
    "## Autenticación soportada por *Git*.\n",
    "\n",
    "* Los esquemas de autenticación de  *SSH*.\n",
    "* Los esquemas de autenticación de *HTTP*.\n",
    "* Autenticación federada con *OAuth*."
   ]
  },
  {
   "cell_type": "markdown",
   "metadata": {},
   "source": [
    "## El comando ```git clone```.\n",
    "\n",
    "El comando ```git clone``` permite traer el contenido un repositoro remoto a un repositorio local.\n",
    "\n",
    "\n",
    "```\n",
    "git clone <URL> <ruta>\n",
    "```\n",
    "\n",
    "Donde:\n",
    "\n",
    "* ```<URL>``` es la ruta en la que se encuentra el repositorio remoto.\n",
    "* ```<ruta>``` es la ruta del nuevo repositorio local.\n",
    "\n",
    "La referencia al comando ```git clone``` puede ser consultada en:\n",
    "\n",
    "https://git-scm.com/docs/git-clone"
   ]
  },
  {
   "cell_type": "code",
   "execution_count": 3,
   "metadata": {},
   "outputs": [
    {
     "name": "stdout",
     "output_type": "stream",
     "text": [
      "/opt/oi/cd411\n"
     ]
    }
   ],
   "source": [
    "pwd"
   ]
  },
  {
   "cell_type": "markdown",
   "metadata": {},
   "source": [
    "* La siguiente celda copiará al repositorio ```demo``` y a a partir de éste, se creará al nuevo repositorio ```experimental```."
   ]
  },
  {
   "cell_type": "code",
   "execution_count": 4,
   "metadata": {},
   "outputs": [
    {
     "name": "stdout",
     "output_type": "stream",
     "text": [
      "fatal: destination path 'experimental' already exists and is not an empty directory.\n"
     ]
    },
    {
     "ename": "",
     "evalue": "128",
     "output_type": "error",
     "traceback": []
    }
   ],
   "source": [
    "git clone demo experimental"
   ]
  },
  {
   "cell_type": "code",
   "execution_count": 5,
   "metadata": {
    "scrolled": true
   },
   "outputs": [
    {
     "name": "stdout",
     "output_type": "stream",
     "text": [
      "demo\n",
      "├── archivo-1\n",
      "├── archivo-2\n",
      "├── archivo_nuevo\n",
      "└── invisible\n",
      "\n",
      "0 directories, 4 files\n"
     ]
    }
   ],
   "source": [
    "tree demo"
   ]
  },
  {
   "cell_type": "code",
   "execution_count": 6,
   "metadata": {
    "scrolled": true
   },
   "outputs": [
    {
     "name": "stdout",
     "output_type": "stream",
     "text": [
      "experimental\n",
      "├── archivo-1\n",
      "├── archivo-2\n",
      "└── archivo_nuevo\n",
      "\n",
      "0 directories, 3 files\n"
     ]
    }
   ],
   "source": [
    "tree experimental"
   ]
  },
  {
   "cell_type": "markdown",
   "metadata": {},
   "source": [
    "**Ejemplo:**"
   ]
  },
  {
   "cell_type": "markdown",
   "metadata": {},
   "source": [
    "* La siguiente celda clonará el repositorio repositorio remoto con la *URL* ```https://github.com/Cloudevel/cd411.git``` en el subdirectorio ```nuevo```.\n",
    "\n",
    "<img src=\"img/09/clonar_http.png\" width=\"40%\">"
   ]
  },
  {
   "cell_type": "code",
   "execution_count": 7,
   "metadata": {},
   "outputs": [
    {
     "name": "stdout",
     "output_type": "stream",
     "text": [
      "fatal: destination path 'nuevo' already exists and is not an empty directory.\n"
     ]
    },
    {
     "ename": "",
     "evalue": "128",
     "output_type": "error",
     "traceback": []
    }
   ],
   "source": [
    "# Sustituir por la URL HTTPS de su repositorio\n",
    "\n",
    "git clone https://github.com/Cloudevel/cd411.git  nuevo"
   ]
  },
  {
   "cell_type": "code",
   "execution_count": 8,
   "metadata": {},
   "outputs": [],
   "source": [
    "cd nuevo"
   ]
  },
  {
   "cell_type": "code",
   "execution_count": 9,
   "metadata": {},
   "outputs": [
    {
     "name": "stdout",
     "output_type": "stream",
     "text": [
      ".                                   08_github.ipynb\n",
      "..                                  09_repositorios_remotos.ipynb\n",
      "00_preliminares.ipynb               10_flujos_de_trabajo.ipynb\n",
      "01_introduccion_a_git.ipynb         archivo-curso-marzo-2023\n",
      "02_gestion_de_repositorios.ipynb    .git\n",
      "03_gestion_de_ramas.ipynb           .gitignore\n",
      "04_referencias.ipynb                img\n",
      "05_gestion_de_tags.ipynb            LICENSE\n",
      "06_git_stash.ipynb                  README.md\n",
      "07_conflictos_y_correcciones.ipynb  src\n"
     ]
    }
   ],
   "source": [
    "ls -a"
   ]
  },
  {
   "cell_type": "code",
   "execution_count": 10,
   "metadata": {},
   "outputs": [
    {
     "name": "stdout",
     "output_type": "stream",
     "text": [
      "bd73783 (HEAD -> main) commit local\n",
      "87686fc (origin/main, origin/HEAD) 230321c\n",
      "63cf05b 230321a\n",
      "a35b554 230321a\n",
      "d14ddb5 230316b\n",
      "cce157e 230316a\n",
      "6fbc62b 230315c\n",
      "9a6748b 230315b\n",
      "470cdfc 230315a\n",
      "023b69e 220314a\n",
      "15aa4e8 230313a\n",
      "825b8dc 220624d\n",
      "e13e66d Merge branch 'master' of https://github.com/Cloudevel/cd411\n",
      "6f67490 220624b\n",
      "9f12b38 Merge pull request #1 from PythonistaIO/master\n",
      "e80eb8f Update 10_gestion_de_etiquetas.ipynb\n",
      "43cdd91 220624a\n",
      "576318d 220523a\n",
      "63101b1 220622a\n",
      "e4a69ce 200823a\n",
      "0e925aa 200422b\n",
      "c4b9f40 adicional-2\n",
      "944ebb7 Merge branch 'master' of https://github.com/Cloudevel/cd411\n",
      "5801b0f otro error\n",
      "db30270 adicional\n",
      "9e53d5e 200420b\n",
      "39ede8f 200420a\n",
      "8b98920 Revert \"200416b\"\n",
      "299629b rebae\n",
      "5132720 200418a\n",
      "af5b288 200416b\n",
      "625f205 200416a\n",
      "1036b98 200415a\n",
      "31985e0 200414d\n",
      "0a36521 200414c\n",
      "7d321af 200414c\n",
      "7afdac7 200414b\n",
      "f64a888 200414a\n",
      "be3e0e1 Initial commit\n"
     ]
    }
   ],
   "source": [
    "git log --oneline"
   ]
  },
  {
   "cell_type": "markdown",
   "metadata": {},
   "source": [
    "## El comando ```git remote```.\n",
    "\n",
    "El comando ```git remote``` permite realizar operaciones de gestión de repositorios remotos. \n",
    "\n",
    "La referencia al comando ```git remote``` puede ser consultada en:\n",
    "\n",
    "https://git-scm.com/docs/git-remote"
   ]
  },
  {
   "cell_type": "markdown",
   "metadata": {},
   "source": [
    "### Listado de repositorios remotos.\n",
    "\n",
    "La sintaxis para enlistar los repositorios remotos ligados a un repositorio local es la siguiente:\n",
    "\n",
    "```git remote show```.\n",
    "\n",
    "**Nota:** Como regla general, el repositorio remoto principal tiene como nombre ```origin```."
   ]
  },
  {
   "cell_type": "code",
   "execution_count": 11,
   "metadata": {
    "scrolled": false
   },
   "outputs": [
    {
     "name": "stdout",
     "output_type": "stream",
     "text": [
      "alterno\n",
      "origin\n"
     ]
    }
   ],
   "source": [
    "git remote show"
   ]
  },
  {
   "cell_type": "markdown",
   "metadata": {},
   "source": [
    "### Configuración de los repositorios remotos en el ámbito ```--local```.\n",
    "\n",
    "La configuración de un repositorio remoto es guardada en el ámbito ```--local``` en un registro con la estructura.\n",
    "\n",
    "```\n",
    "remote.<nombre>\n",
    "```\n",
    "\n",
    "Donde:\n",
    "\n",
    "* ```<nombre>``` es el nombre dado al repositorio remoto."
   ]
  },
  {
   "cell_type": "markdown",
   "metadata": {},
   "source": [
    "**Ejemplo:**"
   ]
  },
  {
   "cell_type": "markdown",
   "metadata": {},
   "source": [
    "* La siguiente celda traerá la configuración del ámbito ```--local``` del repositorio actual. Se podrá apreciar que el registro ```remote.origin``` corresponde a la configuración del reposotorio remoto ```origin```."
   ]
  },
  {
   "cell_type": "code",
   "execution_count": 12,
   "metadata": {
    "scrolled": true
   },
   "outputs": [
    {
     "name": "stdout",
     "output_type": "stream",
     "text": [
      "core.repositoryformatversion=0\n",
      "core.filemode=true\n",
      "core.bare=false\n",
      "core.logallrefupdates=true\n",
      "remote.origin.url=https://github.com/Cloudevel/cd411.git\n",
      "remote.origin.fetch=+refs/heads/*:refs/remotes/origin/*\n",
      "branch.main.remote=origin\n",
      "branch.main.merge=refs/heads/main\n",
      "remote.alterno.url=git@github.com:Cloudevel/cd411.git\n",
      "remote.alterno.fetch=+refs/heads/*:refs/remotes/alterno/*\n",
      "pull.rebase=false\n"
     ]
    }
   ],
   "source": [
    "git config --local --list"
   ]
  },
  {
   "cell_type": "code",
   "execution_count": 13,
   "metadata": {},
   "outputs": [
    {
     "name": "stdout",
     "output_type": "stream",
     "text": [
      "[core]\n",
      "\trepositoryformatversion = 0\n",
      "\tfilemode = true\n",
      "\tbare = false\n",
      "\tlogallrefupdates = true\n",
      "[remote \"origin\"]\n",
      "\turl = https://github.com/Cloudevel/cd411.git\n",
      "\tfetch = +refs/heads/*:refs/remotes/origin/*\n",
      "[branch \"main\"]\n",
      "\tremote = origin\n",
      "\tmerge = refs/heads/main\n",
      "[remote \"alterno\"]\n",
      "\turl = git@github.com:Cloudevel/cd411.git\n",
      "\tfetch = +refs/heads/*:refs/remotes/alterno/*\n",
      "[pull]\n",
      "\trebase = false\n"
     ]
    }
   ],
   "source": [
    "cat .git/config"
   ]
  },
  {
   "cell_type": "code",
   "execution_count": 14,
   "metadata": {
    "scrolled": true
   },
   "outputs": [
    {
     "name": "stdout",
     "output_type": "stream",
     "text": [
      "[core]\n",
      "\trepositoryformatversion = 0\n",
      "\tfilemode = true\n",
      "\tbare = false\n",
      "\tlogallrefupdates = true\n",
      "[remote \"origin\"]\n",
      "\turl = git@github.com:Cloudevel/cd411.git\n",
      "\tfetch = +refs/heads/*:refs/remotes/origin/*\n",
      "[branch \"main\"]\n",
      "\tremote = origin\n",
      "\tmerge = refs/heads/main\n"
     ]
    }
   ],
   "source": [
    "cat ../.git/config"
   ]
  },
  {
   "cell_type": "markdown",
   "metadata": {},
   "source": [
    "### Adición de un repositorio remoto.\n",
    "\n",
    "Para relacionar un repositorio remoto a un repositorio local se usa la siguiente sintaxis.\n",
    "\n",
    "```\n",
    "git remote add <nombre> <URL>\n",
    "```\n",
    "\n",
    "Donde:\n",
    "\n",
    "* ```<nombre>``` es el nombre que se le dará al repositorio remoto.\n",
    "* ```<URL>``` es la URL del repositorio remoto."
   ]
  },
  {
   "cell_type": "markdown",
   "metadata": {},
   "source": [
    "**Ejemplo:**"
   ]
  },
  {
   "cell_type": "markdown",
   "metadata": {},
   "source": [
    "* Se relacionará al repositorio localizado en la URL ```git@github.com:Cloudevel/cd411.git``` con el nombre ```alterno```\n",
    "\n",
    "<img src=\"img/09/clonar_ssh.png\" width=\"40%\">"
   ]
  },
  {
   "cell_type": "code",
   "execution_count": 15,
   "metadata": {},
   "outputs": [
    {
     "name": "stdout",
     "output_type": "stream",
     "text": [
      "error: remote alterno already exists.\n"
     ]
    },
    {
     "ename": "",
     "evalue": "3",
     "output_type": "error",
     "traceback": []
    }
   ],
   "source": [
    "# Sustituir por la URL SSH de su repositorio\n",
    "\n",
    "git remote add alterno git@github.com:Cloudevel/cd411.git"
   ]
  },
  {
   "cell_type": "code",
   "execution_count": 16,
   "metadata": {},
   "outputs": [
    {
     "name": "stdout",
     "output_type": "stream",
     "text": [
      "alterno\n",
      "origin\n"
     ]
    }
   ],
   "source": [
    "git remote show"
   ]
  },
  {
   "cell_type": "code",
   "execution_count": 17,
   "metadata": {},
   "outputs": [
    {
     "name": "stdout",
     "output_type": "stream",
     "text": [
      "core.repositoryformatversion=0\n",
      "core.filemode=true\n",
      "core.bare=false\n",
      "core.logallrefupdates=true\n",
      "remote.origin.url=https://github.com/Cloudevel/cd411.git\n",
      "remote.origin.fetch=+refs/heads/*:refs/remotes/origin/*\n",
      "branch.main.remote=origin\n",
      "branch.main.merge=refs/heads/main\n",
      "remote.alterno.url=git@github.com:Cloudevel/cd411.git\n",
      "remote.alterno.fetch=+refs/heads/*:refs/remotes/alterno/*\n",
      "pull.rebase=false\n"
     ]
    }
   ],
   "source": [
    "git config --local --list"
   ]
  },
  {
   "cell_type": "code",
   "execution_count": 18,
   "metadata": {},
   "outputs": [
    {
     "name": "stdout",
     "output_type": "stream",
     "text": [
      "[core]\n",
      "\trepositoryformatversion = 0\n",
      "\tfilemode = true\n",
      "\tbare = false\n",
      "\tlogallrefupdates = true\n",
      "[remote \"origin\"]\n",
      "\turl = https://github.com/Cloudevel/cd411.git\n",
      "\tfetch = +refs/heads/*:refs/remotes/origin/*\n",
      "[branch \"main\"]\n",
      "\tremote = origin\n",
      "\tmerge = refs/heads/main\n",
      "[remote \"alterno\"]\n",
      "\turl = git@github.com:Cloudevel/cd411.git\n",
      "\tfetch = +refs/heads/*:refs/remotes/alterno/*\n",
      "[pull]\n",
      "\trebase = false\n"
     ]
    }
   ],
   "source": [
    "cat .git/config"
   ]
  },
  {
   "cell_type": "markdown",
   "metadata": {},
   "source": [
    "## Acceso a la rama  de un repositorio remoto.\n",
    "\n",
    "*Git* permite acceder a las ramas de un repositorio remoto utilizando el comando ```git checkout```, Sin embargo, ya que dichas ramas no pertenecen al repositorio local, la rama remota a la que se acceda estará en estado ```'detached HEAD'```."
   ]
  },
  {
   "cell_type": "markdown",
   "metadata": {},
   "source": [
    "### Referencia a la rama de un repositorio remoto.\n",
    "\n",
    "Para hacer referencia a un archivo remoto se utiliza la siguiente estructura:\n",
    "\n",
    "```\n",
    "<remoto>/<rama>\n",
    "```\n",
    "\n",
    "Donde:\n",
    "\n",
    "* ```<remoto>``` es el nombre del repositorio remoto.\n",
    "* ```<rama>``` es el nombre de la rama en el repositorio remoto.\n",
    "\n",
    "**Nota:** Es muy importante hacer notar que el acceso a un repositorio remoto no se realiza mediante una conexión continua, por lo que es necesario actualizar la información contenida en dichos repositorios mediante los comandos ```git fetch``` y ```git pull```."
   ]
  },
  {
   "cell_type": "markdown",
   "metadata": {},
   "source": [
    "**Ejemplo:**"
   ]
  },
  {
   "cell_type": "markdown",
   "metadata": {},
   "source": [
    "* La siguiente celda acccederá al repositorio ```origin/main```."
   ]
  },
  {
   "cell_type": "code",
   "execution_count": 19,
   "metadata": {},
   "outputs": [
    {
     "name": "stdout",
     "output_type": "stream",
     "text": [
      "/opt/oi/cd411/nuevo\n"
     ]
    }
   ],
   "source": [
    "pwd"
   ]
  },
  {
   "cell_type": "code",
   "execution_count": 20,
   "metadata": {},
   "outputs": [
    {
     "name": "stdout",
     "output_type": "stream",
     "text": [
      "Note: switching to 'origin/main'.\n",
      "\n",
      "You are in 'detached HEAD' state. You can look around, make experimental\n",
      "changes and commit them, and you can discard any commits you make in this\n",
      "state without impacting any branches by switching back to a branch.\n",
      "\n",
      "If you want to create a new branch to retain commits you create, you may\n",
      "do so (now or later) by using -c with the switch command. Example:\n",
      "\n",
      "  git switch -c <new-branch-name>\n",
      "\n",
      "Or undo this operation with:\n",
      "\n",
      "  git switch -\n",
      "\n",
      "Turn off this advice by setting config variable advice.detachedHead to false\n",
      "\n",
      "HEAD is now at 87686fc 230321c\n"
     ]
    }
   ],
   "source": [
    "git checkout origin/main"
   ]
  },
  {
   "cell_type": "code",
   "execution_count": 21,
   "metadata": {},
   "outputs": [
    {
     "name": "stdout",
     "output_type": "stream",
     "text": [
      "00_preliminares.ipynb               08_github.ipynb\n",
      "01_introduccion_a_git.ipynb         09_repositorios_remotos.ipynb\n",
      "02_gestion_de_repositorios.ipynb    10_flujos_de_trabajo.ipynb\n",
      "03_gestion_de_ramas.ipynb           img\n",
      "04_referencias.ipynb                LICENSE\n",
      "05_gestion_de_tags.ipynb            README.md\n",
      "06_git_stash.ipynb                  src\n",
      "07_conflictos_y_correcciones.ipynb\n"
     ]
    }
   ],
   "source": [
    "ls"
   ]
  },
  {
   "cell_type": "markdown",
   "metadata": {},
   "source": [
    "* La siguiente celda regresará al repositorio ```main```. "
   ]
  },
  {
   "cell_type": "code",
   "execution_count": 22,
   "metadata": {
    "scrolled": true
   },
   "outputs": [
    {
     "name": "stdout",
     "output_type": "stream",
     "text": [
      "Previous HEAD position was 87686fc 230321c\n",
      "Switched to branch 'main'\n",
      "Your branch is ahead of 'origin/main' by 1 commit.\n",
      "  (use \"git push\" to publish your local commits)\n"
     ]
    }
   ],
   "source": [
    "git checkout main"
   ]
  },
  {
   "cell_type": "markdown",
   "metadata": {},
   "source": [
    "* La siguiente celda creará un arhivo nuevo y relizará un commit en el directorio de trabajo del repositorio local."
   ]
  },
  {
   "cell_type": "code",
   "execution_count": 23,
   "metadata": {},
   "outputs": [],
   "source": [
    "echo hola >> archivo-curso-marzo-2023"
   ]
  },
  {
   "cell_type": "code",
   "execution_count": 24,
   "metadata": {},
   "outputs": [
    {
     "name": "stdout",
     "output_type": "stream",
     "text": [
      "On branch main\n",
      "Your branch is ahead of 'origin/main' by 1 commit.\n",
      "  (use \"git push\" to publish your local commits)\n",
      "\n",
      "Changes not staged for commit:\n",
      "  (use \"git add <file>...\" to update what will be committed)\n",
      "  (use \"git restore <file>...\" to discard changes in working directory)\n",
      "\tmodified:   archivo-curso-marzo-2023\n",
      "\n",
      "no changes added to commit (use \"git add\" and/or \"git commit -a\")\n"
     ]
    }
   ],
   "source": [
    "git status"
   ]
  },
  {
   "cell_type": "code",
   "execution_count": 25,
   "metadata": {},
   "outputs": [],
   "source": [
    "git add --all"
   ]
  },
  {
   "cell_type": "code",
   "execution_count": 26,
   "metadata": {
    "scrolled": true
   },
   "outputs": [
    {
     "name": "stdout",
     "output_type": "stream",
     "text": [
      "[main b6cd4ee] commit local\n",
      " 1 file changed, 1 insertion(+)\n"
     ]
    }
   ],
   "source": [
    "git commit -m \"commit local\" "
   ]
  },
  {
   "cell_type": "markdown",
   "metadata": {},
   "source": [
    "* La siguiente celda desplegará las diferencias entre las ramas ```origin/main``` y ```main```."
   ]
  },
  {
   "cell_type": "code",
   "execution_count": 27,
   "metadata": {
    "scrolled": true
   },
   "outputs": [
    {
     "name": "stdout",
     "output_type": "stream",
     "text": [
      "diff --git a/archivo-curso-marzo-2023 b/archivo-curso-marzo-2023\n",
      "new file mode 100644\n",
      "index 0000000..22ccd2f\n",
      "--- /dev/null\n",
      "+++ b/archivo-curso-marzo-2023\n",
      "@@ -0,0 +1,2 @@\n",
      "+hola\n",
      "+hola\n"
     ]
    }
   ],
   "source": [
    "git diff origin/main main"
   ]
  },
  {
   "cell_type": "markdown",
   "metadata": {},
   "source": [
    "* Ahora *git status* indicará que la rama ```main``` del repositorio local está adelantada por un *commit* con respecto a ```origin/main```."
   ]
  },
  {
   "cell_type": "code",
   "execution_count": 28,
   "metadata": {
    "scrolled": true
   },
   "outputs": [
    {
     "name": "stdout",
     "output_type": "stream",
     "text": [
      "On branch main\n",
      "Your branch is ahead of 'origin/main' by 2 commits.\n",
      "  (use \"git push\" to publish your local commits)\n",
      "\n",
      "nothing to commit, working tree clean\n"
     ]
    }
   ],
   "source": [
    "git status"
   ]
  },
  {
   "cell_type": "markdown",
   "metadata": {},
   "source": [
    "## Actualización de un repositorio local con respecto a un repositorio remoto.\n",
    "\n",
    "Es posible traer las actualizaciones de un repositorio remoto mediante dos comandos.\n",
    "\n",
    "* ```git fetch```\n",
    "* ```git pull```"
   ]
  },
  {
   "cell_type": "markdown",
   "metadata": {},
   "source": [
    "### El comando ```git fetch```.\n",
    "\n",
    "Este comando actualiza los cambios del repositorio remoto dentro del índice. \n",
    "\n",
    "``` bash\n",
    "git fetch <remoto>.<rama>\n",
    "```\n",
    "\n",
    "Donde:\n",
    "\n",
    "* ```<remoto>``` corresponde al nombre del repositorio remoto. El valor por defecto es ```origin```.\n",
    "* ```<rama>``` corresponde a la etiqueta de la rama en el repositorio remoto. El valor por defecto es la rama actual del repositorio local.\n",
    "\n",
    "La documentación de referencia del comando ```git fetch``` está disponible en:\n",
    "\n",
    "https://git-scm.com/docs/git-fetch"
   ]
  },
  {
   "cell_type": "markdown",
   "metadata": {},
   "source": [
    "**Ejemplo:**"
   ]
  },
  {
   "cell_type": "markdown",
   "metadata": {},
   "source": [
    "* La siguiente celda ejecutará el comado ```git fetch``` para ```origin/main```."
   ]
  },
  {
   "cell_type": "code",
   "execution_count": 29,
   "metadata": {},
   "outputs": [],
   "source": [
    "git fetch origin"
   ]
  },
  {
   "cell_type": "code",
   "execution_count": 30,
   "metadata": {
    "scrolled": false
   },
   "outputs": [
    {
     "name": "stdout",
     "output_type": "stream",
     "text": [
      "On branch main\n",
      "Your branch is ahead of 'origin/main' by 2 commits.\n",
      "  (use \"git push\" to publish your local commits)\n",
      "\n",
      "nothing to commit, working tree clean\n"
     ]
    }
   ],
   "source": [
    "git status"
   ]
  },
  {
   "cell_type": "code",
   "execution_count": 31,
   "metadata": {},
   "outputs": [
    {
     "name": "stdout",
     "output_type": "stream",
     "text": [
      "diff --git a/archivo-curso-marzo-2023 b/archivo-curso-marzo-2023\n",
      "deleted file mode 100644\n",
      "index 22ccd2f..0000000\n",
      "--- a/archivo-curso-marzo-2023\n",
      "+++ /dev/null\n",
      "@@ -1,2 +0,0 @@\n",
      "-hola\n",
      "-hola\n"
     ]
    }
   ],
   "source": [
    "git diff main origin/main "
   ]
  },
  {
   "cell_type": "markdown",
   "metadata": {},
   "source": [
    "### El comando ```git pull```.\n",
    "\n",
    "Este comando es similar a ```git fetch```, pero realiza un ```merge``` de forma automática, de tal modo que los nuevos *commits* del repositorio remoto se fusionan con el repositorio local. \n",
    "\n",
    "La referencia al comando ```git pull``` puede ser consultada en:\n",
    "\n",
    "https://git-scm.com/docs/git-pull"
   ]
  },
  {
   "cell_type": "code",
   "execution_count": 32,
   "metadata": {
    "scrolled": false
   },
   "outputs": [
    {
     "name": "stdout",
     "output_type": "stream",
     "text": [
      "hint: Pulling without specifying how to reconcile divergent branches is\n",
      "hint: discouraged. You can squelch this message by running one of the following\n",
      "hint: commands sometime before your next pull:\n",
      "hint: \n",
      "hint:   git config pull.rebase false  # merge (the default strategy)\n",
      "hint:   git config pull.rebase true   # rebase\n",
      "hint:   git config pull.ff only       # fast-forward only\n",
      "hint: \n",
      "hint: You can replace \"git config\" with \"git config --global\" to set a default\n",
      "hint: preference for all repositories. You can also pass --rebase, --no-rebase,\n",
      "hint: or --ff-only on the command line to override the configured default per\n",
      "hint: invocation.\n",
      "Already up to date.\n"
     ]
    }
   ],
   "source": [
    "git pull"
   ]
  },
  {
   "cell_type": "markdown",
   "metadata": {},
   "source": [
    "* La siguiente celda creará la regla para la configuración local."
   ]
  },
  {
   "cell_type": "code",
   "execution_count": 33,
   "metadata": {},
   "outputs": [],
   "source": [
    "git config pull.rebase false"
   ]
  },
  {
   "cell_type": "code",
   "execution_count": 34,
   "metadata": {},
   "outputs": [
    {
     "name": "stdout",
     "output_type": "stream",
     "text": [
      "On branch main\n",
      "Your branch is ahead of 'origin/main' by 2 commits.\n",
      "  (use \"git push\" to publish your local commits)\n",
      "\n",
      "nothing to commit, working tree clean\n"
     ]
    }
   ],
   "source": [
    "git status"
   ]
  },
  {
   "cell_type": "code",
   "execution_count": 35,
   "metadata": {},
   "outputs": [
    {
     "name": "stdout",
     "output_type": "stream",
     "text": [
      "Already up to date.\n"
     ]
    }
   ],
   "source": [
    "git pull"
   ]
  },
  {
   "cell_type": "code",
   "execution_count": 36,
   "metadata": {},
   "outputs": [
    {
     "name": "stdout",
     "output_type": "stream",
     "text": [
      "On branch main\n",
      "Your branch is ahead of 'origin/main' by 2 commits.\n",
      "  (use \"git push\" to publish your local commits)\n",
      "\n",
      "nothing to commit, working tree clean\n"
     ]
    }
   ],
   "source": [
    "git status"
   ]
  },
  {
   "cell_type": "code",
   "execution_count": 37,
   "metadata": {},
   "outputs": [
    {
     "name": "stdout",
     "output_type": "stream",
     "text": [
      ".                                   08_github.ipynb\n",
      "..                                  09_repositorios_remotos.ipynb\n",
      "00_preliminares.ipynb               10_flujos_de_trabajo.ipynb\n",
      "01_introduccion_a_git.ipynb         archivo-curso-marzo-2023\n",
      "02_gestion_de_repositorios.ipynb    .git\n",
      "03_gestion_de_ramas.ipynb           .gitignore\n",
      "04_referencias.ipynb                img\n",
      "05_gestion_de_tags.ipynb            LICENSE\n",
      "06_git_stash.ipynb                  README.md\n",
      "07_conflictos_y_correcciones.ipynb  src\n"
     ]
    }
   ],
   "source": [
    "ls -a"
   ]
  },
  {
   "cell_type": "code",
   "execution_count": 38,
   "metadata": {},
   "outputs": [
    {
     "name": "stdout",
     "output_type": "stream",
     "text": [
      "* commit b6cd4ee8d6ca3bed99a5ac9192d908d18d6fdfcb (HEAD -> main)\n",
      "| Author: Jose Luis Chiquete <ficticio@example.com>\n",
      "| Date:   Mon May 22 20:30:49 2023 -0500\n",
      "| \n",
      "|     commit local\n",
      "| \n",
      "* commit bd73783212f7cf869c72cd78faf4ebd4d0247be0\n",
      "| Author: Jose Luis Chiquete <ficticio@example.com>\n",
      "| Date:   Mon May 22 20:23:55 2023 -0500\n",
      "| \n",
      "|     commit local\n",
      "| \n",
      "* commit 87686fc806c48066f52a25be4cd1649e141de391 (origin/main, origin/HEAD)\n",
      "| Author: Jose Luis Chiquete <josech@gmail.com>\n",
      "| Date:   Tue Mar 21 21:58:13 2023 -0600\n",
      "| \n",
      "|     230321c\n",
      "| \n",
      "* commit 63cf05b79a5665f4cf5fd351c0dffea78ef7cc81\n",
      "| Author: Jose Luis Chiquete <josech@gmail.com>\n",
      "| Date:   Tue Mar 21 21:52:59 2023 -0600\n",
      "| \n",
      "|     230321a\n",
      "| \n",
      "* commit a35b554c3c1e09bed62939da91c5e1022340238e\n",
      "| Author: Jose Luis Chiquete <josech@gmail.com>\n",
      "| Date:   Tue Mar 21 16:21:54 2023 -0600\n",
      "| \n",
      "|     230321a\n",
      "| \n",
      "* commit d14ddb5bc4d75cb8b224bda548de6b509cd30bcc\n",
      "| Author: José Luis Chiquete <josech@gmail.com>\n",
      "| Date:   Thu Mar 16 15:07:54 2023 -0600\n",
      "| \n",
      "|     230316b\n",
      "| \n",
      "* commit cce157e84a7a99a18e446283acbebdd4e767ab30\n",
      "| Author: José Luis Chiquete <josech@gmail.com>\n",
      "| Date:   Thu Mar 16 07:53:03 2023 -0600\n",
      "| \n",
      "|     230316a\n",
      "| \n",
      "* commit 6fbc62b2bd6870dd905739df822df54a212827f9\n",
      "| Author: José Luis Chiquete <josech@gmail.com>\n",
      "| Date:   Wed Mar 15 20:54:02 2023 -0600\n",
      "| \n",
      "|     230315c\n",
      "| \n",
      "* commit 9a6748bcbd03960975b9334afa2e830a7031e780\n",
      "| Author: Jose Luis Chiquete <josech@gmail.com>\n",
      "| Date:   Wed Mar 15 07:54:40 2023 -0600\n",
      "| \n",
      "|     230315b\n",
      "| \n",
      "* commit 470cdfc44577cb99a4d8e7a0a6b8c48951046957\n",
      "| Author: Jose Luis Chiquete <josech@gmail.com>\n",
      "| Date:   Wed Mar 15 00:05:19 2023 -0600\n",
      "| \n",
      "|     230315a\n",
      "| \n",
      "* commit 023b69eb0b4540b1a07b10627904bbb08a72811b\n",
      "| Author: Jose Luis Chiquete <josech@gmail.com>\n",
      "| Date:   Tue Mar 14 21:47:40 2023 -0600\n",
      "| \n",
      "|     220314a\n",
      "| \n",
      "* commit 15aa4e8ce872f0911a628024c2338dc917609de4\n",
      "| Author: José Luis Chiquete <josech@gmail.com>\n",
      "| Date:   Mon Mar 13 13:10:24 2023 -0600\n",
      "| \n",
      "|     230313a\n",
      "| \n",
      "* commit 825b8dcbe0311de84d3cee30ca514544d752baa3\n",
      "| Author: Jose Luis Chiquete <josech@gmail.com>\n",
      "| Date:   Fri Jun 24 10:41:10 2022 -0500\n",
      "| \n",
      "|     220624d\n",
      "|   \n",
      "*   commit e13e66da13214ca50a8ae7d3cfd20e246ce9031f\n",
      "|\\  Merge: 6f67490 9f12b38\n",
      "| | Author: Jose Luis Chiquete <josech@gmail.com>\n",
      "| | Date:   Fri Jun 24 10:33:43 2022 -0500\n",
      "| | \n",
      "| |     Merge branch 'master' of https://github.com/Cloudevel/cd411\n",
      "| |   \n",
      "| *   commit 9f12b38ce3e324d7d1d93a31a8b5ee2267c0b2d4\n",
      "| |\\  Merge: 43cdd91 e80eb8f\n",
      "| | | Author: José Luis Chiquete <josech@gmail.com>\n",
      "| | | Date:   Fri Jun 24 09:35:52 2022 -0500\n",
      "| | | \n",
      "| | |     Merge pull request #1 from PythonistaIO/master\n",
      "| | |     \n",
      "| | |     Update 10_gestion_de_etiquetas.ipynb\n",
      "| | | \n",
      "| | * commit e80eb8ff8feaf19bb28020295e918c9bec402be9\n",
      "| |/  Author: Comunidad Pythonista <58314254+PythonistaIO@users.noreply.github.com>\n",
      "| |   Date:   Fri Jun 24 09:29:30 2022 -0500\n",
      "| |   \n",
      "| |       Update 10_gestion_de_etiquetas.ipynb\n",
      "| | \n",
      "* | commit 6f67490e35aa96cc1e075f48f7b18baa8ee17f0e\n",
      "|/  Author: Jose Luis Chiquete <josech@gmail.com>\n",
      "|   Date:   Fri Jun 24 10:32:51 2022 -0500\n",
      "|   \n",
      "|       220624b\n",
      "| \n",
      "* commit 43cdd91b5eacbc06439561a21407fd3428514749\n",
      "| Author: Jose Luis Chiquete <josech@gmail.com>\n",
      "| Date:   Fri Jun 24 09:13:00 2022 -0500\n",
      "| \n",
      "|     220624a\n",
      "| \n",
      "* commit 576318d55a36c5092c5040c8518523374a47a2a8\n",
      "| Author: Jose Luis Chiquete <josech@gmail.com>\n",
      "| Date:   Thu Jun 23 17:10:51 2022 -0500\n",
      "| \n",
      "|     220523a\n",
      "| \n",
      "* commit 63101b1f48bd9dad6bd119bd87e8039683086cd6\n",
      "| Author: Comunidad Pythonista <contacto@pythonista.io>\n",
      "| Date:   Wed Jun 22 08:09:16 2022 -0500\n",
      "| \n",
      "|     220622a\n",
      "| \n",
      "* commit e4a69ce887836e62730b1c1ad4ef9082338d688f\n",
      "| Author: Jose Luis Chiquete <josech@josech@gmail.com>\n",
      "| Date:   Sun Aug 23 22:40:05 2020 -0500\n",
      "| \n",
      "|     200823a\n",
      "| \n",
      "* commit 0e925aa99bc520716c02c57a6db57da4ebd2c4cc\n",
      "| Author: Comunidad Pythonista <contacto@pythonista.io>\n",
      "| Date:   Wed Apr 22 20:01:25 2020 +0000\n",
      "| \n",
      "|     200422b\n",
      "| \n",
      "* commit c4b9f40b2ebc716681e3a04da3d7aff044c2da0d\n",
      "| Author: Jose Luis Chiquete <josech@gmail.com>\n",
      "| Date:   Mon Apr 20 16:20:40 2020 -0500\n",
      "| \n",
      "|     adicional-2\n",
      "|   \n",
      "*   commit 944ebb7c947ed6cec80ed7f5db20b082dad8de59\n",
      "|\\  Merge: db30270 5801b0f\n",
      "| | Author: Jose Luis Chiquete <josech@gmail.com>\n",
      "| | Date:   Mon Apr 20 16:17:45 2020 -0500\n",
      "| | \n",
      "| |     Merge branch 'master' of https://github.com/Cloudevel/cd411\n",
      "| | \n",
      "| * commit 5801b0f9acc3982cedc7cd5b4be331ee86c385fc\n",
      "| | Author: Comunidad Pythonista <contacto@pythonista.io>\n",
      "| | Date:   Mon Apr 20 21:16:19 2020 +0000\n",
      "| | \n",
      "| |     otro error\n",
      "| | \n",
      "* | commit db3027025d5868192bed65747bc14cf61652e6bd\n",
      "|/  Author: Jose Luis Chiquete <josech@gmail.com>\n",
      "|   Date:   Mon Apr 20 16:14:24 2020 -0500\n",
      "|   \n",
      "|       adicional\n",
      "| \n",
      "* commit 9e53d5eb2f595e800bef6ec994d3713247ee3965\n",
      "| Author: Comunidad Pythonista <contacto@pythonista.io>\n",
      "| Date:   Mon Apr 20 21:09:00 2020 +0000\n",
      "| \n",
      "|     200420b\n",
      "| \n",
      "* commit 39ede8fd4d3cc9cec87bb6313a088edcbbe53288\n",
      "| Author: Comunidad Pythonista <contacto@pythonista.io>\n",
      "| Date:   Mon Apr 20 20:05:00 2020 +0000\n",
      "| \n",
      "|     200420a\n",
      "| \n",
      "* commit 8b98920411ed5055cdf5d8b29105b99286e2d69d\n",
      "| Author: Comunidad Pythonista <contacto@pythonista.io>\n",
      "| Date:   Mon Apr 20 19:55:46 2020 +0000\n",
      "| \n",
      "|     Revert \"200416b\"\n",
      "|     \n",
      "|     This reverts commit af5b288dc96c27ee2ce31af4afc1443a03c02efe.\n",
      "| \n",
      "* commit 299629bbd41150156188118e417e9bf41edf8856\n",
      "| Author: Comunidad Pythonista <contacto@pythonista.io>\n",
      "| Date:   Mon Apr 20 19:54:25 2020 +0000\n",
      "| \n",
      "|     rebae\n",
      "| \n",
      "* commit 513272097c6a30f20822fd1046c50eee1bfe6055\n",
      "| Author: Jose Luis Chiquete <josech@gmail.com>\n",
      "| Date:   Sat Apr 18 17:54:31 2020 -0500\n",
      "| \n",
      "|     200418a\n",
      "| \n",
      "* commit af5b288dc96c27ee2ce31af4afc1443a03c02efe\n",
      "| Author: Comunidad Pythonista <contacto@pythonista.io>\n",
      "| Date:   Thu Apr 16 20:10:18 2020 +0000\n",
      "| \n",
      "|     200416b\n",
      "| \n",
      "* commit 625f2054d62f0a43e1657b56960f39a85047c4e9\n",
      "| Author: Comunidad Pythonista <contacto@pythonista.io>\n",
      "| Date:   Thu Apr 16 20:09:40 2020 +0000\n",
      "| \n",
      "|     200416a\n",
      "| \n",
      "* commit 1036b98522ee56c892adbbd70c159d05c18de1f0\n",
      "| Author: Comunidad Pythonista <contacto@pythonista.io>\n",
      "| Date:   Wed Apr 15 19:53:37 2020 +0000\n",
      "| \n",
      "|     200415a\n",
      "| \n",
      "* commit 31985e0dbbb2cd79d05371ae4944857ecfd551f0\n",
      "| Author: Jose Luis Chiquete <josech@gmail.com>\n",
      "| Date:   Tue Apr 14 20:03:40 2020 +0000\n",
      "| \n",
      "|     200414d\n",
      "| \n",
      "* commit 0a36521037a203d09cb0c3a06391f572c777b942\n",
      "| Author: Jose Luis Chiquete <josech@gmail.com>\n",
      "| Date:   Tue Apr 14 19:35:15 2020 +0000\n",
      "| \n",
      "|     200414c\n",
      "| \n",
      "* commit 7d321af2c6b9594b3999c3853563f43028318b5c\n",
      "| Author: Jose Luis Chiquete <josech@gmail.com>\n",
      "| Date:   Tue Apr 14 18:27:13 2020 +0000\n",
      "| \n",
      "|     200414c\n",
      "| \n",
      "* commit 7afdac7fdc9b2020bce61bea7994e1a0796033ec\n",
      "| Author: Jose Luis Chiquete <josech@gmail.com>\n",
      "| Date:   Tue Apr 14 13:14:11 2020 -0500\n",
      "| \n",
      "|     200414b\n",
      "| \n",
      "* commit f64a8889b63550dbd4084380ac8e02132f4432a6\n",
      "| Author: Jose Luis Chiquete <josech@gmail.com>\n",
      "| Date:   Tue Apr 14 05:41:29 2020 -0500\n",
      "| \n",
      "|     200414a\n",
      "| \n",
      "* commit be3e0e15e6585dfe1b1da13db4772940b547f638\n",
      "  Author: José Luis Chiquete <josech@gmail.com>\n",
      "  Date:   Mon Apr 13 23:38:31 2020 -0500\n",
      "  \n",
      "      Initial commit\n"
     ]
    }
   ],
   "source": [
    "git log --graph"
   ]
  },
  {
   "cell_type": "markdown",
   "metadata": {},
   "source": [
    "## El comando ```git push```.\n",
    "\n",
    "El comando ```git push``` permite enviar los cambios de una rama de un repositorio local a un repostiorio remoto.\n",
    "\n",
    "**Nota:** Es importante que el usuario tenga los permisos necesarios para realizar esta acción.\n",
    "\n",
    "``` bash\n",
    "git push <remoto> <rama>\n",
    "```\n",
    "\n",
    "Donde:\n",
    "* ```<remoto>``` es el nombre de un repositorio remoto.\n",
    "* ```<rama>``` es la rama que se quiere afectar en el repositorio remoto.\n",
    "\n",
    "\n",
    "**NOTA:** Por lo general es necesario contar con credenciales válidas para tener permisos de escritura en el repositorio remoto.\n",
    "\n",
    "La referencia al comando ```git push``` puede ser consultada en:\n",
    "\n",
    "https://git-scm.com/docs/git-push"
   ]
  },
  {
   "cell_type": "markdown",
   "metadata": {},
   "source": [
    "**Ejemplo:**\n",
    "\n",
    "* Ejecutar el siguiente comando desde una terminal.\n",
    "\n",
    "```\n",
    "> git push origin main\n",
    "```\n",
    "* Deberá ingresar un usuario y un *Personal Access Token* válidos.\n",
    "\n",
    "```\n",
    "Username for 'https://github.com': josechval\n",
    "Password for 'https://pythonistaio@github.com':\n",
    "```\n",
    "\n",
    "* En caso de que las credenciales sean válidas. el resultado será similar al siguiente:\n",
    "\n",
    "```\n",
    "Counting objects: 3, done.\n",
    "Delta compression using up to 6 threads.\n",
    "Compressing objects: 100% (2/2), done.\n",
    "Writing objects: 100% (3/3), 273 bytes | 273.00 KiB/s, done.\n",
    "Total 3 (delta 1), reused 0 (delta 0)\n",
    "remote: Resolving deltas: 100% (1/1), completed with 1 local object.\n",
    "To https://github.com/Cloudevel/cd411.git\n",
    "   7bd73b0..259ba8a  main -> main\n",
    "```\n",
    "\n",
    "* La rama \n",
    "\n",
    "``` bash\n",
    "> git status\n",
    "```\n",
    "``` bash\n",
    "On branch main\n",
    "Your branch is up to date with 'origin/main'.\n",
    "\n",
    "nothing to commit, working tree clean\n",
    "``` "
   ]
  },
  {
   "cell_type": "markdown",
   "metadata": {},
   "source": [
    "<p style=\"text-align: center\"><a rel=\"license\" href=\"http://creativecommons.org/licenses/by/4.0/\"><img alt=\"Licencia Creative Commons\" style=\"border-width:0\" src=\"https://i.creativecommons.org/l/by/4.0/80x15.png\" /></a><br />Esta obra está bajo una <a rel=\"license\" href=\"http://creativecommons.org/licenses/by/4.0/\">Licencia Creative Commons Atribución 4.0 Internacional</a>.</p>\n",
    "<p style=\"text-align: center\">&copy; José Luis Chiquete Valdivieso. 2023.</p>"
   ]
  }
 ],
 "metadata": {
  "kernelspec": {
   "display_name": "Bash",
   "language": "bash",
   "name": "bash"
  },
  "language_info": {
   "codemirror_mode": "shell",
   "file_extension": ".sh",
   "mimetype": "text/x-sh",
   "name": "bash"
  }
 },
 "nbformat": 4,
 "nbformat_minor": 2
}
