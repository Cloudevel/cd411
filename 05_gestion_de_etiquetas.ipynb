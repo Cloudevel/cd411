{
 "cells": [
  {
   "cell_type": "markdown",
   "metadata": {},
   "source": [
    "<a href=\"https://cloudevel.com\"> <img src=\"img/cloudevel.png\" width=\"500px\"></a>"
   ]
  },
  {
   "cell_type": "markdown",
   "metadata": {},
   "source": [
    "# Gestión de etiquetas."
   ]
  },
  {
   "cell_type": "markdown",
   "metadata": {},
   "source": [
    "Las etiquetas (*tags*) son un tipo de referencias que le permiten a los usuarios asignarle un nombre a un estado específico del repositorio para poder identificarlo.\n",
    "\n",
    "Las etiquetas son útiles para identificar ciertas versiones relevantes en el repositorio mendiante una notación particular, en vez de usar *hashes*. \n",
    "\n",
    "En el siguiente enlace contiene información adicional sobre etiquetado. \n",
    "\n",
    "https://git-scm.com/book/en/v2/Git-Basics-Tagging"
   ]
  },
  {
   "cell_type": "markdown",
   "metadata": {},
   "source": [
    "## Preliminares:\n",
    "\n",
    "A fin de contar con un entorno unificado, se utilizará una versión creada previamente del directorio ```demo``` que incluye los ejercicios de los capítulos previos y se encuentra comprimida en el archivo ```src/04/demo.zip```. "
   ]
  },
  {
   "cell_type": "code",
   "execution_count": null,
   "metadata": {},
   "outputs": [],
   "source": [
    "rm -rf demo"
   ]
  },
  {
   "cell_type": "code",
   "execution_count": null,
   "metadata": {
    "scrolled": true
   },
   "outputs": [],
   "source": [
    "unzip -q src/04/demo.zip"
   ]
  },
  {
   "cell_type": "code",
   "execution_count": null,
   "metadata": {},
   "outputs": [],
   "source": [
    "cd demo"
   ]
  },
  {
   "cell_type": "code",
   "execution_count": null,
   "metadata": {},
   "outputs": [],
   "source": [
    "git branch"
   ]
  },
  {
   "cell_type": "code",
   "execution_count": null,
   "metadata": {},
   "outputs": [],
   "source": [
    "git log --oneline --graph"
   ]
  },
  {
   "cell_type": "markdown",
   "metadata": {},
   "source": [
    "## El comando ```git tag```.\n",
    "\n",
    "Este comando permite gestionar etiquetas en un repositorio.\n",
    "```\n",
    "git tag <opciones> <identificador> <argumentos>\n",
    "```\n",
    "\n",
    "Ejecutar ```git tag``` sin opciones regresa un listado de los *tags* de un repositorio de forma idéntica a ```git tag -l```.\n",
    "\n",
    "Para mayor referencia es posible consultar la siguiente liga:\n",
    "\n",
    "https://www.git-scm.com/docs/git-tag"
   ]
  },
  {
   "cell_type": "code",
   "execution_count": null,
   "metadata": {},
   "outputs": [],
   "source": [
    "git tag"
   ]
  },
  {
   "cell_type": "markdown",
   "metadata": {},
   "source": [
    "### Creación de etiquetas. \n",
    "\n",
    "```\n",
    "git tag <identificador> <hash>\n",
    "```\n",
    "\n",
    "Donde:\n",
    "\n",
    "* ```<hash>``` corresponde al hash de un *commit* del repositorio. En caso de no incluirlo, el *tag* se ligará a ```HEAD```de la rama actual. "
   ]
  },
  {
   "cell_type": "markdown",
   "metadata": {},
   "source": [
    "**Ejemplo:**"
   ]
  },
  {
   "cell_type": "markdown",
   "metadata": {},
   "source": [
    "* La siguiente celda le asignará la etiqueta ```v2.1``` al ```HEAD```."
   ]
  },
  {
   "cell_type": "code",
   "execution_count": null,
   "metadata": {},
   "outputs": [],
   "source": [
    "git tag v2.1"
   ]
  },
  {
   "cell_type": "code",
   "execution_count": null,
   "metadata": {
    "scrolled": true
   },
   "outputs": [],
   "source": [
    "git tag"
   ]
  },
  {
   "cell_type": "code",
   "execution_count": null,
   "metadata": {
    "scrolled": true
   },
   "outputs": [],
   "source": [
    "tree .git/refs/tags"
   ]
  },
  {
   "cell_type": "code",
   "execution_count": null,
   "metadata": {
    "scrolled": true
   },
   "outputs": [],
   "source": [
    "cat .git/refs/tags/v2.1"
   ]
  },
  {
   "cell_type": "markdown",
   "metadata": {},
   "source": [
    "* El comando ```git log```también muestra las etiquetas."
   ]
  },
  {
   "cell_type": "code",
   "execution_count": null,
   "metadata": {
    "scrolled": true
   },
   "outputs": [],
   "source": [
    "git log --oneline --graph"
   ]
  },
  {
   "cell_type": "markdown",
   "metadata": {},
   "source": [
    "* La siguiente celda uasará la etiqueta ```v2.1```  como referencia."
   ]
  },
  {
   "cell_type": "code",
   "execution_count": null,
   "metadata": {},
   "outputs": [],
   "source": [
    "git show v2.1"
   ]
  },
  {
   "cell_type": "markdown",
   "metadata": {},
   "source": [
    "### *Tags* con anotaciones.\n",
    "\n",
    "Los *tags* con anotaciones dan mayores detalle del usuario que realizó el *tag* y puede incluir mensajes.\n",
    "\n",
    "```\n",
    "git tag <opciones> -a <identificador>  <hash>\n",
    "```\n",
    "\n",
    "Donde:\n",
    "\n",
    "* ```<opciones>```pueden ser:\n",
    "    * ```-e``` para abrir un editor en le cual se redacte un mensaje.\n",
    "    * ```-m <mensaje>``` en le que se incluye in mensaje de texto de una línea."
   ]
  },
  {
   "cell_type": "markdown",
   "metadata": {},
   "source": [
    "**Ejemplo:**"
   ]
  },
  {
   "cell_type": "markdown",
   "metadata": {},
   "source": [
    "* La siguiente celda asignará el *tag* ```v1.0``` al *commit* con el *hash* identificador que empieza con ```2020250```. "
   ]
  },
  {
   "cell_type": "code",
   "execution_count": null,
   "metadata": {},
   "outputs": [],
   "source": [
    "git tag -m inicial -a v1.0 2020250"
   ]
  },
  {
   "cell_type": "code",
   "execution_count": null,
   "metadata": {
    "scrolled": false
   },
   "outputs": [],
   "source": [
    "git show v1.0"
   ]
  },
  {
   "cell_type": "markdown",
   "metadata": {},
   "source": [
    "### Listado de etiquetas.\n",
    "\n",
    "Para listar las etiquetas se utiliza la siguiente sintaxis.\n",
    "\n",
    "```\n",
    "git tag -l <patrón>\n",
    "```\n",
    "\n",
    "Donde:\n",
    "\n",
    "* ```<patrón>``` es una expresión regular. En caso de no incluirla, se listarán todos los *tags*."
   ]
  },
  {
   "cell_type": "code",
   "execution_count": null,
   "metadata": {},
   "outputs": [],
   "source": [
    "git tag -l v1*"
   ]
  },
  {
   "cell_type": "code",
   "execution_count": null,
   "metadata": {},
   "outputs": [],
   "source": [
    "cat .git/refs/tags/v1.0"
   ]
  },
  {
   "cell_type": "markdown",
   "metadata": {},
   "source": [
    "### Eliminación de etiquetas.\n",
    "\n",
    "Para listar las etiquetas se utiliza la siguiente sintaxis.\n",
    "\n",
    "```\n",
    "git tag -d <tag>\n",
    "```\n",
    "\n",
    "Donde:\n",
    "\n",
    "* ```<tag>``` es el *tag* que se quiera eliminar."
   ]
  },
  {
   "cell_type": "markdown",
   "metadata": {},
   "source": [
    "**Ejemplo:**"
   ]
  },
  {
   "cell_type": "markdown",
   "metadata": {},
   "source": [
    "* La siguiente celda eliminará al *tag* ```v2.1```, pero no al *commit* relacionado. "
   ]
  },
  {
   "cell_type": "code",
   "execution_count": null,
   "metadata": {},
   "outputs": [],
   "source": [
    "git tag -d v2.1"
   ]
  },
  {
   "cell_type": "code",
   "execution_count": null,
   "metadata": {},
   "outputs": [],
   "source": [
    "git tag -l"
   ]
  },
  {
   "cell_type": "code",
   "execution_count": null,
   "metadata": {},
   "outputs": [],
   "source": [
    "git show 955f607"
   ]
  },
  {
   "cell_type": "markdown",
   "metadata": {},
   "source": [
    "## Versionado semántico."
   ]
  },
  {
   "cell_type": "markdown",
   "metadata": {},
   "source": [
    "Uno de los principales usos de los *tags* es el de identificar versiones de código. Es por ello que se recomienda como buena práctica tner definido un esuqema de versionado.\n",
    "\n",
    "El siguiente vínculo apunta a la Especificación del Versionado Semántico (SemVer), la cual define reglas de versionado estandarizadas.\n",
    "\n",
    "https://semver.org/lang/es"
   ]
  },
  {
   "cell_type": "markdown",
   "metadata": {},
   "source": [
    "<p style=\"text-align: center\"><a rel=\"license\" href=\"http://creativecommons.org/licenses/by/4.0/\"><img alt=\"Licencia Creative Commons\" style=\"border-width:0\" src=\"https://i.creativecommons.org/l/by/4.0/80x15.png\" /></a><br />Esta obra está bajo una <a rel=\"license\" href=\"http://creativecommons.org/licenses/by/4.0/\">Licencia Creative Commons Atribución 4.0 Internacional</a>.</p>\n",
    "<p style=\"text-align: center\">&copy; José Luis Chiquete Valdivieso. 2023.</p>"
   ]
  }
 ],
 "metadata": {
  "kernelspec": {
   "display_name": "Bash",
   "language": "bash",
   "name": "bash"
  },
  "language_info": {
   "codemirror_mode": "shell",
   "file_extension": ".sh",
   "mimetype": "text/x-sh",
   "name": "bash"
  }
 },
 "nbformat": 4,
 "nbformat_minor": 2
}
