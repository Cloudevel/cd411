{
 "cells": [
  {
   "cell_type": "markdown",
   "metadata": {},
   "source": [
    "<a href=\"https://cloudevel.com\"> <img src=\"img/cloudevel.png\" width=\"500px\"></a>"
   ]
  },
  {
   "cell_type": "markdown",
   "metadata": {},
   "source": [
    "# Preservación de trabajo reciente.\n",
    "\n",
    "Es común que sea necesario \"pausar\" el trabajo que se realiza en un repositorio y restituir un directorio de trabajo \"limpio\", pero dicho trabajo aún no amerita realizar un \"commit\".\n",
    "\n",
    "*Git* permite definir un estado conocido como \"trabajo en proceso\" (*WIP* por sus siglas en inglés).\n",
    "\n",
    "\"*Stash*\" puede ser traducido como \"reserva\" y en le caso de *Git*, un *stash* es una colección ordenada de *WIP*."
   ]
  },
  {
   "cell_type": "markdown",
   "metadata": {},
   "source": [
    "## Preliminares:\n",
    "\n",
    "A fin de contar con un entorno unificado, se utilizará una versión creada previamente del directorio ```demo``` que incluye los ejercicios de los capítulos previos y se encuentra comprimida en el archivo ```src/04/demo.zip```. "
   ]
  },
  {
   "cell_type": "code",
   "execution_count": 1,
   "metadata": {},
   "outputs": [],
   "source": [
    "rm -rf demo"
   ]
  },
  {
   "cell_type": "code",
   "execution_count": 2,
   "metadata": {
    "scrolled": false
   },
   "outputs": [],
   "source": [
    "unzip -q src/04/demo.zip"
   ]
  },
  {
   "cell_type": "code",
   "execution_count": 3,
   "metadata": {},
   "outputs": [],
   "source": [
    "cd demo"
   ]
  },
  {
   "cell_type": "code",
   "execution_count": 4,
   "metadata": {},
   "outputs": [
    {
     "name": "stdout",
     "output_type": "stream",
     "text": [
      "* main\n",
      "  restituida\n",
      "  segunda\n"
     ]
    }
   ],
   "source": [
    "git branch"
   ]
  },
  {
   "cell_type": "code",
   "execution_count": 5,
   "metadata": {},
   "outputs": [
    {
     "name": "stdout",
     "output_type": "stream",
     "text": [
      "*   955f607 (HEAD -> main) commit fusionado\n",
      "|\\  \n",
      "| * 61db1a4 (segunda) primer commit de segunda\n",
      "* | b5f3cc9 quinto commit\n",
      "|/  \n",
      "* 2405b5a (restituida) cuarto commit\n",
      "* de4e044 segundo commit\n",
      "* 2020250 primer commit\n"
     ]
    }
   ],
   "source": [
    "git log --oneline --graph"
   ]
  },
  {
   "cell_type": "markdown",
   "metadata": {},
   "source": [
    "## El comando ```git stash```.\n",
    "\n",
    "Este comanndo permite preservar tanto el directorio de trabajo como el índice actual y regresar a ```HEAD``` sin necesidad de realizar un *commit*. A estos estados preservados se les llama *WIP* (*work in progress*).\n",
    "\n",
    "```\n",
    "git stash <opciones y argumentos>\n",
    "```\n",
    "\n",
    "Ejecutar ```git stash``` sin opciones es equivalente a ```git stash push```.\n",
    "\n",
    "Para mayor referencia es posible consultar la siguiente liga:\n",
    "\n",
    "https://www.git-scm.com/docs/git-stash"
   ]
  },
  {
   "cell_type": "markdown",
   "metadata": {},
   "source": [
    "### El comando ```git stash push```.\n",
    "\n",
    "Este comando realiza las siguientes acciones:\n",
    "\n",
    "* Crea una referencia guardada en el archivo ```.git/refs/stash``` del repositorio actual.\n",
    "* Guarda el estado del directorio de trabajo y del índice del repositorio.\n",
    "* Regresa el estado del repositorio a ```HEAD```.\n",
    "\n",
    "**Nota:** Es posible guardar más de un estado *WIP* mediante ```git stash push```."
   ]
  },
  {
   "cell_type": "markdown",
   "metadata": {},
   "source": [
    "**Ejemplo:**"
   ]
  },
  {
   "cell_type": "markdown",
   "metadata": {},
   "source": [
    "* Se crearán y modificarán algunos archivos del repositorio. "
   ]
  },
  {
   "cell_type": "code",
   "execution_count": 6,
   "metadata": {},
   "outputs": [],
   "source": [
    "touch preservado-1 preservado-2"
   ]
  },
  {
   "cell_type": "code",
   "execution_count": 7,
   "metadata": {},
   "outputs": [],
   "source": [
    "echo \"nueva línea\" >> archivo-2"
   ]
  },
  {
   "cell_type": "code",
   "execution_count": 8,
   "metadata": {},
   "outputs": [
    {
     "name": "stdout",
     "output_type": "stream",
     "text": [
      "nueva línea\n"
     ]
    }
   ],
   "source": [
    "cat archivo-2"
   ]
  },
  {
   "cell_type": "code",
   "execution_count": 9,
   "metadata": {},
   "outputs": [
    {
     "name": "stdout",
     "output_type": "stream",
     "text": [
      "archivo-1  archivo-2  archivo_nuevo  invisible  preservado-1  preservado-2\n"
     ]
    }
   ],
   "source": [
    "ls"
   ]
  },
  {
   "cell_type": "code",
   "execution_count": 10,
   "metadata": {
    "scrolled": false
   },
   "outputs": [
    {
     "name": "stdout",
     "output_type": "stream",
     "text": [
      "On branch main\n",
      "Changes not staged for commit:\n",
      "  (use \"git add <file>...\" to update what will be committed)\n",
      "  (use \"git restore <file>...\" to discard changes in working directory)\n",
      "\tmodified:   archivo-2\n",
      "\n",
      "Untracked files:\n",
      "  (use \"git add <file>...\" to include in what will be committed)\n",
      "\tpreservado-1\n",
      "\tpreservado-2\n",
      "\n",
      "no changes added to commit (use \"git add\" and/or \"git commit -a\")\n"
     ]
    }
   ],
   "source": [
    "git status"
   ]
  },
  {
   "cell_type": "markdown",
   "metadata": {},
   "source": [
    "* Se añadirán los archivos al área de preparación."
   ]
  },
  {
   "cell_type": "code",
   "execution_count": 11,
   "metadata": {},
   "outputs": [],
   "source": [
    "git add --all"
   ]
  },
  {
   "cell_type": "markdown",
   "metadata": {},
   "source": [
    "* S ejecutará el comando```git stash push```."
   ]
  },
  {
   "cell_type": "code",
   "execution_count": 12,
   "metadata": {
    "scrolled": true
   },
   "outputs": [
    {
     "name": "stdout",
     "output_type": "stream",
     "text": [
      "Saved working directory and index state WIP on main: 955f607 commit fusionado\n"
     ]
    }
   ],
   "source": [
    "git stash push"
   ]
  },
  {
   "cell_type": "markdown",
   "metadata": {},
   "source": [
    "* El estado del repositorio volvió a sincronizarse con ```HEAD```."
   ]
  },
  {
   "cell_type": "code",
   "execution_count": 13,
   "metadata": {},
   "outputs": [
    {
     "name": "stdout",
     "output_type": "stream",
     "text": [
      "archivo-1  archivo-2  archivo_nuevo  invisible\n"
     ]
    }
   ],
   "source": [
    "ls"
   ]
  },
  {
   "cell_type": "code",
   "execution_count": 14,
   "metadata": {},
   "outputs": [],
   "source": [
    "cat archivo-2"
   ]
  },
  {
   "cell_type": "code",
   "execution_count": 15,
   "metadata": {
    "scrolled": true
   },
   "outputs": [
    {
     "name": "stdout",
     "output_type": "stream",
     "text": [
      "955f607 (HEAD -> main) commit fusionado\n",
      "b5f3cc9 quinto commit\n",
      "61db1a4 (segunda) primer commit de segunda\n",
      "2405b5a (restituida) cuarto commit\n",
      "de4e044 segundo commit\n",
      "2020250 primer commit\n"
     ]
    }
   ],
   "source": [
    "git log --oneline"
   ]
  },
  {
   "cell_type": "markdown",
   "metadata": {},
   "source": [
    "* El área de preparación está vacía."
   ]
  },
  {
   "cell_type": "code",
   "execution_count": 16,
   "metadata": {},
   "outputs": [
    {
     "name": "stdout",
     "output_type": "stream",
     "text": [
      "On branch main\n",
      "nothing to commit, working tree clean\n"
     ]
    }
   ],
   "source": [
    "git status"
   ]
  },
  {
   "cell_type": "markdown",
   "metadata": {},
   "source": [
    "* La siguiente celda mostrará el estado del *stash* del repositorio actual."
   ]
  },
  {
   "cell_type": "code",
   "execution_count": 17,
   "metadata": {},
   "outputs": [
    {
     "name": "stdout",
     "output_type": "stream",
     "text": [
      " archivo-2    | 1 +\n",
      " preservado-1 | 0\n",
      " preservado-2 | 0\n",
      " 3 files changed, 1 insertion(+)\n"
     ]
    }
   ],
   "source": [
    "git stash show"
   ]
  },
  {
   "cell_type": "markdown",
   "metadata": {},
   "source": [
    "* Se ha creado el directorio ```.git/refs/stash```."
   ]
  },
  {
   "cell_type": "code",
   "execution_count": 18,
   "metadata": {
    "scrolled": true
   },
   "outputs": [
    {
     "name": "stdout",
     "output_type": "stream",
     "text": [
      "17c3d6e50cf59dacd8b4bf8d41459eca83f36fef\n"
     ]
    }
   ],
   "source": [
    "cat .git/refs/stash"
   ]
  },
  {
   "cell_type": "markdown",
   "metadata": {},
   "source": [
    "* La siguiente celda mostrará el listado de *WIP* en el *stash*."
   ]
  },
  {
   "cell_type": "code",
   "execution_count": 19,
   "metadata": {
    "scrolled": true
   },
   "outputs": [
    {
     "name": "stdout",
     "output_type": "stream",
     "text": [
      "stash@{0}: WIP on main: 955f607 commit fusionado\n"
     ]
    }
   ],
   "source": [
    "git stash list"
   ]
  },
  {
   "cell_type": "markdown",
   "metadata": {},
   "source": [
    "* La siguiente celda creará el archivo ```preservado-3```."
   ]
  },
  {
   "cell_type": "code",
   "execution_count": 20,
   "metadata": {},
   "outputs": [],
   "source": [
    "touch preservado-3"
   ]
  },
  {
   "cell_type": "markdown",
   "metadata": {},
   "source": [
    "* Se añádirán todas las modificaciones al área de preparación."
   ]
  },
  {
   "cell_type": "code",
   "execution_count": 21,
   "metadata": {},
   "outputs": [],
   "source": [
    "git add --all"
   ]
  },
  {
   "cell_type": "markdown",
   "metadata": {},
   "source": [
    "* Se añadirá un nuevo *WIP* al *stash*."
   ]
  },
  {
   "cell_type": "code",
   "execution_count": 22,
   "metadata": {},
   "outputs": [
    {
     "name": "stdout",
     "output_type": "stream",
     "text": [
      "Saved working directory and index state WIP on main: 955f607 commit fusionado\n"
     ]
    }
   ],
   "source": [
    "git stash push"
   ]
  },
  {
   "cell_type": "markdown",
   "metadata": {},
   "source": [
    "Ahora existen 2 *stash*."
   ]
  },
  {
   "cell_type": "code",
   "execution_count": 23,
   "metadata": {
    "scrolled": false
   },
   "outputs": [
    {
     "name": "stdout",
     "output_type": "stream",
     "text": [
      "stash@{0}: WIP on main: 955f607 commit fusionado\n",
      "stash@{1}: WIP on main: 955f607 commit fusionado\n"
     ]
    }
   ],
   "source": [
    "git stash list"
   ]
  },
  {
   "cell_type": "code",
   "execution_count": 24,
   "metadata": {},
   "outputs": [
    {
     "name": "stdout",
     "output_type": "stream",
     "text": [
      "9e459f659ff70360554d68574261b615866444a5\n"
     ]
    }
   ],
   "source": [
    "cat .git/refs/stash"
   ]
  },
  {
   "cell_type": "markdown",
   "metadata": {},
   "source": [
    "### La variable ```stash```.\n",
    "\n",
    "La variable ```stash``` permite identificar y seleccionar los diversos *WIPs* tomando como referencia al *WIP* más reciente.\n",
    "\n",
    "```stash@{<n>}```\n",
    "\n",
    "Donde:\n",
    "\n",
    "* ```<n>``` es el índice de cada *WIP* siendo el índice ```0``` el que corresponde al *WIP* más reciente."
   ]
  },
  {
   "cell_type": "markdown",
   "metadata": {},
   "source": [
    "### El comando ```git stash list```.\n",
    "\n",
    "Este comando regresa un listado de estados *WIP* de un repositorio. \n",
    "\n",
    "\n",
    "```\n",
    "git stash list\n",
    "```\n",
    "\n",
    "Cada línea se describe de la siguiente manera:\n",
    "\n",
    "```\n",
    "stash@{<n>} WIP on <rama>: <identificador> <mensaje>\n",
    "```\n",
    "\n",
    "Donde:\n",
    "\n",
    "* ```<n>``` es un número que comienza en ```0``` y va aumentando de uno en uno. El número ```0``` corresponde al evento más reciente.\n",
    "* ```<rama>``` corresponde a la rama en la que se realizó el \"stash\".\n",
    "* ```<identificador>``` corresponde al identificador del commit en el que se realizó el \"stash\".\n",
    "* ```<mensaje>``` corresponde al mensaje del commit en el que se realizó el \"stash\"."
   ]
  },
  {
   "cell_type": "markdown",
   "metadata": {},
   "source": [
    "**Ejemplo:**"
   ]
  },
  {
   "cell_type": "markdown",
   "metadata": {},
   "source": [
    "* La siguiente celda mostrará el listado de todos los *WIPs* del reopsitorio."
   ]
  },
  {
   "cell_type": "code",
   "execution_count": 25,
   "metadata": {},
   "outputs": [
    {
     "name": "stdout",
     "output_type": "stream",
     "text": [
      "stash@{0}: WIP on main: 955f607 commit fusionado\n",
      "stash@{1}: WIP on main: 955f607 commit fusionado\n"
     ]
    }
   ],
   "source": [
    "git stash list"
   ]
  },
  {
   "cell_type": "markdown",
   "metadata": {},
   "source": [
    "### El comando ```git stash show```.\n",
    "\n",
    "Este comando muestra las modificaciones al estado de un stash.\n",
    "\n",
    "```\n",
    "git stash show <wip> \n",
    "```\n",
    "\n",
    "Donde:\n",
    "\n",
    "* ```<wip>``` es un *WIP* específico usando la sintaxis ```stash@{<n>}```. El valor por defecto es ```stash@{0}```."
   ]
  },
  {
   "cell_type": "markdown",
   "metadata": {},
   "source": [
    "**Ejemplos:**"
   ]
  },
  {
   "cell_type": "markdown",
   "metadata": {},
   "source": [
    "* La siguiente celda mostrará el *WIP* más reciente."
   ]
  },
  {
   "cell_type": "code",
   "execution_count": 26,
   "metadata": {},
   "outputs": [
    {
     "name": "stdout",
     "output_type": "stream",
     "text": [
      " preservado-3 | 0\n",
      " 1 file changed, 0 insertions(+), 0 deletions(-)\n"
     ]
    }
   ],
   "source": [
    "git stash show"
   ]
  },
  {
   "cell_type": "markdown",
   "metadata": {},
   "source": [
    "* La siguiente celda también mostrará el *WIP* más reciente."
   ]
  },
  {
   "cell_type": "code",
   "execution_count": 27,
   "metadata": {},
   "outputs": [
    {
     "name": "stdout",
     "output_type": "stream",
     "text": [
      " preservado-3 | 0\n",
      " 1 file changed, 0 insertions(+), 0 deletions(-)\n"
     ]
    }
   ],
   "source": [
    "git stash show stash@{0}"
   ]
  },
  {
   "cell_type": "markdown",
   "metadata": {},
   "source": [
    "* La siguiente celda también mostrará el *WIP* correspondiente a ```stash@{1}```."
   ]
  },
  {
   "cell_type": "code",
   "execution_count": 28,
   "metadata": {},
   "outputs": [
    {
     "name": "stdout",
     "output_type": "stream",
     "text": [
      " archivo-2    | 1 +\n",
      " preservado-1 | 0\n",
      " preservado-2 | 0\n",
      " 3 files changed, 1 insertion(+)\n"
     ]
    }
   ],
   "source": [
    "git stash show stash@{1}"
   ]
  },
  {
   "cell_type": "markdown",
   "metadata": {},
   "source": [
    "### El comando ```git stash apply```.\n",
    "\n",
    "\n",
    "El comando ```git stash apply``` permite aplicar los cambios guardasdos en un *WIP* en el repositorio.\n",
    "\n",
    "```\n",
    "git stash apply <wip>\n",
    "```\n",
    "\n",
    "\n",
    "Donde:\n",
    "\n",
    "* ```<wip>``` es un *WIP* específico usando la sintaxis ```stash@{<n>}```. El valor por defecto es ```stash@{0}```.\n",
    "\n",
    "**Nota:** Los *WIP* pueden ser aplicados en ramas distintas a la rama desde la que se extrajo el *WIP* originalmente. "
   ]
  },
  {
   "cell_type": "markdown",
   "metadata": {},
   "source": [
    "**Ejemplos:**"
   ]
  },
  {
   "cell_type": "markdown",
   "metadata": {},
   "source": [
    "* La siguiente celda aplicará los cambios guardados en el *WIP* ```stash@{1}``` al repositorio."
   ]
  },
  {
   "cell_type": "code",
   "execution_count": 29,
   "metadata": {
    "scrolled": false
   },
   "outputs": [
    {
     "name": "stdout",
     "output_type": "stream",
     "text": [
      "On branch main\n",
      "Changes to be committed:\n",
      "  (use \"git restore --staged <file>...\" to unstage)\n",
      "\tnew file:   preservado-1\n",
      "\tnew file:   preservado-2\n",
      "\n",
      "Changes not staged for commit:\n",
      "  (use \"git add <file>...\" to update what will be committed)\n",
      "  (use \"git restore <file>...\" to discard changes in working directory)\n",
      "\tmodified:   archivo-2\n",
      "\n"
     ]
    }
   ],
   "source": [
    "git stash apply stash@{1}"
   ]
  },
  {
   "cell_type": "code",
   "execution_count": 30,
   "metadata": {},
   "outputs": [
    {
     "name": "stdout",
     "output_type": "stream",
     "text": [
      "archivo-1  archivo-2  archivo_nuevo  invisible  preservado-1  preservado-2\n"
     ]
    }
   ],
   "source": [
    "ls"
   ]
  },
  {
   "cell_type": "code",
   "execution_count": 31,
   "metadata": {
    "scrolled": true
   },
   "outputs": [
    {
     "name": "stdout",
     "output_type": "stream",
     "text": [
      "nueva línea\n"
     ]
    }
   ],
   "source": [
    "cat archivo-2"
   ]
  },
  {
   "cell_type": "code",
   "execution_count": 32,
   "metadata": {},
   "outputs": [
    {
     "name": "stdout",
     "output_type": "stream",
     "text": [
      "On branch main\n",
      "Changes to be committed:\n",
      "  (use \"git restore --staged <file>...\" to unstage)\n",
      "\tnew file:   preservado-1\n",
      "\tnew file:   preservado-2\n",
      "\n",
      "Changes not staged for commit:\n",
      "  (use \"git add <file>...\" to update what will be committed)\n",
      "  (use \"git restore <file>...\" to discard changes in working directory)\n",
      "\tmodified:   archivo-2\n",
      "\n"
     ]
    }
   ],
   "source": [
    "git status"
   ]
  },
  {
   "cell_type": "markdown",
   "metadata": {},
   "source": [
    "* Los *WIPs* no han sido modificados."
   ]
  },
  {
   "cell_type": "code",
   "execution_count": 33,
   "metadata": {},
   "outputs": [
    {
     "name": "stdout",
     "output_type": "stream",
     "text": [
      "stash@{0}: WIP on main: 955f607 commit fusionado\n",
      "stash@{1}: WIP on main: 955f607 commit fusionado\n"
     ]
    }
   ],
   "source": [
    "git stash list"
   ]
  },
  {
   "cell_type": "markdown",
   "metadata": {},
   "source": [
    "### El comando ```git stash pop```.\n",
    "\n",
    "El comando ```git stash apply``` permite aplicar un *WIP* en el repositorio, pero una vez que es aplicado, el *WIP* es eliminado.\n",
    "\n",
    "```\n",
    "git stash pop <wip>\n",
    "```\n",
    "\n",
    "Donde:\n",
    "\n",
    "* ```<wip>``` es un *WIP* específico usando la sintaxis ```stash@{<n>}```. El valor por defecto es ```stash@{0}```."
   ]
  },
  {
   "cell_type": "markdown",
   "metadata": {},
   "source": [
    "**Ejemplo:**"
   ]
  },
  {
   "cell_type": "markdown",
   "metadata": {},
   "source": [
    "* La siguiente celda aplicará los cambios guardados en ```stash@{0}``` al repositorio y eliminará a dicho *WIP*."
   ]
  },
  {
   "cell_type": "code",
   "execution_count": 34,
   "metadata": {
    "scrolled": true
   },
   "outputs": [
    {
     "name": "stdout",
     "output_type": "stream",
     "text": [
      "On branch main\n",
      "Changes to be committed:\n",
      "  (use \"git restore --staged <file>...\" to unstage)\n",
      "\tnew file:   preservado-1\n",
      "\tnew file:   preservado-2\n",
      "\tnew file:   preservado-3\n",
      "\n",
      "Changes not staged for commit:\n",
      "  (use \"git add <file>...\" to update what will be committed)\n",
      "  (use \"git restore <file>...\" to discard changes in working directory)\n",
      "\tmodified:   archivo-2\n",
      "\n",
      "Dropped refs/stash@{0} (9e459f659ff70360554d68574261b615866444a5)\n"
     ]
    }
   ],
   "source": [
    "git stash pop"
   ]
  },
  {
   "cell_type": "code",
   "execution_count": 35,
   "metadata": {},
   "outputs": [
    {
     "name": "stdout",
     "output_type": "stream",
     "text": [
      "archivo-1  archivo_nuevo  preservado-1  preservado-3\n",
      "archivo-2  invisible      preservado-2\n"
     ]
    }
   ],
   "source": [
    "ls"
   ]
  },
  {
   "cell_type": "markdown",
   "metadata": {},
   "source": [
    "* Ahora el *stash* se ha actualizado."
   ]
  },
  {
   "cell_type": "code",
   "execution_count": 36,
   "metadata": {
    "scrolled": true
   },
   "outputs": [
    {
     "name": "stdout",
     "output_type": "stream",
     "text": [
      "stash@{0}: WIP on main: 955f607 commit fusionado\n"
     ]
    }
   ],
   "source": [
    "git stash list"
   ]
  },
  {
   "cell_type": "markdown",
   "metadata": {},
   "source": [
    "### El comando ```git stash branch```.\n",
    "\n",
    "El comando ```git stash branch``` permite aplicar un ```git pop``` a la rama actual, pero creando una nueva rama y dejando a la actual intacta.\n",
    "\n",
    "```\n",
    "git stash branch <rama> <wip>\n",
    "```\n",
    "\n",
    "\n",
    "Donde:\n",
    "* ```<rama>``` es la edtiqueta de la rama nueva.\n",
    "* ```<wip>``` es un *WIP* específico usando la sintaxis ```stash@{<n>}```. El valor por defecto es ```stash@{0}```"
   ]
  },
  {
   "cell_type": "markdown",
   "metadata": {},
   "source": [
    "**Ejemplo:**"
   ]
  },
  {
   "cell_type": "markdown",
   "metadata": {},
   "source": [
    "* Se creará el archivo ```preservado-4```."
   ]
  },
  {
   "cell_type": "code",
   "execution_count": 37,
   "metadata": {},
   "outputs": [],
   "source": [
    "touch preservado-4"
   ]
  },
  {
   "cell_type": "markdown",
   "metadata": {},
   "source": [
    "* Se creará un  nuevo *WIP*."
   ]
  },
  {
   "cell_type": "code",
   "execution_count": 38,
   "metadata": {},
   "outputs": [],
   "source": [
    "git add --all"
   ]
  },
  {
   "cell_type": "code",
   "execution_count": 39,
   "metadata": {},
   "outputs": [
    {
     "name": "stdout",
     "output_type": "stream",
     "text": [
      "Saved working directory and index state WIP on main: 955f607 commit fusionado\n"
     ]
    }
   ],
   "source": [
    "git stash"
   ]
  },
  {
   "cell_type": "markdown",
   "metadata": {},
   "source": [
    "* La siguiente celda creará la rama ```reserva``` a partir de aplicar el *WIP* ```stash@{0}``` a la rama actual."
   ]
  },
  {
   "cell_type": "code",
   "execution_count": 40,
   "metadata": {
    "scrolled": true
   },
   "outputs": [
    {
     "name": "stdout",
     "output_type": "stream",
     "text": [
      "Switched to a new branch 'reserva'\n",
      "On branch reserva\n",
      "Changes to be committed:\n",
      "  (use \"git restore --staged <file>...\" to unstage)\n",
      "\tmodified:   archivo-2\n",
      "\tnew file:   preservado-1\n",
      "\tnew file:   preservado-2\n",
      "\tnew file:   preservado-3\n",
      "\tnew file:   preservado-4\n",
      "\n",
      "Dropped stash@{0} (af294b5bffe3a92debf35f6d125b207d0ff45e8e)\n"
     ]
    }
   ],
   "source": [
    "git stash branch reserva stash@{0}"
   ]
  },
  {
   "cell_type": "code",
   "execution_count": 41,
   "metadata": {},
   "outputs": [
    {
     "name": "stdout",
     "output_type": "stream",
     "text": [
      "  main\n",
      "* reserva\n",
      "  restituida\n",
      "  segunda\n"
     ]
    }
   ],
   "source": [
    "git branch"
   ]
  },
  {
   "cell_type": "code",
   "execution_count": 42,
   "metadata": {},
   "outputs": [
    {
     "name": "stdout",
     "output_type": "stream",
     "text": [
      "*   955f607 (HEAD -> reserva, main) commit fusionado\n",
      "|\\  \n",
      "| * 61db1a4 (segunda) primer commit de segunda\n",
      "* | b5f3cc9 quinto commit\n",
      "|/  \n",
      "* 2405b5a (restituida) cuarto commit\n",
      "* de4e044 segundo commit\n",
      "* 2020250 primer commit\n"
     ]
    }
   ],
   "source": [
    "git log --oneline --graph"
   ]
  },
  {
   "cell_type": "code",
   "execution_count": 43,
   "metadata": {},
   "outputs": [
    {
     "name": "stdout",
     "output_type": "stream",
     "text": [
      "On branch reserva\n",
      "Changes to be committed:\n",
      "  (use \"git restore --staged <file>...\" to unstage)\n",
      "\tmodified:   archivo-2\n",
      "\tnew file:   preservado-1\n",
      "\tnew file:   preservado-2\n",
      "\tnew file:   preservado-3\n",
      "\tnew file:   preservado-4\n",
      "\n"
     ]
    }
   ],
   "source": [
    "git status"
   ]
  },
  {
   "cell_type": "code",
   "execution_count": 44,
   "metadata": {},
   "outputs": [
    {
     "name": "stdout",
     "output_type": "stream",
     "text": [
      "stash@{0}: WIP on main: 955f607 commit fusionado\n"
     ]
    }
   ],
   "source": [
    "git stash list"
   ]
  },
  {
   "cell_type": "markdown",
   "metadata": {},
   "source": [
    "### El comando ```git stash drop```.\n",
    "\n",
    "El comando ```git stash drop``` elimina el *WIP* que se le indique.\n",
    "\n",
    "\n",
    "```\n",
    "git stash drop <wip>\n",
    "```\n",
    "\n",
    "\n",
    "Donde:\n",
    "* ```<wip>``` es un *WIP* específico usando la sintaxis ```stash@{<n>}```. El valor por defecto es ```stash@{0}```"
   ]
  },
  {
   "cell_type": "markdown",
   "metadata": {},
   "source": [
    "**Ejemplo:**"
   ]
  },
  {
   "cell_type": "markdown",
   "metadata": {},
   "source": [
    "* Se creará el archivo ```preservado-5```."
   ]
  },
  {
   "cell_type": "code",
   "execution_count": 45,
   "metadata": {},
   "outputs": [],
   "source": [
    "touch preservado-5"
   ]
  },
  {
   "cell_type": "markdown",
   "metadata": {},
   "source": [
    "* Se creará un nuevo *WIP*."
   ]
  },
  {
   "cell_type": "code",
   "execution_count": 46,
   "metadata": {},
   "outputs": [],
   "source": [
    "git add --all"
   ]
  },
  {
   "cell_type": "code",
   "execution_count": 47,
   "metadata": {},
   "outputs": [
    {
     "name": "stdout",
     "output_type": "stream",
     "text": [
      "Saved working directory and index state WIP on reserva: 955f607 commit fusionado\n"
     ]
    }
   ],
   "source": [
    "git stash"
   ]
  },
  {
   "cell_type": "code",
   "execution_count": 48,
   "metadata": {},
   "outputs": [
    {
     "name": "stdout",
     "output_type": "stream",
     "text": [
      "stash@{0}: WIP on reserva: 955f607 commit fusionado\n",
      "stash@{1}: WIP on main: 955f607 commit fusionado\n"
     ]
    }
   ],
   "source": [
    "git stash list"
   ]
  },
  {
   "cell_type": "markdown",
   "metadata": {},
   "source": [
    "* Se eliminará el *WIP* ```stash@{1}```."
   ]
  },
  {
   "cell_type": "code",
   "execution_count": 49,
   "metadata": {},
   "outputs": [
    {
     "name": "stdout",
     "output_type": "stream",
     "text": [
      "Dropped stash@{1} (17c3d6e50cf59dacd8b4bf8d41459eca83f36fef)\n"
     ]
    }
   ],
   "source": [
    "git stash drop stash@{1}"
   ]
  },
  {
   "cell_type": "code",
   "execution_count": 50,
   "metadata": {},
   "outputs": [
    {
     "name": "stdout",
     "output_type": "stream",
     "text": [
      "stash@{0}: WIP on reserva: 955f607 commit fusionado\n"
     ]
    }
   ],
   "source": [
    "git stash list"
   ]
  },
  {
   "cell_type": "markdown",
   "metadata": {},
   "source": [
    "### El comando ```git stash clear```.\n",
    "\n",
    "El comando ```git stash clear``` limpia el *stash*, eliminado todos los *WIP*. \n",
    "\n",
    "```\n",
    "git stash clear\n",
    "```"
   ]
  },
  {
   "cell_type": "markdown",
   "metadata": {},
   "source": [
    "**Ejemplo:**"
   ]
  },
  {
   "cell_type": "markdown",
   "metadata": {},
   "source": [
    "* La siguiente celda eliminará todos los *WIPS* en el *stash*."
   ]
  },
  {
   "cell_type": "code",
   "execution_count": 51,
   "metadata": {},
   "outputs": [],
   "source": [
    "git stash clear"
   ]
  },
  {
   "cell_type": "code",
   "execution_count": 52,
   "metadata": {},
   "outputs": [],
   "source": [
    "git stash list"
   ]
  },
  {
   "cell_type": "markdown",
   "metadata": {},
   "source": [
    "<p style=\"text-align: center\"><a rel=\"license\" href=\"http://creativecommons.org/licenses/by/4.0/\"><img alt=\"Licencia Creative Commons\" style=\"border-width:0\" src=\"https://i.creativecommons.org/l/by/4.0/80x15.png\" /></a><br />Esta obra está bajo una <a rel=\"license\" href=\"http://creativecommons.org/licenses/by/4.0/\">Licencia Creative Commons Atribución 4.0 Internacional</a>.</p>\n",
    "<p style=\"text-align: center\">&copy; José Luis Chiquete Valdivieso. 2023.</p>"
   ]
  }
 ],
 "metadata": {
  "kernelspec": {
   "display_name": "Bash",
   "language": "bash",
   "name": "bash"
  },
  "language_info": {
   "codemirror_mode": "shell",
   "file_extension": ".sh",
   "mimetype": "text/x-sh",
   "name": "bash"
  }
 },
 "nbformat": 4,
 "nbformat_minor": 2
}
