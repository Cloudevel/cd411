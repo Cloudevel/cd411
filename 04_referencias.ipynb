{
 "cells": [
  {
   "cell_type": "markdown",
   "metadata": {},
   "source": [
    "<a href=\"https://cloudevel.com\"> <img src=\"img/cloudevel.png\" width=\"500px\"></a>"
   ]
  },
  {
   "cell_type": "markdown",
   "metadata": {},
   "source": [
    "# Referencias."
   ]
  },
  {
   "cell_type": "markdown",
   "metadata": {},
   "source": [
    "## Preliminares.\n",
    "\n",
    "Antes de empezar este capítulo es necesario descomprimir el archivo ```src/04/demo.zip```, el cual contiene una estructura similar al repositorio ```demo``` del capítulo 3."
   ]
  },
  {
   "cell_type": "code",
   "execution_count": 1,
   "metadata": {},
   "outputs": [],
   "source": [
    "rm -rf demo"
   ]
  },
  {
   "cell_type": "code",
   "execution_count": 2,
   "metadata": {},
   "outputs": [],
   "source": [
    "unzip -q src/04/demo.zip"
   ]
  },
  {
   "cell_type": "markdown",
   "metadata": {},
   "source": [
    "<img src=\"img/03/restituida.png\">"
   ]
  },
  {
   "cell_type": "code",
   "execution_count": 3,
   "metadata": {},
   "outputs": [],
   "source": [
    "cd demo"
   ]
  },
  {
   "cell_type": "code",
   "execution_count": 4,
   "metadata": {},
   "outputs": [
    {
     "name": "stdout",
     "output_type": "stream",
     "text": [
      "* main\n",
      "  restituida\n",
      "  segunda\n"
     ]
    }
   ],
   "source": [
    "git branch"
   ]
  },
  {
   "cell_type": "code",
   "execution_count": 5,
   "metadata": {},
   "outputs": [
    {
     "name": "stdout",
     "output_type": "stream",
     "text": [
      "archivo-1  archivo-2  archivo_nuevo  invisible\n"
     ]
    }
   ],
   "source": [
    "ls"
   ]
  },
  {
   "cell_type": "code",
   "execution_count": 6,
   "metadata": {},
   "outputs": [
    {
     "name": "stdout",
     "output_type": "stream",
     "text": [
      ".gitignore\n",
      "archivo-1\n",
      "archivo-2\n",
      "archivo_nuevo\n"
     ]
    }
   ],
   "source": [
    "git ls-files"
   ]
  },
  {
   "cell_type": "code",
   "execution_count": 7,
   "metadata": {},
   "outputs": [
    {
     "name": "stdout",
     "output_type": "stream",
     "text": [
      "*   955f607 (HEAD -> main) commit fusionado\n",
      "|\\  \n",
      "| * 61db1a4 (segunda) primer commit de segunda\n",
      "* | b5f3cc9 quinto commit\n",
      "|/  \n",
      "* 2405b5a (restituida) cuarto commit\n",
      "* de4e044 segundo commit\n",
      "* 2020250 primer commit\n"
     ]
    }
   ],
   "source": [
    "git log --oneline --graph"
   ]
  },
  {
   "cell_type": "markdown",
   "metadata": {},
   "source": [
    "## El almacén de datos de *Git*.\n",
    "\n",
    "*Git* utiliza un \"almacén de datos\" (*data store*) que relaciona identificadores con objetos específicos.\n",
    "\n",
    "Estos objetos correspoden a:\n",
    "\n",
    "* Archivos y directorios.\n",
    "* Ramas.\n",
    "* *Commits*.\n",
    "* Etiquetas (*tags*).\n",
    "\n",
    "Cada objeto es relacionado a un [*hash*](https://es.wikipedia.org/wiki/Funci%C3%B3n_hash) único que será usado como identificador.\n",
    "\n",
    "Los *hashes* son difícles de memorizar y es por ello por lo que se han desarrollado esquemas de referencias y asignación de etiquetas.\n",
    "\n",
    "https://git-scm.com/book/es/v2/Los-entresijos-internos-de-Git-Referencias-Git"
   ]
  },
  {
   "cell_type": "markdown",
   "metadata": {},
   "source": [
    "## Referencias.\n",
    "\n",
    "Las referencias se encuentran en el directorio ```.git/refs```  en un estructura con los directorios:\n",
    "* ```.git/refs/heads```, el cual contienen las referencias a las \"cabezas\"\n",
    " de cada rama del repositorio. Las \"cabezas\" corresponden al commit más reciente en el que se enuentra una rama.\n",
    "* ```git/refs/tags```, el cual contiene las referencias a etiquetas asignadas a ciertos objetos de Git.\n"
   ]
  },
  {
   "cell_type": "markdown",
   "metadata": {},
   "source": [
    "**Ejemplo:**"
   ]
  },
  {
   "cell_type": "markdown",
   "metadata": {},
   "source": [
    "* La siguiente celda mostrará la estructura del directorio ```.git/refs``` del repositorio en el que se encuentra esta notebook.\n",
    "\n",
    "* El resultado para el repositorio ```prueba``` sería algo similar a:\n",
    "\n",
    "```\n",
    ".git/refs\n",
    "├── heads\n",
    "│   ├── master\n",
    "│   ├── nueva\n",
    "│   └── restituida\n",
    "└── tags\n",
    "\n",
    "2 directories, 3 files\n",
    "```"
   ]
  },
  {
   "cell_type": "code",
   "execution_count": 8,
   "metadata": {},
   "outputs": [
    {
     "name": "stdout",
     "output_type": "stream",
     "text": [
      ".git/refs\n",
      "├── heads\n",
      "│   ├── main\n",
      "│   ├── restituida\n",
      "│   └── segunda\n",
      "└── tags\n",
      "\n",
      "2 directories, 3 files\n"
     ]
    }
   ],
   "source": [
    "tree .git/refs"
   ]
  },
  {
   "cell_type": "markdown",
   "metadata": {},
   "source": [
    "* Como se puede apreciar, el directorio ```.git/refs/heads/``` contiene un archivo con el nombre de cada rama del repositorio. Cada unos de estos archivos contiene el identificador del * \n",
    "HEAD commit* de cada rama."
   ]
  },
  {
   "cell_type": "markdown",
   "metadata": {},
   "source": [
    "**Ejemplo:**"
   ]
  },
  {
   "cell_type": "markdown",
   "metadata": {},
   "source": [
    "* La siguiente celda regresará el contenido del archivo ```.git/refs/heads/restituida```, el cual corresponde al *hash* identificador del *commit* con descripción ```cuarto commit```."
   ]
  },
  {
   "cell_type": "code",
   "execution_count": 9,
   "metadata": {
    "scrolled": true
   },
   "outputs": [
    {
     "name": "stdout",
     "output_type": "stream",
     "text": [
      "2405b5ade4ac710fcf18cd1091b8100d9b4e093f\n"
     ]
    }
   ],
   "source": [
    "cat .git/refs/heads/restituida"
   ]
  },
  {
   "cell_type": "markdown",
   "metadata": {},
   "source": [
    "* La siguiente celda aplicará el comando ```git show``` al contenido de ```.git/refs/heads/restituida```."
   ]
  },
  {
   "cell_type": "code",
   "execution_count": 10,
   "metadata": {
    "scrolled": true
   },
   "outputs": [
    {
     "name": "stdout",
     "output_type": "stream",
     "text": [
      "commit 2405b5ade4ac710fcf18cd1091b8100d9b4e093f (restituida)\n",
      "Author: Jose Luis Chiquete <josech@gmail.com>\n",
      "Date:   Tue Mar 14 16:30:12 2023 -0600\n",
      "\n",
      "    cuarto commit\n",
      "\n",
      "diff --git a/archivo-1 b/archivo-1\n",
      "index e69de29..a19abfe 100644\n",
      "--- a/archivo-1\n",
      "+++ b/archivo-1\n",
      "@@ -0,0 +1 @@\n",
      "+Hola\n"
     ]
    }
   ],
   "source": [
    "cat .git/refs/heads/restituida | xargs git show"
   ]
  },
  {
   "cell_type": "markdown",
   "metadata": {},
   "source": [
    "* La siguiente celda aplicará el comando ```git show``` al contenido de ```.git/refs/heads/main```."
   ]
  },
  {
   "cell_type": "code",
   "execution_count": 11,
   "metadata": {},
   "outputs": [
    {
     "name": "stdout",
     "output_type": "stream",
     "text": [
      "commit 955f607d7231ab1642f0b1c999a72b3a074bbecf (HEAD -> main)\n",
      "Merge: b5f3cc9 61db1a4\n",
      "Author: Jose Luis Chiquete <josech@gmail.com>\n",
      "Date:   Tue Mar 14 22:05:05 2023 -0600\n",
      "\n",
      "    commit fusionado\n",
      "\n"
     ]
    }
   ],
   "source": [
    "cat .git/refs/heads/main | xargs git show"
   ]
  },
  {
   "cell_type": "markdown",
   "metadata": {},
   "source": [
    "* La siguiente celda aplicará el comando ```git show``` al contenido de ```.git/refs/heads/segunda```."
   ]
  },
  {
   "cell_type": "code",
   "execution_count": 12,
   "metadata": {},
   "outputs": [
    {
     "name": "stdout",
     "output_type": "stream",
     "text": [
      "commit 61db1a43a8326d9857e1e89a1df90c92e173a394 (segunda)\n",
      "Author: Jose Luis Chiquete <josech@gmail.com>\n",
      "Date:   Tue Mar 14 21:50:22 2023 -0600\n",
      "\n",
      "    primer commit de segunda\n",
      "\n",
      "diff --git a/archivo_nuevo b/archivo_nuevo\n",
      "new file mode 100644\n",
      "index 0000000..c751e2b\n",
      "--- /dev/null\n",
      "+++ b/archivo_nuevo\n",
      "@@ -0,0 +1 @@\n",
      "+Archivo de la segunda rama.\n"
     ]
    }
   ],
   "source": [
    "cat .git/refs/heads/segunda | xargs git show"
   ]
  },
  {
   "cell_type": "markdown",
   "metadata": {},
   "source": [
    "### La variable ```HEAD```.\n",
    "\n",
    "*Git* le asigna a la variable ```HEAD``` la ruta al *HEAD commit* de la rama en la que se encuentra un repositorio."
   ]
  },
  {
   "cell_type": "markdown",
   "metadata": {},
   "source": [
    "**Ejemplo:**"
   ]
  },
  {
   "cell_type": "markdown",
   "metadata": {},
   "source": [
    "* El comando ```git show``` utilizado sin más argumentos devuelve la información de la posición en la que se encuentra actualmente el repositorio. "
   ]
  },
  {
   "cell_type": "code",
   "execution_count": 13,
   "metadata": {
    "scrolled": true
   },
   "outputs": [
    {
     "name": "stdout",
     "output_type": "stream",
     "text": [
      "commit 955f607d7231ab1642f0b1c999a72b3a074bbecf (HEAD -> main)\n",
      "Merge: b5f3cc9 61db1a4\n",
      "Author: Jose Luis Chiquete <josech@gmail.com>\n",
      "Date:   Tue Mar 14 22:05:05 2023 -0600\n",
      "\n",
      "    commit fusionado\n",
      "\n"
     ]
    }
   ],
   "source": [
    "git show"
   ]
  },
  {
   "cell_type": "markdown",
   "metadata": {},
   "source": [
    "* La siguiente celda regresará los datos del *commit* asignado a ```HEAD```."
   ]
  },
  {
   "cell_type": "code",
   "execution_count": 14,
   "metadata": {},
   "outputs": [
    {
     "name": "stdout",
     "output_type": "stream",
     "text": [
      "commit 955f607d7231ab1642f0b1c999a72b3a074bbecf (HEAD -> main)\n",
      "Merge: b5f3cc9 61db1a4\n",
      "Author: Jose Luis Chiquete <josech@gmail.com>\n",
      "Date:   Tue Mar 14 22:05:05 2023 -0600\n",
      "\n",
      "    commit fusionado\n",
      "\n"
     ]
    }
   ],
   "source": [
    "git show HEAD"
   ]
  },
  {
   "cell_type": "markdown",
   "metadata": {},
   "source": [
    "## El comando ```git reflog```. \n",
    "\n",
    "Este comando regresa la bitácora de todas las operaciones realizados desde cualquier rama, usando ```HEAD``` como referencia.\n",
    "\n",
    "* *Commits*.\n",
    "* Desplazamientos entre ramas.\n",
    "* *Merges*.\n",
    "\n",
    "https://git-scm.com/docs/git-reflog"
   ]
  },
  {
   "cell_type": "markdown",
   "metadata": {},
   "source": [
    "**Ejemplo:**"
   ]
  },
  {
   "cell_type": "markdown",
   "metadata": {},
   "source": [
    "* La siguiente celda mostrará todas las operaciones del repositorio."
   ]
  },
  {
   "cell_type": "code",
   "execution_count": 15,
   "metadata": {
    "scrolled": true
   },
   "outputs": [
    {
     "name": "stdout",
     "output_type": "stream",
     "text": [
      "955f607 (HEAD -> main) HEAD@{0}: checkout: moving from 2405b5ade4ac710fcf18cd1091b8100d9b4e093f to main\n",
      "2405b5a (restituida) HEAD@{1}: checkout: moving from segunda to 2405b5\n",
      "61db1a4 (segunda) HEAD@{2}: checkout: moving from restituida to segunda\n",
      "2405b5a (restituida) HEAD@{3}: checkout: moving from 2405b5ade4ac710fcf18cd1091b8100d9b4e093f to restituida\n",
      "2405b5a (restituida) HEAD@{4}: checkout: moving from main to 2405b5\n",
      "955f607 (HEAD -> main) HEAD@{5}: merge segunda: Merge made by the 'ort' strategy.\n",
      "b5f3cc9 HEAD@{6}: commit: quinto commit\n",
      "2405b5a (restituida) HEAD@{7}: checkout: moving from segunda to main\n",
      "61db1a4 (segunda) HEAD@{8}: commit: primer commit de segunda\n",
      "2405b5a (restituida) HEAD@{9}: checkout: moving from main to segunda\n",
      "2405b5a (restituida) HEAD@{10}: commit: cuarto commit\n",
      "de4e044 HEAD@{11}: commit: segundo commit\n",
      "2020250 HEAD@{12}: commit (initial): primer commit\n"
     ]
    }
   ],
   "source": [
    "git reflog"
   ]
  },
  {
   "cell_type": "markdown",
   "metadata": {},
   "source": [
    "* El comando ```git log``` sólo muestra los *commits* de la rama actual."
   ]
  },
  {
   "cell_type": "code",
   "execution_count": 16,
   "metadata": {},
   "outputs": [
    {
     "name": "stdout",
     "output_type": "stream",
     "text": [
      "955f607 (HEAD -> main) commit fusionado\n",
      "b5f3cc9 quinto commit\n",
      "61db1a4 (segunda) primer commit de segunda\n",
      "2405b5a (restituida) cuarto commit\n",
      "de4e044 segundo commit\n",
      "2020250 primer commit\n"
     ]
    }
   ],
   "source": [
    "git log --oneline"
   ]
  },
  {
   "cell_type": "markdown",
   "metadata": {},
   "source": [
    "## Operaciones con  ```HEAD```.\n",
    "\n",
    "Es posible utilizar ciertos operadores con la variable ```HEAD```.\n",
    "\n",
    "* ```@{n}``` para identificar a un commit de cualquier rama.\n",
    "* ```~``` para regresar en la rama.\n",
    "* ```^``` para ir a la rama de origen."
   ]
  },
  {
   "cell_type": "markdown",
   "metadata": {},
   "source": [
    "### Operador de referencia general.\n",
    "\n",
    "Este operador hace referencia a la secuencia lineal de commits tal como se enumeran con ```git reflog```.\n",
    "\n",
    "```HEAD@{<n>}```.\n",
    "\n",
    "Donde: \n",
    "* ```<n>``` es un número que va de ```0``` para el commit mas reciente y va regresando de uno  en uno."
   ]
  },
  {
   "cell_type": "markdown",
   "metadata": {},
   "source": [
    "**Ejemplos:**"
   ]
  },
  {
   "cell_type": "code",
   "execution_count": 17,
   "metadata": {
    "scrolled": true
   },
   "outputs": [
    {
     "name": "stdout",
     "output_type": "stream",
     "text": [
      "61db1a4 (segunda) primer commit de segunda\n",
      "diff --git a/archivo_nuevo b/archivo_nuevo\n",
      "new file mode 100644\n",
      "index 0000000..c751e2b\n",
      "--- /dev/null\n",
      "+++ b/archivo_nuevo\n",
      "@@ -0,0 +1 @@\n",
      "+Archivo de la segunda rama.\n"
     ]
    }
   ],
   "source": [
    "git show HEAD@{8} --oneline"
   ]
  },
  {
   "cell_type": "code",
   "execution_count": 18,
   "metadata": {},
   "outputs": [
    {
     "name": "stdout",
     "output_type": "stream",
     "text": [
      "2405b5a (restituida) cuarto commit\n",
      "diff --git a/archivo-1 b/archivo-1\n",
      "index e69de29..a19abfe 100644\n",
      "--- a/archivo-1\n",
      "+++ b/archivo-1\n",
      "@@ -0,0 +1 @@\n",
      "+Hola\n"
     ]
    }
   ],
   "source": [
    "git show HEAD@{3} --oneline"
   ]
  },
  {
   "cell_type": "code",
   "execution_count": 19,
   "metadata": {},
   "outputs": [
    {
     "name": "stdout",
     "output_type": "stream",
     "text": [
      "diff --git a/archivo-1 b/archivo-1\n",
      "index a19abfe..d7f0e7b 100644\n",
      "--- a/archivo-1\n",
      "+++ b/archivo-1\n",
      "@@ -1 +1,2 @@\n",
      " Hola\n",
      "+Otra linea\n"
     ]
    }
   ],
   "source": [
    "git diff HEAD@{8} HEAD"
   ]
  },
  {
   "cell_type": "markdown",
   "metadata": {},
   "source": [
    "### Operador de referencia dentro de la rama.\n",
    "\n",
    "Este operador se usa para regresar en las operaciones de una rama.\n",
    "\n",
    "```HEAD~<n>```.\n",
    "\n",
    "* ```<n>``` es un número que va de ```1``` para un *commit* previo al más reciente y va regresando de uno  en uno. El valor por defecto es 1."
   ]
  },
  {
   "cell_type": "markdown",
   "metadata": {},
   "source": [
    "* La siguiente celda mostrará los *commits* de la rama ```main```. "
   ]
  },
  {
   "cell_type": "code",
   "execution_count": 20,
   "metadata": {
    "scrolled": false
   },
   "outputs": [
    {
     "name": "stdout",
     "output_type": "stream",
     "text": [
      "*   955f607 (HEAD -> main) commit fusionado\n",
      "|\\  \n",
      "| * 61db1a4 (segunda) primer commit de segunda\n",
      "* | b5f3cc9 quinto commit\n",
      "|/  \n",
      "* 2405b5a (restituida) cuarto commit\n",
      "* de4e044 segundo commit\n",
      "* 2020250 primer commit\n"
     ]
    }
   ],
   "source": [
    "git log --oneline --graph"
   ]
  },
  {
   "cell_type": "markdown",
   "metadata": {},
   "source": [
    "* La siguiente celda ejecutará el comando ```git show``` en el *commit* previo al ```HEAD```de la rama."
   ]
  },
  {
   "cell_type": "code",
   "execution_count": 21,
   "metadata": {
    "scrolled": true
   },
   "outputs": [
    {
     "name": "stdout",
     "output_type": "stream",
     "text": [
      "b5f3cc9 quinto commit\n",
      "diff --git a/archivo-1 b/archivo-1\n",
      "index a19abfe..d7f0e7b 100644\n",
      "--- a/archivo-1\n",
      "+++ b/archivo-1\n",
      "@@ -1 +1,2 @@\n",
      " Hola\n",
      "+Otra linea\n"
     ]
    }
   ],
   "source": [
    "git show HEAD~ --oneline"
   ]
  },
  {
   "cell_type": "markdown",
   "metadata": {},
   "source": [
    "* La siguiente celda ejecutará el comando ```git show``` en el *commit* previo al ```HEAD```de la rama."
   ]
  },
  {
   "cell_type": "code",
   "execution_count": 22,
   "metadata": {
    "scrolled": true
   },
   "outputs": [
    {
     "name": "stdout",
     "output_type": "stream",
     "text": [
      "b5f3cc9 quinto commit\n",
      "diff --git a/archivo-1 b/archivo-1\n",
      "index a19abfe..d7f0e7b 100644\n",
      "--- a/archivo-1\n",
      "+++ b/archivo-1\n",
      "@@ -1 +1,2 @@\n",
      " Hola\n",
      "+Otra linea\n"
     ]
    }
   ],
   "source": [
    "git show HEAD~1 --oneline"
   ]
  },
  {
   "cell_type": "markdown",
   "metadata": {},
   "source": [
    "* La siguiente celda ejecutará el comando ```git show``` 4 *commits* previos al ```HEAD```de la rama."
   ]
  },
  {
   "cell_type": "code",
   "execution_count": 23,
   "metadata": {},
   "outputs": [
    {
     "name": "stdout",
     "output_type": "stream",
     "text": [
      "2020250 primer commit\n",
      "diff --git a/.gitignore b/.gitignore\n",
      "new file mode 100644\n",
      "index 0000000..90a8b80\n",
      "--- /dev/null\n",
      "+++ b/.gitignore\n",
      "@@ -0,0 +1 @@\n",
      "+invisible\n",
      "diff --git a/archivo-1 b/archivo-1\n",
      "new file mode 100644\n",
      "index 0000000..e69de29\n",
      "diff --git a/archivo-2 b/archivo-2\n",
      "new file mode 100644\n",
      "index 0000000..e69de29\n",
      "diff --git a/archivo-3 b/archivo-3\n",
      "new file mode 100644\n",
      "index 0000000..e69de29\n"
     ]
    }
   ],
   "source": [
    "git show HEAD~4 --oneline"
   ]
  },
  {
   "cell_type": "markdown",
   "metadata": {},
   "source": [
    "### Operador de referencia de originación de rama.\n",
    "\n",
    "Este operador se usa para referenciar a los commits que se ejecutaron en 2 ramas a partir de una divergencia de rama hasta que esta convergió nuebamente.\n",
    "\n",
    "```HEAD^<n>```.\n",
    "\n",
    "* ```<n>``` es un número que va de ```1``` para el commit mas reciente y va regresando de uno  en uno. El valor por defecto es 1."
   ]
  },
  {
   "cell_type": "code",
   "execution_count": 24,
   "metadata": {
    "scrolled": false
   },
   "outputs": [
    {
     "name": "stdout",
     "output_type": "stream",
     "text": [
      "*   955f607 (HEAD -> main) commit fusionado\n",
      "|\\  \n",
      "| * 61db1a4 (segunda) primer commit de segunda\n",
      "* | b5f3cc9 quinto commit\n",
      "|/  \n",
      "* 2405b5a (restituida) cuarto commit\n",
      "* de4e044 segundo commit\n",
      "* 2020250 primer commit\n"
     ]
    }
   ],
   "source": [
    "git log --graph --oneline"
   ]
  },
  {
   "cell_type": "code",
   "execution_count": 25,
   "metadata": {},
   "outputs": [
    {
     "name": "stdout",
     "output_type": "stream",
     "text": [
      "b5f3cc9 quinto commit\n",
      "diff --git a/archivo-1 b/archivo-1\n",
      "index a19abfe..d7f0e7b 100644\n",
      "--- a/archivo-1\n",
      "+++ b/archivo-1\n",
      "@@ -1 +1,2 @@\n",
      " Hola\n",
      "+Otra linea\n"
     ]
    }
   ],
   "source": [
    "git show HEAD^ --oneline"
   ]
  },
  {
   "cell_type": "code",
   "execution_count": 26,
   "metadata": {},
   "outputs": [
    {
     "name": "stdout",
     "output_type": "stream",
     "text": [
      "61db1a4 (segunda) primer commit de segunda\n",
      "diff --git a/archivo_nuevo b/archivo_nuevo\n",
      "new file mode 100644\n",
      "index 0000000..c751e2b\n",
      "--- /dev/null\n",
      "+++ b/archivo_nuevo\n",
      "@@ -0,0 +1 @@\n",
      "+Archivo de la segunda rama.\n"
     ]
    }
   ],
   "source": [
    "git show HEAD^2 --oneline"
   ]
  },
  {
   "cell_type": "markdown",
   "metadata": {},
   "source": [
    "<p style=\"text-align: center\"><a rel=\"license\" href=\"http://creativecommons.org/licenses/by/4.0/\"><img alt=\"Licencia Creative Commons\" style=\"border-width:0\" src=\"https://i.creativecommons.org/l/by/4.0/80x15.png\" /></a><br />Esta obra está bajo una <a rel=\"license\" href=\"http://creativecommons.org/licenses/by/4.0/\">Licencia Creative Commons Atribución 4.0 Internacional</a>.</p>\n",
    "<p style=\"text-align: center\">&copy; José Luis Chiquete Valdivieso. 2023.</p>"
   ]
  }
 ],
 "metadata": {
  "kernelspec": {
   "display_name": "Bash",
   "language": "bash",
   "name": "bash"
  },
  "language_info": {
   "codemirror_mode": "shell",
   "file_extension": ".sh",
   "mimetype": "text/x-sh",
   "name": "bash"
  }
 },
 "nbformat": 4,
 "nbformat_minor": 2
}
