{
 "cells": [
  {
   "cell_type": "markdown",
   "metadata": {},
   "source": [
    "<a href=\"https://cloudevel.com\"> <img src=\"img/cloudevel.png\" width=\"500px\"></a>"
   ]
  },
  {
   "cell_type": "markdown",
   "metadata": {},
   "source": [
    "# Referencias."
   ]
  },
  {
   "cell_type": "markdown",
   "metadata": {},
   "source": [
    "## Preliminares.\n",
    "\n",
    "Antes de empezar este capítulo es necesario descomprimir el archivo ```src/04/demo.zip```, el cual contiene una estructura similar al repositorio ```demo``` del capítulo 3."
   ]
  },
  {
   "cell_type": "code",
   "execution_count": 1,
   "metadata": {},
   "outputs": [],
   "source": [
    "rm -rf demo"
   ]
  },
  {
   "cell_type": "code",
   "execution_count": 2,
   "metadata": {},
   "outputs": [],
   "source": [
    "unzip -q src/04/demo.zip"
   ]
  },
  {
   "cell_type": "code",
   "execution_count": 3,
   "metadata": {},
   "outputs": [],
   "source": [
    "cd demo"
   ]
  },
  {
   "cell_type": "code",
   "execution_count": 5,
   "metadata": {},
   "outputs": [
    {
     "name": "stdout",
     "output_type": "stream",
     "text": [
      "* \u001b[32mmain\u001b[m\n",
      "  restituida\u001b[m\n",
      "  segunda\u001b[m\n"
     ]
    }
   ],
   "source": [
    "git branch"
   ]
  },
  {
   "cell_type": "code",
   "execution_count": 6,
   "metadata": {},
   "outputs": [
    {
     "name": "stdout",
     "output_type": "stream",
     "text": [
      "archivo-1  archivo-2  archivo_nuevo  invisible\n"
     ]
    }
   ],
   "source": [
    "ls"
   ]
  },
  {
   "cell_type": "code",
   "execution_count": 7,
   "metadata": {},
   "outputs": [
    {
     "name": "stdout",
     "output_type": "stream",
     "text": [
      ".gitignore\n",
      "archivo-1\n",
      "archivo-2\n",
      "archivo_nuevo\n"
     ]
    }
   ],
   "source": [
    "git ls-files"
   ]
  },
  {
   "cell_type": "code",
   "execution_count": 8,
   "metadata": {},
   "outputs": [
    {
     "name": "stdout",
     "output_type": "stream",
     "text": [
      "*   \u001b[33m955f607\u001b[m\u001b[33m (\u001b[m\u001b[1;36mHEAD -> \u001b[m\u001b[1;32mmain\u001b[m\u001b[33m)\u001b[m commit fusionado\n",
      "\u001b[31m|\u001b[m\u001b[32m\\\u001b[m  \n",
      "\u001b[31m|\u001b[m * \u001b[33m61db1a4\u001b[m\u001b[33m (\u001b[m\u001b[1;32msegunda\u001b[m\u001b[33m)\u001b[m primer commit de segunda\n",
      "* \u001b[32m|\u001b[m \u001b[33mb5f3cc9\u001b[m quinto commit\n",
      "\u001b[32m|\u001b[m\u001b[32m/\u001b[m  \n",
      "* \u001b[33m2405b5a\u001b[m\u001b[33m (\u001b[m\u001b[1;32mrestituida\u001b[m\u001b[33m)\u001b[m cuarto commit\n",
      "* \u001b[33mde4e044\u001b[m segundo commit\n",
      "* \u001b[33m2020250\u001b[m primer commit\n"
     ]
    }
   ],
   "source": [
    "git log --oneline --graph"
   ]
  },
  {
   "cell_type": "markdown",
   "metadata": {},
   "source": [
    "## El almacén de datos de *Git*.\n",
    "\n",
    "*Git* utiliza un \"almacén de datos\" (*data store*) que relaciona identificadores con objetos específicos.\n",
    "\n",
    "Estos objetos correspoden a:\n",
    "\n",
    "* Archivos.\n",
    "* Ramas.\n",
    "* *Commit*.\n",
    "* Etiquetas (*tags*).\n",
    "\n",
    "Cada objeto es relacionado a un [*hash*](https://es.wikipedia.org/wiki/Funci%C3%B3n_hash) único que será usado como identificador.\n",
    "\n",
    "Los *hashes* son difícles de memorizar y es por ello por lo que se han desarrollado esquemas de referencias y asignación de etiquetas.\n",
    "\n",
    "https://git-scm.com/book/es/v2/Los-entresijos-internos-de-Git-Referencias-Git"
   ]
  },
  {
   "cell_type": "markdown",
   "metadata": {},
   "source": [
    "## Referencias.\n",
    "\n",
    "Las referencias se encuentran en el directorio ```.git/refs```  en un estructura con los directorios:\n",
    "* ```.git/refs/heads```, el cual contienen las referencias a las \"cabezas\"\n",
    " de cada rama del repositorio. Las \"cabezas\" corresponden al commit más reciente en el que se enuentra una rama.\n",
    "* ```git/refs/tags```, el cual contiene las referencias a etiquetas asignadas a ciertos objetos de Git.\n"
   ]
  },
  {
   "cell_type": "markdown",
   "metadata": {},
   "source": [
    "**Ejemplo:**"
   ]
  },
  {
   "cell_type": "markdown",
   "metadata": {},
   "source": [
    "* La siguiente celda mostrará la estructura del directorio ```.git/refs``` del repositorio en el que se encuentra esta notebook.\n",
    "\n",
    "* El resultado para el repositorio ```prueba``` sería algo similar a:\n",
    "\n",
    "```\n",
    ".git/refs\n",
    "├── heads\n",
    "│   ├── master\n",
    "│   ├── nueva\n",
    "│   └── restituida\n",
    "└── tags\n",
    "\n",
    "2 directories, 3 files\n",
    "```"
   ]
  },
  {
   "cell_type": "code",
   "execution_count": null,
   "metadata": {},
   "outputs": [],
   "source": [
    "tree .git/refs"
   ]
  },
  {
   "cell_type": "markdown",
   "metadata": {},
   "source": [
    "* Como se puede apreciar, el directorio ```.git/refs/heads/``` contiene un archivo con el nombre de cada rama del directorio. Cada unos de estos archivos contiene el identificador del *commit* más reciente de cada rama."
   ]
  },
  {
   "cell_type": "markdown",
   "metadata": {},
   "source": [
    "**Ejemplo:**"
   ]
  },
  {
   "cell_type": "markdown",
   "metadata": {},
   "source": [
    "* La siguiente celda regresará el contenido del archivo ```.git/refs/heads/restituida```. El cual corresponde identificador del commit con descripción ```cuarto commit```."
   ]
  },
  {
   "cell_type": "code",
   "execution_count": null,
   "metadata": {
    "scrolled": true
   },
   "outputs": [],
   "source": [
    "cat .git/refs/heads/restituida"
   ]
  },
  {
   "cell_type": "markdown",
   "metadata": {},
   "source": [
    "* La siguiente celda aplicará el comando ```git show``` al contenido de ```.git/refs/heads/restituida```."
   ]
  },
  {
   "cell_type": "code",
   "execution_count": null,
   "metadata": {
    "scrolled": true
   },
   "outputs": [],
   "source": [
    "cat .git/refs/heads/restituida | xargs git show"
   ]
  },
  {
   "cell_type": "markdown",
   "metadata": {},
   "source": [
    "* La siguiente celda aplicará el comando ```git show``` al contenido de ```.git/refs/heads/main```."
   ]
  },
  {
   "cell_type": "code",
   "execution_count": null,
   "metadata": {},
   "outputs": [],
   "source": [
    "cat .git/refs/heads/main | xargs git show"
   ]
  },
  {
   "cell_type": "markdown",
   "metadata": {},
   "source": [
    "* La siguiente celda aplicará el comando ```git show``` al contenido de ```.git/refs/heads/segunda```."
   ]
  },
  {
   "cell_type": "code",
   "execution_count": null,
   "metadata": {},
   "outputs": [],
   "source": [
    "cat .git/refs/heads/segunda | xargs git show"
   ]
  },
  {
   "cell_type": "markdown",
   "metadata": {},
   "source": [
    "### La variable ```HEAD```.\n",
    "\n",
    "*Git* le asigna a la variable ```HEAD``` el valor de la cabeza de la rama en la que se encuentra un repositorio."
   ]
  },
  {
   "cell_type": "markdown",
   "metadata": {},
   "source": [
    "**Ejemplo:**"
   ]
  },
  {
   "cell_type": "markdown",
   "metadata": {},
   "source": [
    "* El comando ```git show``` utilizado sin más argumentos devuelve la información de la posición en la que se encuentra actualmente el repositorio. "
   ]
  },
  {
   "cell_type": "code",
   "execution_count": null,
   "metadata": {
    "scrolled": true
   },
   "outputs": [],
   "source": [
    "git show"
   ]
  },
  {
   "cell_type": "markdown",
   "metadata": {},
   "source": [
    "* La siguiente celda regresará los datos del *commit* asignado a ```HEAD```."
   ]
  },
  {
   "cell_type": "code",
   "execution_count": null,
   "metadata": {},
   "outputs": [],
   "source": [
    "git show HEAD"
   ]
  },
  {
   "cell_type": "markdown",
   "metadata": {},
   "source": [
    "## El comando ```git reflog```. \n",
    "\n",
    "Este comando regresa la bitácora de todos los *commits* realizados desde cualquier rama, usando ```HEAD``` como referencia.\n",
    "\n",
    "https://git-scm.com/docs/git-reflog"
   ]
  },
  {
   "cell_type": "code",
   "execution_count": null,
   "metadata": {},
   "outputs": [],
   "source": [
    "git reflog"
   ]
  },
  {
   "cell_type": "code",
   "execution_count": null,
   "metadata": {},
   "outputs": [],
   "source": [
    "git log --oneline"
   ]
  },
  {
   "cell_type": "markdown",
   "metadata": {},
   "source": [
    "## Operaciones con  ```HEAD```.\n",
    "\n",
    "Es posible utilizar ciertos operadores con ```HEAD```.\n",
    "\n",
    "* ```@{n}``` para identificar a un commit de cualquier rama.\n",
    "* ```~``` para regresar en la rama.\n",
    "* ```^``` para ir a la rama de origen."
   ]
  },
  {
   "cell_type": "markdown",
   "metadata": {},
   "source": [
    "### Operador de referencia general.\n",
    "\n",
    "Este operador hace referencia a la secuencia lineal de commits tal como se enumeran con ```git reflog```.\n",
    "\n",
    "```HEAD@{<n>}```.\n",
    "\n",
    "Donde: \n",
    "* ```<n>``` es un número que va de ```0``` para el commit mas reciente y va regresando de uno  en uno."
   ]
  },
  {
   "cell_type": "code",
   "execution_count": null,
   "metadata": {},
   "outputs": [],
   "source": [
    "git branch -l"
   ]
  },
  {
   "cell_type": "code",
   "execution_count": null,
   "metadata": {},
   "outputs": [],
   "source": [
    "git show"
   ]
  },
  {
   "cell_type": "code",
   "execution_count": null,
   "metadata": {
    "scrolled": true
   },
   "outputs": [],
   "source": [
    "git show HEAD@{8} --oneline"
   ]
  },
  {
   "cell_type": "code",
   "execution_count": null,
   "metadata": {},
   "outputs": [],
   "source": [
    "git show HEAD@{3} --oneline"
   ]
  },
  {
   "cell_type": "code",
   "execution_count": null,
   "metadata": {},
   "outputs": [],
   "source": [
    "git diff HEAD@{8} HEAD"
   ]
  },
  {
   "cell_type": "markdown",
   "metadata": {},
   "source": [
    "### Operador de referencia dentro de la rama.\n",
    "\n",
    "Este operador se usa para regresar en las operaciones de una rama.\n",
    "\n",
    "```HEAD~<n>```.\n",
    "\n",
    "* ```<n>``` es un número que va de ```1``` para un *commit* previo al más reciente y va regresando de uno  en uno. El valor por defecto es 1."
   ]
  },
  {
   "cell_type": "markdown",
   "metadata": {},
   "source": [
    "* La siguiente celda mostrará los *commits* de la rama ```master```. "
   ]
  },
  {
   "cell_type": "code",
   "execution_count": null,
   "metadata": {
    "scrolled": false
   },
   "outputs": [],
   "source": [
    "git log --oneline --graph"
   ]
  },
  {
   "cell_type": "markdown",
   "metadata": {},
   "source": [
    "* La siguiente celda ejecutará el comando ```git show``` en el *commit* previo al ```HEAD```de la rama."
   ]
  },
  {
   "cell_type": "code",
   "execution_count": null,
   "metadata": {
    "scrolled": true
   },
   "outputs": [],
   "source": [
    "git show HEAD~ --oneline"
   ]
  },
  {
   "cell_type": "markdown",
   "metadata": {},
   "source": [
    "* La siguiente celda ejecutará el comando ```git show``` en el *commit* previo al ```HEAD```de la rama."
   ]
  },
  {
   "cell_type": "code",
   "execution_count": null,
   "metadata": {
    "scrolled": true
   },
   "outputs": [],
   "source": [
    "git show HEAD~1 --oneline"
   ]
  },
  {
   "cell_type": "markdown",
   "metadata": {},
   "source": [
    "* La siguiente celda ejecutará el comando ```git show``` 4 *commits* previos al ```HEAD```de la rama."
   ]
  },
  {
   "cell_type": "code",
   "execution_count": null,
   "metadata": {},
   "outputs": [],
   "source": [
    "git show HEAD~4 --oneline"
   ]
  },
  {
   "cell_type": "markdown",
   "metadata": {},
   "source": [
    "### Operador de referencia de la rama de origen.\n",
    "\n",
    "Este operador se usa para regresar en los commits a partir de una divergencia de la actual.\n",
    "\n",
    "```HEAD^<n>```.\n",
    "\n",
    "* ```<n>``` es un número que va de ```1``` para el commit mas reciente y va regresando de uno  en uno. El valor por defecto es 1."
   ]
  },
  {
   "cell_type": "code",
   "execution_count": null,
   "metadata": {
    "scrolled": false
   },
   "outputs": [],
   "source": [
    "git log --graph --oneline"
   ]
  },
  {
   "cell_type": "code",
   "execution_count": null,
   "metadata": {},
   "outputs": [],
   "source": [
    "git show HEAD^ --oneline"
   ]
  },
  {
   "cell_type": "code",
   "execution_count": null,
   "metadata": {},
   "outputs": [],
   "source": [
    "git show HEAD^2 --oneline"
   ]
  },
  {
   "cell_type": "code",
   "execution_count": null,
   "metadata": {},
   "outputs": [],
   "source": [
    "git show HEAD^3 --oneline"
   ]
  },
  {
   "cell_type": "markdown",
   "metadata": {},
   "source": [
    "<p style=\"text-align: center\"><a rel=\"license\" href=\"http://creativecommons.org/licenses/by/4.0/\"><img alt=\"Licencia Creative Commons\" style=\"border-width:0\" src=\"https://i.creativecommons.org/l/by/4.0/80x15.png\" /></a><br />Esta obra está bajo una <a rel=\"license\" href=\"http://creativecommons.org/licenses/by/4.0/\">Licencia Creative Commons Atribución 4.0 Internacional</a>.</p>\n",
    "<p style=\"text-align: center\">&copy; José Luis Chiquete Valdivieso. 2023.</p>"
   ]
  }
 ],
 "metadata": {
  "kernelspec": {
   "display_name": "Bash",
   "language": "bash",
   "name": "bash"
  },
  "language_info": {
   "codemirror_mode": "shell",
   "file_extension": ".sh",
   "mimetype": "text/x-sh",
   "name": "bash"
  }
 },
 "nbformat": 4,
 "nbformat_minor": 2
}
