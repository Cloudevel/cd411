{
 "cells": [
  {
   "cell_type": "markdown",
   "metadata": {},
   "source": [
    "<a href=\"https://cloudevel.com\"> <img src=\"img/cloudevel.png\" width=\"500px\"></a>"
   ]
  },
  {
   "cell_type": "markdown",
   "metadata": {},
   "source": [
    "# Conflictos y correcciones."
   ]
  },
  {
   "cell_type": "markdown",
   "metadata": {},
   "source": [
    "## Preliminares:\n",
    "\n",
    "A fin de contar con un entorno unificado, se utilizará una versión creada previamente del directorio ```demo``` que incluye los ejercicios de los capítulos previos y se encuentra comprimida en el archivo ```src/04/demo.zip```. "
   ]
  },
  {
   "cell_type": "code",
   "execution_count": 1,
   "metadata": {},
   "outputs": [],
   "source": [
    "rm -rf demo"
   ]
  },
  {
   "cell_type": "code",
   "execution_count": 2,
   "metadata": {},
   "outputs": [],
   "source": [
    "unzip -q src/04/demo.zip"
   ]
  },
  {
   "cell_type": "code",
   "execution_count": 3,
   "metadata": {},
   "outputs": [],
   "source": [
    "cd demo"
   ]
  },
  {
   "cell_type": "code",
   "execution_count": 4,
   "metadata": {},
   "outputs": [
    {
     "name": "stdout",
     "output_type": "stream",
     "text": [
      "* main\n",
      "  restituida\n",
      "  segunda\n"
     ]
    }
   ],
   "source": [
    "git branch"
   ]
  },
  {
   "cell_type": "code",
   "execution_count": 5,
   "metadata": {
    "scrolled": true
   },
   "outputs": [
    {
     "name": "stdout",
     "output_type": "stream",
     "text": [
      "*   955f607 (HEAD -> main) commit fusionado\n",
      "|\\  \n",
      "| * 61db1a4 (segunda) primer commit de segunda\n",
      "* | b5f3cc9 quinto commit\n",
      "|/  \n",
      "* 2405b5a (restituida) cuarto commit\n",
      "* de4e044 segundo commit\n",
      "* 2020250 primer commit\n"
     ]
    }
   ],
   "source": [
    "git log --graph --oneline"
   ]
  },
  {
   "cell_type": "markdown",
   "metadata": {},
   "source": [
    "## El comando ```git clean```.\n",
    "\n",
    "El comando ```git clean``` permite eliminar del directorio de trabajo a aquellos archivos que no están en estado de seguimiento.\n",
    "\n",
    "``` bash\n",
    "git clean <opciones> <ruta>\n",
    "```\n",
    "\n",
    "Donde:\n",
    "\n",
    "* ```<opciones>``` son las opciones aplicables.\n",
    "* ```<ruta>``` es la ruta o patrón de los archivos a  afectar con este comando.\n",
    "\n",
    "La documentación de referencia del comando ```git clean``` está disponible en:\n",
    "\n",
    "https://git-scm.com/docs/git-clean\n",
    "\n",
    "En caso de ejecutar el comando ```git clean``` sin opciones, se producirá un error. "
   ]
  },
  {
   "cell_type": "markdown",
   "metadata": {},
   "source": [
    "### La opción ```-f```.\n",
    "\n",
    "La opción ```-f``` le indica al comando ```git clean```que ejecute la acción forzosamente. En realidad, se utiliza como un \"seguro\", ya que en caso de uno ingresar dicha opción, se produciría un error."
   ]
  },
  {
   "cell_type": "markdown",
   "metadata": {},
   "source": [
    "**Ejemplo:**"
   ]
  },
  {
   "cell_type": "markdown",
   "metadata": {},
   "source": [
    "* Se creará el archivo ```archivo-5```."
   ]
  },
  {
   "cell_type": "code",
   "execution_count": 6,
   "metadata": {},
   "outputs": [],
   "source": [
    "echo \"Texto ilustrativo\" > archivo-5"
   ]
  },
  {
   "cell_type": "markdown",
   "metadata": {},
   "source": [
    "* Se creará el archivo ```indeseable```."
   ]
  },
  {
   "cell_type": "code",
   "execution_count": 7,
   "metadata": {},
   "outputs": [],
   "source": [
    "touch indeseable"
   ]
  },
  {
   "cell_type": "code",
   "execution_count": 8,
   "metadata": {},
   "outputs": [
    {
     "name": "stdout",
     "output_type": "stream",
     "text": [
      "archivo-1  archivo-2  archivo-5  archivo_nuevo  indeseable  invisible\n"
     ]
    }
   ],
   "source": [
    "ls"
   ]
  },
  {
   "cell_type": "markdown",
   "metadata": {},
   "source": [
    "* Ninguno de los archivos recién creados tiene seguimiento."
   ]
  },
  {
   "cell_type": "code",
   "execution_count": 9,
   "metadata": {
    "scrolled": true
   },
   "outputs": [
    {
     "name": "stdout",
     "output_type": "stream",
     "text": [
      "On branch main\n",
      "Untracked files:\n",
      "  (use \"git add <file>...\" to include in what will be committed)\n",
      "\tarchivo-5\n",
      "\tindeseable\n",
      "\n",
      "nothing added to commit but untracked files present (use \"git add\" to track)\n"
     ]
    }
   ],
   "source": [
    "git status"
   ]
  },
  {
   "cell_type": "markdown",
   "metadata": {},
   "source": [
    "* Se añadirá ```archivo-5``` al área de preparación."
   ]
  },
  {
   "cell_type": "code",
   "execution_count": 10,
   "metadata": {},
   "outputs": [],
   "source": [
    "git add archivo-5"
   ]
  },
  {
   "cell_type": "code",
   "execution_count": 11,
   "metadata": {},
   "outputs": [
    {
     "name": "stdout",
     "output_type": "stream",
     "text": [
      "On branch main\n",
      "Changes to be committed:\n",
      "  (use \"git restore --staged <file>...\" to unstage)\n",
      "\tnew file:   archivo-5\n",
      "\n",
      "Untracked files:\n",
      "  (use \"git add <file>...\" to include in what will be committed)\n",
      "\tindeseable\n",
      "\n"
     ]
    }
   ],
   "source": [
    "git status"
   ]
  },
  {
   "cell_type": "markdown",
   "metadata": {},
   "source": [
    "* Se ejecutará el comando ```git clean``` sin la opción ```-f```, por lo que se desencadenará un error."
   ]
  },
  {
   "cell_type": "code",
   "execution_count": 12,
   "metadata": {
    "scrolled": true
   },
   "outputs": [
    {
     "name": "stdout",
     "output_type": "stream",
     "text": [
      "fatal: clean.requireForce defaults to true and neither -i, -n, nor -f given; refusing to clean\n"
     ]
    },
    {
     "ename": "",
     "evalue": "128",
     "output_type": "error",
     "traceback": []
    }
   ],
   "source": [
    "git clean"
   ]
  },
  {
   "cell_type": "markdown",
   "metadata": {},
   "source": [
    "* Se ejecutará el comando ```git clean``` correctamente y se borrarán los archivos que no tienen  seguimiento."
   ]
  },
  {
   "cell_type": "code",
   "execution_count": 13,
   "metadata": {},
   "outputs": [
    {
     "name": "stdout",
     "output_type": "stream",
     "text": [
      "Removing indeseable\n"
     ]
    }
   ],
   "source": [
    "git clean -f"
   ]
  },
  {
   "cell_type": "markdown",
   "metadata": {},
   "source": [
    "* Los objetos que no estaban en el área de preparación fueron eliminados."
   ]
  },
  {
   "cell_type": "code",
   "execution_count": 14,
   "metadata": {},
   "outputs": [
    {
     "name": "stdout",
     "output_type": "stream",
     "text": [
      "archivo-1  archivo-2  archivo-5  archivo_nuevo  invisible\n"
     ]
    }
   ],
   "source": [
    "ls"
   ]
  },
  {
   "cell_type": "code",
   "execution_count": 15,
   "metadata": {
    "scrolled": false
   },
   "outputs": [
    {
     "name": "stdout",
     "output_type": "stream",
     "text": [
      "On branch main\n",
      "Changes to be committed:\n",
      "  (use \"git restore --staged <file>...\" to unstage)\n",
      "\tnew file:   archivo-5\n",
      "\n"
     ]
    }
   ],
   "source": [
    "git status"
   ]
  },
  {
   "cell_type": "markdown",
   "metadata": {},
   "source": [
    "* Se realizará un nuevo commit llamado ```sexto commit```."
   ]
  },
  {
   "cell_type": "code",
   "execution_count": 16,
   "metadata": {
    "scrolled": true
   },
   "outputs": [
    {
     "name": "stdout",
     "output_type": "stream",
     "text": [
      "[main f65734b] sexto commit\n",
      " 1 file changed, 1 insertion(+)\n",
      " create mode 100644 archivo-5\n"
     ]
    }
   ],
   "source": [
    "git commit -m  \"sexto commit\""
   ]
  },
  {
   "cell_type": "markdown",
   "metadata": {},
   "source": [
    "* A este commit se le asignará el *tag* ```v1``. "
   ]
  },
  {
   "cell_type": "code",
   "execution_count": 17,
   "metadata": {},
   "outputs": [],
   "source": [
    "git tag v1"
   ]
  },
  {
   "cell_type": "code",
   "execution_count": 18,
   "metadata": {},
   "outputs": [
    {
     "name": "stdout",
     "output_type": "stream",
     "text": [
      "f65734b (HEAD -> main, tag: v1) sexto commit\n",
      "955f607 commit fusionado\n",
      "b5f3cc9 quinto commit\n",
      "61db1a4 (segunda) primer commit de segunda\n",
      "2405b5a (restituida) cuarto commit\n",
      "de4e044 segundo commit\n",
      "2020250 primer commit\n"
     ]
    }
   ],
   "source": [
    "git log --oneline"
   ]
  },
  {
   "cell_type": "markdown",
   "metadata": {},
   "source": [
    "## El comando ```git revert ```.\n",
    "\n",
    "El comando ```git revert``` permite restaurar al repositorio a un estado previo, rehaciendo todas las operaciones registradas en sentido inverso, paso a paso.\n",
    "\n",
    "Al ejecutar este comando se realiza un *commit* nuevo.\n",
    "\n",
    "``` bash\n",
    "git revert <id>\n",
    "```\n",
    "\n",
    "Donde:\n",
    "\n",
    "* ```<id>``` es un identificador o referencia a un *commit*.\n",
    "\n",
    "\n",
    "La documentación de referencia del comando ```git revert``` está disponible en:\n",
    "\n",
    "https://git-scm.com/docs/git-revert"
   ]
  },
  {
   "cell_type": "markdown",
   "metadata": {},
   "source": [
    "**Ejemplo:**"
   ]
  },
  {
   "cell_type": "markdown",
   "metadata": {},
   "source": [
    "* La siguiente celda mosdtrará las diferencias entre ```HEAD~2``` y  ```HEAD```."
   ]
  },
  {
   "cell_type": "code",
   "execution_count": 19,
   "metadata": {
    "scrolled": true
   },
   "outputs": [
    {
     "name": "stdout",
     "output_type": "stream",
     "text": [
      "diff --git a/archivo-5 b/archivo-5\n",
      "deleted file mode 100644\n",
      "index 7d8a316..0000000\n",
      "--- a/archivo-5\n",
      "+++ /dev/null\n",
      "@@ -1 +0,0 @@\n",
      "-Texto ilustrativo\n",
      "diff --git a/archivo_nuevo b/archivo_nuevo\n",
      "deleted file mode 100644\n",
      "index c751e2b..0000000\n",
      "--- a/archivo_nuevo\n",
      "+++ /dev/null\n",
      "@@ -1 +0,0 @@\n",
      "-Archivo de la segunda rama.\n"
     ]
    }
   ],
   "source": [
    "git diff HEAD HEAD~2"
   ]
  },
  {
   "cell_type": "markdown",
   "metadata": {},
   "source": [
    "* Se restituirá al repositorio al estado de ```HEAD~2```. Esto generará un *commit*."
   ]
  },
  {
   "cell_type": "code",
   "execution_count": 20,
   "metadata": {
    "scrolled": false
   },
   "outputs": [
    {
     "name": "stdout",
     "output_type": "stream",
     "text": [
      "[main 5274a90] Revert \"quinto commit\"\n",
      " Date: Mon May 22 20:22:31 2023 -0500\n",
      " 1 file changed, 1 deletion(-)\n"
     ]
    }
   ],
   "source": [
    "git revert HEAD~2 --no-edit"
   ]
  },
  {
   "cell_type": "markdown",
   "metadata": {},
   "source": [
    "* El estado del directorio de trabajo se ha actualizado."
   ]
  },
  {
   "cell_type": "code",
   "execution_count": 21,
   "metadata": {},
   "outputs": [
    {
     "name": "stdout",
     "output_type": "stream",
     "text": [
      "archivo-1  archivo-2  archivo-5  archivo_nuevo  invisible\n"
     ]
    }
   ],
   "source": [
    "ls"
   ]
  },
  {
   "cell_type": "code",
   "execution_count": 22,
   "metadata": {},
   "outputs": [
    {
     "name": "stdout",
     "output_type": "stream",
     "text": [
      "Texto ilustrativo\n"
     ]
    }
   ],
   "source": [
    "cat archivo-5"
   ]
  },
  {
   "cell_type": "code",
   "execution_count": 23,
   "metadata": {
    "scrolled": false
   },
   "outputs": [
    {
     "name": "stdout",
     "output_type": "stream",
     "text": [
      "* 5274a90 (HEAD -> main) Revert \"quinto commit\"\n",
      "* f65734b (tag: v1) sexto commit\n",
      "*   955f607 commit fusionado\n",
      "|\\  \n",
      "| * 61db1a4 (segunda) primer commit de segunda\n",
      "* | b5f3cc9 quinto commit\n",
      "|/  \n",
      "* 2405b5a (restituida) cuarto commit\n",
      "* de4e044 segundo commit\n",
      "* 2020250 primer commit\n"
     ]
    }
   ],
   "source": [
    "git log --oneline --graph"
   ]
  },
  {
   "cell_type": "code",
   "execution_count": 24,
   "metadata": {},
   "outputs": [
    {
     "name": "stdout",
     "output_type": "stream",
     "text": [
      "diff --git a/archivo-1 b/archivo-1\n",
      "index d7f0e7b..a19abfe 100644\n",
      "--- a/archivo-1\n",
      "+++ b/archivo-1\n",
      "@@ -1,2 +1 @@\n",
      " Hola\n",
      "-Otra linea\n"
     ]
    }
   ],
   "source": [
    "git diff HEAD~1 HEAD"
   ]
  },
  {
   "cell_type": "markdown",
   "metadata": {},
   "source": [
    "## El comando ```git reset```.\n",
    "\n",
    "Este comando permite restituir el ```HEAD``` a un estado previo, eliminando el historial de los *commits*.\n",
    "\n",
    "```\n",
    "git reset <opcion>\n",
    "``` \n",
    "\n",
    "La documentación de referencia del comando ```git reset``` está disponible en:\n",
    "\n",
    "https://git-scm.com/docs/git-reset"
   ]
  },
  {
   "cell_type": "markdown",
   "metadata": {},
   "source": [
    "### La opción ```--hard```.\n",
    "\n",
    "Esta opción regresa a un estado previo al índice de los objetos y al directorio de trabajo."
   ]
  },
  {
   "cell_type": "markdown",
   "metadata": {},
   "source": [
    "**Ejemplo:**"
   ]
  },
  {
   "cell_type": "markdown",
   "metadata": {},
   "source": [
    "* La siguiente celda mostrará el historial actual de los *commits* enla rama ```main```."
   ]
  },
  {
   "cell_type": "code",
   "execution_count": 25,
   "metadata": {},
   "outputs": [
    {
     "name": "stdout",
     "output_type": "stream",
     "text": [
      "* 5274a90 (HEAD -> main) Revert \"quinto commit\"\n",
      "* f65734b (tag: v1) sexto commit\n",
      "*   955f607 commit fusionado\n",
      "|\\  \n",
      "| * 61db1a4 (segunda) primer commit de segunda\n",
      "* | b5f3cc9 quinto commit\n",
      "|/  \n",
      "* 2405b5a (restituida) cuarto commit\n",
      "* de4e044 segundo commit\n",
      "* 2020250 primer commit\n"
     ]
    }
   ],
   "source": [
    "git log --oneline --graph"
   ]
  },
  {
   "cell_type": "markdown",
   "metadata": {},
   "source": [
    "* Se mostrará el estado actual del directorio de trabajo."
   ]
  },
  {
   "cell_type": "code",
   "execution_count": 26,
   "metadata": {},
   "outputs": [
    {
     "name": "stdout",
     "output_type": "stream",
     "text": [
      "archivo-1  archivo-2  archivo-5  archivo_nuevo  invisible\n"
     ]
    }
   ],
   "source": [
    "ls"
   ]
  },
  {
   "cell_type": "markdown",
   "metadata": {},
   "source": [
    "* Se mostrará el índice de objetos."
   ]
  },
  {
   "cell_type": "code",
   "execution_count": 27,
   "metadata": {
    "scrolled": true
   },
   "outputs": [
    {
     "name": "stdout",
     "output_type": "stream",
     "text": [
      "100644 90a8b80bbb845cb1187852777769937a9574e3ab 0\t.gitignore\n",
      "100644 a19abfea0f29b668c91c58c834b8965e6c37804f 0\tarchivo-1\n",
      "100644 e69de29bb2d1d6434b8b29ae775ad8c2e48c5391 0\tarchivo-2\n",
      "100644 7d8a3161275de043bc3e254235393431da52f45c 0\tarchivo-5\n",
      "100644 c751e2bede3a125b01e98ef50f47a5195f8a83df 0\tarchivo_nuevo\n"
     ]
    }
   ],
   "source": [
    "git ls-files -s"
   ]
  },
  {
   "cell_type": "markdown",
   "metadata": {},
   "source": [
    "* Se mostrará el registro de referencias, el cual está intacto."
   ]
  },
  {
   "cell_type": "code",
   "execution_count": 28,
   "metadata": {},
   "outputs": [
    {
     "name": "stdout",
     "output_type": "stream",
     "text": [
      "5274a90 (HEAD -> main) HEAD@{0}: revert: Revert \"quinto commit\"\n",
      "f65734b (tag: v1) HEAD@{1}: commit: sexto commit\n",
      "955f607 HEAD@{2}: checkout: moving from 2405b5ade4ac710fcf18cd1091b8100d9b4e093f to main\n",
      "2405b5a (restituida) HEAD@{3}: checkout: moving from segunda to 2405b5\n",
      "61db1a4 (segunda) HEAD@{4}: checkout: moving from restituida to segunda\n",
      "2405b5a (restituida) HEAD@{5}: checkout: moving from 2405b5ade4ac710fcf18cd1091b8100d9b4e093f to restituida\n",
      "2405b5a (restituida) HEAD@{6}: checkout: moving from main to 2405b5\n",
      "955f607 HEAD@{7}: merge segunda: Merge made by the 'ort' strategy.\n",
      "b5f3cc9 HEAD@{8}: commit: quinto commit\n",
      "2405b5a (restituida) HEAD@{9}: checkout: moving from segunda to main\n",
      "61db1a4 (segunda) HEAD@{10}: commit: primer commit de segunda\n",
      "2405b5a (restituida) HEAD@{11}: checkout: moving from main to segunda\n",
      "2405b5a (restituida) HEAD@{12}: commit: cuarto commit\n",
      "de4e044 HEAD@{13}: commit: segundo commit\n",
      "2020250 HEAD@{14}: commit (initial): primer commit\n"
     ]
    }
   ],
   "source": [
    "git reflog --oneline"
   ]
  },
  {
   "cell_type": "markdown",
   "metadata": {},
   "source": [
    "* Se realizará un ```git reset --hard``` hacia ```HEAD~2```."
   ]
  },
  {
   "cell_type": "code",
   "execution_count": 29,
   "metadata": {},
   "outputs": [
    {
     "name": "stdout",
     "output_type": "stream",
     "text": [
      "HEAD is now at 955f607 commit fusionado\n"
     ]
    }
   ],
   "source": [
    "git reset HEAD~2 --hard"
   ]
  },
  {
   "cell_type": "markdown",
   "metadata": {},
   "source": [
    "* El directorio de trabajo y el índice de objetos han sido modificado para sincromizarse con ```HEAD~2```."
   ]
  },
  {
   "cell_type": "code",
   "execution_count": 30,
   "metadata": {},
   "outputs": [
    {
     "name": "stdout",
     "output_type": "stream",
     "text": [
      "archivo-1  archivo-2  archivo_nuevo  invisible\n"
     ]
    }
   ],
   "source": [
    "ls"
   ]
  },
  {
   "cell_type": "code",
   "execution_count": 31,
   "metadata": {},
   "outputs": [
    {
     "name": "stdout",
     "output_type": "stream",
     "text": [
      "100644 90a8b80bbb845cb1187852777769937a9574e3ab 0\t.gitignore\n",
      "100644 d7f0e7ba5cf079cdea1d7c8792e1432161f082c1 0\tarchivo-1\n",
      "100644 e69de29bb2d1d6434b8b29ae775ad8c2e48c5391 0\tarchivo-2\n",
      "100644 c751e2bede3a125b01e98ef50f47a5195f8a83df 0\tarchivo_nuevo\n"
     ]
    }
   ],
   "source": [
    "git ls-files -s"
   ]
  },
  {
   "cell_type": "code",
   "execution_count": 32,
   "metadata": {},
   "outputs": [
    {
     "name": "stdout",
     "output_type": "stream",
     "text": [
      "On branch main\n",
      "nothing to commit, working tree clean\n"
     ]
    }
   ],
   "source": [
    "git status"
   ]
  },
  {
   "cell_type": "markdown",
   "metadata": {},
   "source": [
    "* Los *commits* posteriores a ```HEAD~2``` han sido eliminados y ahora ```HEAD``` corresponde al *commit* con el mensaje ```commit fusionado```."
   ]
  },
  {
   "cell_type": "code",
   "execution_count": 33,
   "metadata": {
    "scrolled": true
   },
   "outputs": [
    {
     "name": "stdout",
     "output_type": "stream",
     "text": [
      "*   955f607 (HEAD -> main) commit fusionado\n",
      "|\\  \n",
      "| * 61db1a4 (segunda) primer commit de segunda\n",
      "* | b5f3cc9 quinto commit\n",
      "|/  \n",
      "* 2405b5a (restituida) cuarto commit\n",
      "* de4e044 segundo commit\n",
      "* 2020250 primer commit\n"
     ]
    }
   ],
   "source": [
    "git log --oneline --graph"
   ]
  },
  {
   "cell_type": "markdown",
   "metadata": {},
   "source": [
    "* El registro de referencias está intacto y registró el *reset*."
   ]
  },
  {
   "cell_type": "code",
   "execution_count": 34,
   "metadata": {},
   "outputs": [
    {
     "name": "stdout",
     "output_type": "stream",
     "text": [
      "955f607 (HEAD -> main) HEAD@{0}: reset: moving to HEAD~2\n",
      "5274a90 HEAD@{1}: revert: Revert \"quinto commit\"\n",
      "f65734b (tag: v1) HEAD@{2}: commit: sexto commit\n",
      "955f607 (HEAD -> main) HEAD@{3}: checkout: moving from 2405b5ade4ac710fcf18cd1091b8100d9b4e093f to main\n",
      "2405b5a (restituida) HEAD@{4}: checkout: moving from segunda to 2405b5\n",
      "61db1a4 (segunda) HEAD@{5}: checkout: moving from restituida to segunda\n",
      "2405b5a (restituida) HEAD@{6}: checkout: moving from 2405b5ade4ac710fcf18cd1091b8100d9b4e093f to restituida\n",
      "2405b5a (restituida) HEAD@{7}: checkout: moving from main to 2405b5\n",
      "955f607 (HEAD -> main) HEAD@{8}: merge segunda: Merge made by the 'ort' strategy.\n",
      "b5f3cc9 HEAD@{9}: commit: quinto commit\n",
      "2405b5a (restituida) HEAD@{10}: checkout: moving from segunda to main\n",
      "61db1a4 (segunda) HEAD@{11}: commit: primer commit de segunda\n",
      "2405b5a (restituida) HEAD@{12}: checkout: moving from main to segunda\n",
      "2405b5a (restituida) HEAD@{13}: commit: cuarto commit\n",
      "de4e044 HEAD@{14}: commit: segundo commit\n",
      "2020250 HEAD@{15}: commit (initial): primer commit\n"
     ]
    }
   ],
   "source": [
    "git reflog --oneline"
   ]
  },
  {
   "cell_type": "markdown",
   "metadata": {},
   "source": [
    "* Se creará el archivo ```archivo-6```."
   ]
  },
  {
   "cell_type": "code",
   "execution_count": 35,
   "metadata": {},
   "outputs": [],
   "source": [
    "touch archivo-6"
   ]
  },
  {
   "cell_type": "code",
   "execution_count": 36,
   "metadata": {},
   "outputs": [
    {
     "name": "stdout",
     "output_type": "stream",
     "text": [
      "archivo-1  archivo-2  archivo-6  archivo_nuevo  invisible\n"
     ]
    }
   ],
   "source": [
    "ls"
   ]
  },
  {
   "cell_type": "markdown",
   "metadata": {},
   "source": [
    "* Se hará un nuevo *commit* con el mensaje ```commit posterior a un hard reset```."
   ]
  },
  {
   "cell_type": "code",
   "execution_count": 37,
   "metadata": {},
   "outputs": [],
   "source": [
    "git add --all "
   ]
  },
  {
   "cell_type": "code",
   "execution_count": 38,
   "metadata": {
    "scrolled": true
   },
   "outputs": [
    {
     "name": "stdout",
     "output_type": "stream",
     "text": [
      "[main 09c908c] commit posterior a un hard reset\n",
      " 1 file changed, 0 insertions(+), 0 deletions(-)\n",
      " create mode 100644 archivo-6\n"
     ]
    }
   ],
   "source": [
    "git commit -m \"commit posterior a un hard reset\""
   ]
  },
  {
   "cell_type": "code",
   "execution_count": 39,
   "metadata": {},
   "outputs": [
    {
     "name": "stdout",
     "output_type": "stream",
     "text": [
      "* 09c908c (HEAD -> main) commit posterior a un hard reset\n",
      "*   955f607 commit fusionado\n",
      "|\\  \n",
      "| * 61db1a4 (segunda) primer commit de segunda\n",
      "* | b5f3cc9 quinto commit\n",
      "|/  \n",
      "* 2405b5a (restituida) cuarto commit\n",
      "* de4e044 segundo commit\n",
      "* 2020250 primer commit\n"
     ]
    }
   ],
   "source": [
    "git log --oneline --graph"
   ]
  },
  {
   "cell_type": "markdown",
   "metadata": {},
   "source": [
    "### La opción ```--mixed```.\n",
    "\n",
    "Esta opción regresa a un estado previo al área de preparación y al índice de objetos del repositorio, pero no a los archivos del directorio de trabajo. Esta es la opción por defecto."
   ]
  },
  {
   "cell_type": "markdown",
   "metadata": {},
   "source": [
    "**Ejemplo:**"
   ]
  },
  {
   "cell_type": "markdown",
   "metadata": {},
   "source": [
    "* Se realizará un ```git reset --mixed``` a ```HEAD~3```."
   ]
  },
  {
   "cell_type": "code",
   "execution_count": 40,
   "metadata": {
    "scrolled": false
   },
   "outputs": [
    {
     "name": "stdout",
     "output_type": "stream",
     "text": [
      "Unstaged changes after reset:\n",
      "M\tarchivo-1\n"
     ]
    }
   ],
   "source": [
    "git reset HEAD~3 --mixed"
   ]
  },
  {
   "cell_type": "markdown",
   "metadata": {},
   "source": [
    "* Ahora ```HEAD``` corresponde al commit con el mensaje ```cuarto commit```."
   ]
  },
  {
   "cell_type": "code",
   "execution_count": 41,
   "metadata": {
    "scrolled": true
   },
   "outputs": [
    {
     "name": "stdout",
     "output_type": "stream",
     "text": [
      "* 2405b5a (HEAD -> main, restituida) cuarto commit\n",
      "* de4e044 segundo commit\n",
      "* 2020250 primer commit\n"
     ]
    }
   ],
   "source": [
    "git log --oneline --graph"
   ]
  },
  {
   "cell_type": "markdown",
   "metadata": {},
   "source": [
    "* El registro de referencias está intacto y registró el *reset*."
   ]
  },
  {
   "cell_type": "code",
   "execution_count": 42,
   "metadata": {
    "scrolled": true
   },
   "outputs": [
    {
     "name": "stdout",
     "output_type": "stream",
     "text": [
      "2405b5a (HEAD -> main, restituida) HEAD@{0}: reset: moving to HEAD~3\n",
      "09c908c HEAD@{1}: commit: commit posterior a un hard reset\n",
      "955f607 HEAD@{2}: reset: moving to HEAD~2\n",
      "5274a90 HEAD@{3}: revert: Revert \"quinto commit\"\n",
      "f65734b (tag: v1) HEAD@{4}: commit: sexto commit\n",
      "955f607 HEAD@{5}: checkout: moving from 2405b5ade4ac710fcf18cd1091b8100d9b4e093f to main\n",
      "2405b5a (HEAD -> main, restituida) HEAD@{6}: checkout: moving from segunda to 2405b5\n",
      "61db1a4 (segunda) HEAD@{7}: checkout: moving from restituida to segunda\n",
      "2405b5a (HEAD -> main, restituida) HEAD@{8}: checkout: moving from 2405b5ade4ac710fcf18cd1091b8100d9b4e093f to restituida\n",
      "2405b5a (HEAD -> main, restituida) HEAD@{9}: checkout: moving from main to 2405b5\n",
      "955f607 HEAD@{10}: merge segunda: Merge made by the 'ort' strategy.\n",
      "b5f3cc9 HEAD@{11}: commit: quinto commit\n",
      "2405b5a (HEAD -> main, restituida) HEAD@{12}: checkout: moving from segunda to main\n",
      "61db1a4 (segunda) HEAD@{13}: commit: primer commit de segunda\n",
      "2405b5a (HEAD -> main, restituida) HEAD@{14}: checkout: moving from main to segunda\n",
      "2405b5a (HEAD -> main, restituida) HEAD@{15}: commit: cuarto commit\n",
      "de4e044 HEAD@{16}: commit: segundo commit\n",
      "2020250 HEAD@{17}: commit (initial): primer commit\n"
     ]
    }
   ],
   "source": [
    "git reflog --oneline"
   ]
  },
  {
   "cell_type": "markdown",
   "metadata": {},
   "source": [
    "* El directorio de trabajo queda intacto."
   ]
  },
  {
   "cell_type": "code",
   "execution_count": 43,
   "metadata": {
    "scrolled": true
   },
   "outputs": [
    {
     "name": "stdout",
     "output_type": "stream",
     "text": [
      "archivo-1  archivo-2  archivo-6  archivo_nuevo  invisible\n"
     ]
    }
   ],
   "source": [
    "ls"
   ]
  },
  {
   "cell_type": "markdown",
   "metadata": {},
   "source": [
    "* El estado de los objetos indexados es modificado."
   ]
  },
  {
   "cell_type": "code",
   "execution_count": 44,
   "metadata": {
    "scrolled": false
   },
   "outputs": [
    {
     "name": "stdout",
     "output_type": "stream",
     "text": [
      "100644 90a8b80bbb845cb1187852777769937a9574e3ab 0\t.gitignore\n",
      "100644 a19abfea0f29b668c91c58c834b8965e6c37804f 0\tarchivo-1\n",
      "100644 e69de29bb2d1d6434b8b29ae775ad8c2e48c5391 0\tarchivo-2\n"
     ]
    }
   ],
   "source": [
    "git ls-files -s"
   ]
  },
  {
   "cell_type": "code",
   "execution_count": 45,
   "metadata": {
    "scrolled": true
   },
   "outputs": [
    {
     "name": "stdout",
     "output_type": "stream",
     "text": [
      "On branch main\n",
      "Changes not staged for commit:\n",
      "  (use \"git add <file>...\" to update what will be committed)\n",
      "  (use \"git restore <file>...\" to discard changes in working directory)\n",
      "\tmodified:   archivo-1\n",
      "\n",
      "Untracked files:\n",
      "  (use \"git add <file>...\" to include in what will be committed)\n",
      "\tarchivo-6\n",
      "\tarchivo_nuevo\n",
      "\n",
      "no changes added to commit (use \"git add\" and/or \"git commit -a\")\n"
     ]
    }
   ],
   "source": [
    "git status"
   ]
  },
  {
   "cell_type": "markdown",
   "metadata": {},
   "source": [
    "* Se creará un nuevo *commit* con el mensaje ```commit posterior a un mixed reset```."
   ]
  },
  {
   "cell_type": "code",
   "execution_count": 46,
   "metadata": {},
   "outputs": [
    {
     "name": "stdout",
     "output_type": "stream",
     "text": [
      "[main feaeb5f] commit posterior a un mixed reset\n",
      " 1 file changed, 1 insertion(+)\n"
     ]
    }
   ],
   "source": [
    "git commit -am \"commit posterior a un mixed reset\""
   ]
  },
  {
   "cell_type": "code",
   "execution_count": 47,
   "metadata": {
    "scrolled": true
   },
   "outputs": [
    {
     "name": "stdout",
     "output_type": "stream",
     "text": [
      "* feaeb5f (HEAD -> main) commit posterior a un mixed reset\n",
      "* 2405b5a (restituida) cuarto commit\n",
      "* de4e044 segundo commit\n",
      "* 2020250 primer commit\n"
     ]
    }
   ],
   "source": [
    "git log --oneline --graph"
   ]
  },
  {
   "cell_type": "markdown",
   "metadata": {},
   "source": [
    "### La opción ```--soft``` \n",
    "\n",
    "Esta opción regresa a al estado indicado, pero no al directorio de trabajo ni al índice de objetos."
   ]
  },
  {
   "cell_type": "markdown",
   "metadata": {},
   "source": [
    "**Ejemplos:**"
   ]
  },
  {
   "cell_type": "markdown",
   "metadata": {
    "scrolled": true
   },
   "source": [
    "* Se realizará un ```git --reset soft``` a ```HEAD~3```."
   ]
  },
  {
   "cell_type": "code",
   "execution_count": 48,
   "metadata": {},
   "outputs": [],
   "source": [
    "git reset HEAD~3 --soft"
   ]
  },
  {
   "cell_type": "markdown",
   "metadata": {},
   "source": [
    "* Ahora ```HEAD``` corresponde al commit con el mensaje ```primer commit```."
   ]
  },
  {
   "cell_type": "code",
   "execution_count": 49,
   "metadata": {
    "scrolled": true
   },
   "outputs": [
    {
     "name": "stdout",
     "output_type": "stream",
     "text": [
      "* 2020250 (HEAD -> main) primer commit\n"
     ]
    }
   ],
   "source": [
    "git log --oneline --graph"
   ]
  },
  {
   "cell_type": "markdown",
   "metadata": {},
   "source": [
    "* El registro de referencias está intacto y registró el *reset*."
   ]
  },
  {
   "cell_type": "code",
   "execution_count": 50,
   "metadata": {
    "scrolled": true
   },
   "outputs": [
    {
     "name": "stdout",
     "output_type": "stream",
     "text": [
      "2020250 (HEAD -> main) HEAD@{0}: reset: moving to HEAD~3\n",
      "feaeb5f HEAD@{1}: commit: commit posterior a un mixed reset\n",
      "2405b5a (restituida) HEAD@{2}: reset: moving to HEAD~3\n",
      "09c908c HEAD@{3}: commit: commit posterior a un hard reset\n",
      "955f607 HEAD@{4}: reset: moving to HEAD~2\n",
      "5274a90 HEAD@{5}: revert: Revert \"quinto commit\"\n",
      "f65734b (tag: v1) HEAD@{6}: commit: sexto commit\n",
      "955f607 HEAD@{7}: checkout: moving from 2405b5ade4ac710fcf18cd1091b8100d9b4e093f to main\n",
      "2405b5a (restituida) HEAD@{8}: checkout: moving from segunda to 2405b5\n",
      "61db1a4 (segunda) HEAD@{9}: checkout: moving from restituida to segunda\n",
      "2405b5a (restituida) HEAD@{10}: checkout: moving from 2405b5ade4ac710fcf18cd1091b8100d9b4e093f to restituida\n",
      "2405b5a (restituida) HEAD@{11}: checkout: moving from main to 2405b5\n",
      "955f607 HEAD@{12}: merge segunda: Merge made by the 'ort' strategy.\n",
      "b5f3cc9 HEAD@{13}: commit: quinto commit\n",
      "2405b5a (restituida) HEAD@{14}: checkout: moving from segunda to main\n",
      "61db1a4 (segunda) HEAD@{15}: commit: primer commit de segunda\n",
      "2405b5a (restituida) HEAD@{16}: checkout: moving from main to segunda\n",
      "2405b5a (restituida) HEAD@{17}: commit: cuarto commit\n",
      "de4e044 HEAD@{18}: commit: segundo commit\n",
      "2020250 (HEAD -> main) HEAD@{19}: commit (initial): primer commit\n"
     ]
    }
   ],
   "source": [
    "git reflog --oneline"
   ]
  },
  {
   "cell_type": "markdown",
   "metadata": {},
   "source": [
    "* El directorio de trabajo está intacto. "
   ]
  },
  {
   "cell_type": "code",
   "execution_count": 51,
   "metadata": {},
   "outputs": [
    {
     "name": "stdout",
     "output_type": "stream",
     "text": [
      "archivo-1  archivo-2  archivo-6  archivo_nuevo  invisible\n"
     ]
    }
   ],
   "source": [
    "ls"
   ]
  },
  {
   "cell_type": "markdown",
   "metadata": {},
   "source": [
    "* El área de preparación conserva objetos a los que se les sigue dando seguimiento."
   ]
  },
  {
   "cell_type": "code",
   "execution_count": 52,
   "metadata": {},
   "outputs": [
    {
     "name": "stdout",
     "output_type": "stream",
     "text": [
      "On branch main\n",
      "Changes to be committed:\n",
      "  (use \"git restore --staged <file>...\" to unstage)\n",
      "\tmodified:   archivo-1\n",
      "\tdeleted:    archivo-3\n",
      "\n",
      "Untracked files:\n",
      "  (use \"git add <file>...\" to include in what will be committed)\n",
      "\tarchivo-6\n",
      "\tarchivo_nuevo\n",
      "\n"
     ]
    }
   ],
   "source": [
    "git status"
   ]
  },
  {
   "cell_type": "markdown",
   "metadata": {},
   "source": [
    "* Se hará el commit con el mensaje ```commit posterior a un soft reset```."
   ]
  },
  {
   "cell_type": "code",
   "execution_count": 53,
   "metadata": {},
   "outputs": [
    {
     "name": "stdout",
     "output_type": "stream",
     "text": [
      "[main 8bfdadc] commit posterior a un soft reset\n",
      " 2 files changed, 2 insertions(+)\n",
      " delete mode 100644 archivo-3\n"
     ]
    }
   ],
   "source": [
    "git commit -am \"commit posterior a un soft reset\""
   ]
  },
  {
   "cell_type": "code",
   "execution_count": 54,
   "metadata": {
    "scrolled": true
   },
   "outputs": [
    {
     "name": "stdout",
     "output_type": "stream",
     "text": [
      "* 8bfdadc (HEAD -> main) commit posterior a un soft reset\n",
      "* 2020250 primer commit\n"
     ]
    }
   ],
   "source": [
    "git log --oneline --graph"
   ]
  },
  {
   "cell_type": "markdown",
   "metadata": {},
   "source": [
    "## El comando ```git rebase```.\n",
    "\n",
    "Este comando permite combinar el *HEAD commit* de una rama con el *HEAD commit* de la rama de la que fue separada, reconstruyendo cada acción a partir del punto separación.\n",
    "\n",
    "```\n",
    "git rebase <rama>\n",
    "```\n",
    "\n",
    "Donde:\n",
    "\n",
    "* ```<rama>``` es la rama de origen.\n",
    "\n",
    "https://git-scm.com/docs/git-rebase"
   ]
  },
  {
   "cell_type": "markdown",
   "metadata": {},
   "source": [
    "**Ejemplo:**"
   ]
  },
  {
   "cell_type": "markdown",
   "metadata": {},
   "source": [
    "* Se creará la rama ```alterna``` a partir del ```HEAD``` actual."
   ]
  },
  {
   "cell_type": "code",
   "execution_count": 55,
   "metadata": {},
   "outputs": [
    {
     "name": "stdout",
     "output_type": "stream",
     "text": [
      "Switched to a new branch 'alterna'\n"
     ]
    }
   ],
   "source": [
    "git checkout -b alterna"
   ]
  },
  {
   "cell_type": "code",
   "execution_count": 56,
   "metadata": {
    "scrolled": true
   },
   "outputs": [
    {
     "name": "stdout",
     "output_type": "stream",
     "text": [
      "* 8bfdadc (HEAD -> alterna, main) commit posterior a un soft reset\n",
      "* 2020250 primer commit\n"
     ]
    }
   ],
   "source": [
    "git log --oneline --graph"
   ]
  },
  {
   "cell_type": "markdown",
   "metadata": {},
   "source": [
    "* Se crearán los archivos  ```alt-1``` y  ```alt-2```."
   ]
  },
  {
   "cell_type": "code",
   "execution_count": 57,
   "metadata": {},
   "outputs": [],
   "source": [
    "touch alt-1 alt-2"
   ]
  },
  {
   "cell_type": "code",
   "execution_count": 58,
   "metadata": {},
   "outputs": [
    {
     "name": "stdout",
     "output_type": "stream",
     "text": [
      "alt-1  alt-2  archivo-1  archivo-2  archivo-6  archivo_nuevo  invisible\n"
     ]
    }
   ],
   "source": [
    "ls"
   ]
  },
  {
   "cell_type": "markdown",
   "metadata": {},
   "source": [
    "* Se realizará un *commit* con el mensaje ```primer commit rama alterna```."
   ]
  },
  {
   "cell_type": "code",
   "execution_count": 59,
   "metadata": {},
   "outputs": [],
   "source": [
    "git add --all"
   ]
  },
  {
   "cell_type": "code",
   "execution_count": 60,
   "metadata": {},
   "outputs": [
    {
     "name": "stdout",
     "output_type": "stream",
     "text": [
      "[alterna 39712e3] primer commit rama alterna\n",
      " 4 files changed, 1 insertion(+)\n",
      " create mode 100644 alt-1\n",
      " create mode 100644 alt-2\n",
      " create mode 100644 archivo-6\n",
      " create mode 100644 archivo_nuevo\n"
     ]
    }
   ],
   "source": [
    "git commit -m \"primer commit rama alterna\""
   ]
  },
  {
   "cell_type": "markdown",
   "metadata": {},
   "source": [
    "* Se cambiará a la rama ```main```."
   ]
  },
  {
   "cell_type": "code",
   "execution_count": 61,
   "metadata": {},
   "outputs": [
    {
     "name": "stdout",
     "output_type": "stream",
     "text": [
      "Switched to branch 'main'\n"
     ]
    }
   ],
   "source": [
    "git checkout main"
   ]
  },
  {
   "cell_type": "code",
   "execution_count": 62,
   "metadata": {
    "scrolled": true
   },
   "outputs": [
    {
     "name": "stdout",
     "output_type": "stream",
     "text": [
      "archivo-1  archivo-2  invisible\n"
     ]
    }
   ],
   "source": [
    "ls"
   ]
  },
  {
   "cell_type": "markdown",
   "metadata": {},
   "source": [
    "* Se realizarán modificaciones al área de trabajo. "
   ]
  },
  {
   "cell_type": "code",
   "execution_count": 63,
   "metadata": {},
   "outputs": [],
   "source": [
    "touch archivo-6\n",
    "rm archivo-2"
   ]
  },
  {
   "cell_type": "markdown",
   "metadata": {},
   "source": [
    "* Se hará un *commit* con el mensaje ```commit de rebase```."
   ]
  },
  {
   "cell_type": "code",
   "execution_count": 64,
   "metadata": {},
   "outputs": [],
   "source": [
    "git add --all"
   ]
  },
  {
   "cell_type": "code",
   "execution_count": 65,
   "metadata": {},
   "outputs": [
    {
     "name": "stdout",
     "output_type": "stream",
     "text": [
      "[main a57f980] commit de rebase\n",
      " 1 file changed, 0 insertions(+), 0 deletions(-)\n",
      " rename archivo-2 => archivo-6 (100%)\n"
     ]
    }
   ],
   "source": [
    "git commit -m \"commit de rebase\""
   ]
  },
  {
   "cell_type": "code",
   "execution_count": 66,
   "metadata": {
    "scrolled": true
   },
   "outputs": [
    {
     "name": "stdout",
     "output_type": "stream",
     "text": [
      "* a57f980 (HEAD -> main) commit de rebase\n",
      "* 8bfdadc commit posterior a un soft reset\n",
      "* 2020250 primer commit\n"
     ]
    }
   ],
   "source": [
    "git log --oneline --graph"
   ]
  },
  {
   "cell_type": "markdown",
   "metadata": {},
   "source": [
    "* Se moverá el repositorio a la rama ```alterna```."
   ]
  },
  {
   "cell_type": "code",
   "execution_count": 67,
   "metadata": {
    "scrolled": true
   },
   "outputs": [
    {
     "name": "stdout",
     "output_type": "stream",
     "text": [
      "Switched to branch 'alterna'\n"
     ]
    }
   ],
   "source": [
    "git checkout alterna"
   ]
  },
  {
   "cell_type": "code",
   "execution_count": 68,
   "metadata": {},
   "outputs": [
    {
     "name": "stdout",
     "output_type": "stream",
     "text": [
      "* 39712e3 (HEAD -> alterna) primer commit rama alterna\n",
      "* 8bfdadc commit posterior a un soft reset\n",
      "* 2020250 primer commit\n"
     ]
    }
   ],
   "source": [
    "git log --oneline --graph"
   ]
  },
  {
   "cell_type": "markdown",
   "metadata": {},
   "source": [
    "* La siguiente celda mostrará la diferencia entre ramas."
   ]
  },
  {
   "cell_type": "code",
   "execution_count": 69,
   "metadata": {},
   "outputs": [
    {
     "name": "stdout",
     "output_type": "stream",
     "text": [
      "diff --git a/alt-1 b/alt-1\n",
      "deleted file mode 100644\n",
      "index e69de29..0000000\n",
      "diff --git a/alt-2 b/alt-2\n",
      "deleted file mode 100644\n",
      "index e69de29..0000000\n",
      "diff --git a/archivo-2 b/archivo-2\n",
      "deleted file mode 100644\n",
      "index e69de29..0000000\n",
      "diff --git a/archivo_nuevo b/archivo_nuevo\n",
      "deleted file mode 100644\n",
      "index c751e2b..0000000\n",
      "--- a/archivo_nuevo\n",
      "+++ /dev/null\n",
      "@@ -1 +0,0 @@\n",
      "-Archivo de la segunda rama.\n"
     ]
    }
   ],
   "source": [
    "git diff alterna main"
   ]
  },
  {
   "cell_type": "markdown",
   "metadata": {},
   "source": [
    "* Se ejecutará un ```git rebase``` con respecto a ```main```."
   ]
  },
  {
   "cell_type": "code",
   "execution_count": 70,
   "metadata": {
    "scrolled": true
   },
   "outputs": [
    {
     "name": "stdout",
     "output_type": "stream",
     "text": [
      "Rebasing (1/1)\r",
      "\r",
      "                                                                                \r",
      "Successfully rebased and updated refs/heads/alterna.\n"
     ]
    }
   ],
   "source": [
    "git rebase main"
   ]
  },
  {
   "cell_type": "markdown",
   "metadata": {},
   "source": [
    "* El contenido del directorio de trabajo se combinó con las dos ramas."
   ]
  },
  {
   "cell_type": "code",
   "execution_count": 71,
   "metadata": {
    "scrolled": true
   },
   "outputs": [
    {
     "name": "stdout",
     "output_type": "stream",
     "text": [
      "alt-1  alt-2  archivo-1  archivo-6  archivo_nuevo  invisible\n"
     ]
    }
   ],
   "source": [
    "ls"
   ]
  },
  {
   "cell_type": "markdown",
   "metadata": {},
   "source": [
    "* El área de preparación está vacía."
   ]
  },
  {
   "cell_type": "code",
   "execution_count": 72,
   "metadata": {
    "scrolled": true
   },
   "outputs": [
    {
     "name": "stdout",
     "output_type": "stream",
     "text": [
      "On branch alterna\n",
      "nothing to commit, working tree clean\n"
     ]
    }
   ],
   "source": [
    "git status"
   ]
  },
  {
   "cell_type": "markdown",
   "metadata": {},
   "source": [
    "* No existe ningún *commit* nuevo. "
   ]
  },
  {
   "cell_type": "code",
   "execution_count": 73,
   "metadata": {
    "scrolled": true
   },
   "outputs": [
    {
     "name": "stdout",
     "output_type": "stream",
     "text": [
      "* 4f92265 (HEAD -> alterna) primer commit rama alterna\n",
      "* a57f980 (main) commit de rebase\n",
      "* 8bfdadc commit posterior a un soft reset\n",
      "* 2020250 primer commit\n"
     ]
    }
   ],
   "source": [
    "git log --oneline --graph"
   ]
  },
  {
   "cell_type": "markdown",
   "metadata": {},
   "source": [
    "* El *rebase* queda registrado en el *reflog*."
   ]
  },
  {
   "cell_type": "code",
   "execution_count": 74,
   "metadata": {},
   "outputs": [
    {
     "name": "stdout",
     "output_type": "stream",
     "text": [
      "4f92265 (HEAD -> alterna) HEAD@{0}: rebase (finish): returning to refs/heads/alterna\n",
      "4f92265 (HEAD -> alterna) HEAD@{1}: rebase (pick): primer commit rama alterna\n",
      "a57f980 (main) HEAD@{2}: rebase (start): checkout main\n",
      "39712e3 HEAD@{3}: checkout: moving from main to alterna\n",
      "a57f980 (main) HEAD@{4}: commit: commit de rebase\n",
      "8bfdadc HEAD@{5}: checkout: moving from alterna to main\n",
      "39712e3 HEAD@{6}: commit: primer commit rama alterna\n",
      "8bfdadc HEAD@{7}: checkout: moving from main to alterna\n",
      "8bfdadc HEAD@{8}: commit: commit posterior a un soft reset\n",
      "2020250 HEAD@{9}: reset: moving to HEAD~3\n",
      "feaeb5f HEAD@{10}: commit: commit posterior a un mixed reset\n",
      "2405b5a (restituida) HEAD@{11}: reset: moving to HEAD~3\n",
      "09c908c HEAD@{12}: commit: commit posterior a un hard reset\n",
      "955f607 HEAD@{13}: reset: moving to HEAD~2\n",
      "5274a90 HEAD@{14}: revert: Revert \"quinto commit\"\n",
      "f65734b (tag: v1) HEAD@{15}: commit: sexto commit\n",
      "955f607 HEAD@{16}: checkout: moving from 2405b5ade4ac710fcf18cd1091b8100d9b4e093f to main\n",
      "2405b5a (restituida) HEAD@{17}: checkout: moving from segunda to 2405b5\n",
      "61db1a4 (segunda) HEAD@{18}: checkout: moving from restituida to segunda\n",
      "2405b5a (restituida) HEAD@{19}: checkout: moving from 2405b5ade4ac710fcf18cd1091b8100d9b4e093f to restituida\n",
      "2405b5a (restituida) HEAD@{20}: checkout: moving from main to 2405b5\n",
      "955f607 HEAD@{21}: merge segunda: Merge made by the 'ort' strategy.\n",
      "b5f3cc9 HEAD@{22}: commit: quinto commit\n",
      "2405b5a (restituida) HEAD@{23}: checkout: moving from segunda to main\n",
      "61db1a4 (segunda) HEAD@{24}: commit: primer commit de segunda\n",
      "2405b5a (restituida) HEAD@{25}: checkout: moving from main to segunda\n",
      "2405b5a (restituida) HEAD@{26}: commit: cuarto commit\n",
      "de4e044 HEAD@{27}: commit: segundo commit\n",
      "2020250 HEAD@{28}: commit (initial): primer commit\n"
     ]
    }
   ],
   "source": [
    "git reflog"
   ]
  },
  {
   "cell_type": "markdown",
   "metadata": {},
   "source": [
    "## Restablecer archivos provenientes de estados previos.\n",
    "\n",
    "En ciertas ocasiones es necesario traer archivos de versiones previas del repositorio. La manera de hacer esto es mediante los comandos ```git checkout``` y ```git restore```. \n",
    "\n",
    "Mientras que ```git checkout``` tiene funciones adicionales, ```git restore``` sólo realiza operaciones de restablecimiento.\n",
    "\n",
    "```\n",
    "git checkout <id> <ruta>\n",
    "```\n",
    "o \n",
    "\n",
    "```\n",
    "git restore <id> <ruta>\n",
    "```\n",
    "\n",
    "Donde:\n",
    "\n",
    "* ```<id>``` es un identificador o referencia a un *commit*.\n",
    "* ```<ruta>``` es la ruta al archivo a restablecer.\n",
    "\n",
    "\n",
    "La documentación de ```git checkout``` se encuentra en:\n",
    "\n",
    "https://git-scm.com/docs/git-checkout\n",
    "\n",
    "La documentación de ```git restore``` se encuentra en:\n",
    "\n",
    "https://git-scm.com/docs/git-restore\n"
   ]
  },
  {
   "cell_type": "markdown",
   "metadata": {},
   "source": [
    "**Ejemplo:**"
   ]
  },
  {
   "cell_type": "markdown",
   "metadata": {},
   "source": [
    "* Se moverá el repositorio a la rama ```main```."
   ]
  },
  {
   "cell_type": "code",
   "execution_count": 75,
   "metadata": {},
   "outputs": [
    {
     "name": "stdout",
     "output_type": "stream",
     "text": [
      "Switched to branch 'main'\n"
     ]
    }
   ],
   "source": [
    "git checkout main"
   ]
  },
  {
   "cell_type": "code",
   "execution_count": 76,
   "metadata": {},
   "outputs": [
    {
     "name": "stdout",
     "output_type": "stream",
     "text": [
      "archivo-1  archivo-6  invisible\n"
     ]
    }
   ],
   "source": [
    "ls"
   ]
  },
  {
   "cell_type": "markdown",
   "metadata": {},
   "source": [
    "* Se eliminará el archivo ```archivo-6```."
   ]
  },
  {
   "cell_type": "code",
   "execution_count": 77,
   "metadata": {},
   "outputs": [],
   "source": [
    "rm  archivo-6"
   ]
  },
  {
   "cell_type": "markdown",
   "metadata": {},
   "source": [
    "* Se realizará un *commit* con el mensaje ```eliminacion en main```."
   ]
  },
  {
   "cell_type": "code",
   "execution_count": 78,
   "metadata": {},
   "outputs": [],
   "source": [
    "git add --all"
   ]
  },
  {
   "cell_type": "code",
   "execution_count": 79,
   "metadata": {},
   "outputs": [
    {
     "name": "stdout",
     "output_type": "stream",
     "text": [
      "[main 8b12003] eliminacion en main\n",
      " 1 file changed, 0 insertions(+), 0 deletions(-)\n",
      " delete mode 100644 archivo-6\n"
     ]
    }
   ],
   "source": [
    "git commit -m \"eliminacion en main\""
   ]
  },
  {
   "cell_type": "code",
   "execution_count": 80,
   "metadata": {
    "scrolled": true
   },
   "outputs": [
    {
     "name": "stdout",
     "output_type": "stream",
     "text": [
      "archivo-1  invisible\n"
     ]
    }
   ],
   "source": [
    "ls"
   ]
  },
  {
   "cell_type": "markdown",
   "metadata": {},
   "source": [
    "* El archivo ```archivo-6``` existe en la rama ```alterna```."
   ]
  },
  {
   "cell_type": "code",
   "execution_count": 81,
   "metadata": {},
   "outputs": [
    {
     "name": "stdout",
     "output_type": "stream",
     "text": [
      "Switched to branch 'alterna'\n"
     ]
    }
   ],
   "source": [
    "git switch alterna"
   ]
  },
  {
   "cell_type": "code",
   "execution_count": 82,
   "metadata": {
    "scrolled": true
   },
   "outputs": [
    {
     "name": "stdout",
     "output_type": "stream",
     "text": [
      "alt-1  alt-2  archivo-1  archivo-6  archivo_nuevo  invisible\n"
     ]
    }
   ],
   "source": [
    "ls"
   ]
  },
  {
   "cell_type": "markdown",
   "metadata": {},
   "source": [
    "* Se realizará un *merge* con ```alterna``` desde ```main```."
   ]
  },
  {
   "cell_type": "code",
   "execution_count": 83,
   "metadata": {},
   "outputs": [
    {
     "name": "stdout",
     "output_type": "stream",
     "text": [
      "Switched to branch 'main'\n"
     ]
    }
   ],
   "source": [
    "git switch main"
   ]
  },
  {
   "cell_type": "code",
   "execution_count": 84,
   "metadata": {
    "scrolled": false
   },
   "outputs": [
    {
     "name": "stdout",
     "output_type": "stream",
     "text": [
      "Merge made by the 'recursive' strategy.\n",
      " alt-1         | 0\n",
      " alt-2         | 0\n",
      " archivo_nuevo | 1 +\n",
      " 3 files changed, 1 insertion(+)\n",
      " create mode 100644 alt-1\n",
      " create mode 100644 alt-2\n",
      " create mode 100644 archivo_nuevo\n"
     ]
    }
   ],
   "source": [
    "git merge alterna -m \"nuevo merge\""
   ]
  },
  {
   "cell_type": "markdown",
   "metadata": {},
   "source": [
    "* A pesar del *merge*, ```archivo-6``` no fue añadido. Eso se debe a que en el registro de ```main``` el objeto ```archivo-6``` está eliminado."
   ]
  },
  {
   "cell_type": "code",
   "execution_count": 85,
   "metadata": {},
   "outputs": [
    {
     "name": "stdout",
     "output_type": "stream",
     "text": [
      "alt-1  alt-2  archivo-1  archivo_nuevo  invisible\n"
     ]
    }
   ],
   "source": [
    "ls"
   ]
  },
  {
   "cell_type": "code",
   "execution_count": 86,
   "metadata": {
    "scrolled": true
   },
   "outputs": [
    {
     "name": "stdout",
     "output_type": "stream",
     "text": [
      "100644 90a8b80bbb845cb1187852777769937a9574e3ab 0\t.gitignore\n",
      "100644 e69de29bb2d1d6434b8b29ae775ad8c2e48c5391 0\talt-1\n",
      "100644 e69de29bb2d1d6434b8b29ae775ad8c2e48c5391 0\talt-2\n",
      "100644 d7f0e7ba5cf079cdea1d7c8792e1432161f082c1 0\tarchivo-1\n",
      "100644 c751e2bede3a125b01e98ef50f47a5195f8a83df 0\tarchivo_nuevo\n"
     ]
    }
   ],
   "source": [
    "git ls-files -s"
   ]
  },
  {
   "cell_type": "markdown",
   "metadata": {},
   "source": [
    "* La siguiente celda restituirá ```archivo-6``` desde  ```HEAD~2```."
   ]
  },
  {
   "cell_type": "code",
   "execution_count": 87,
   "metadata": {},
   "outputs": [
    {
     "name": "stdout",
     "output_type": "stream",
     "text": [
      "Updated 1 path from 254b4fd\n"
     ]
    }
   ],
   "source": [
    "git checkout HEAD~2 archivo-6"
   ]
  },
  {
   "cell_type": "code",
   "execution_count": 88,
   "metadata": {
    "scrolled": true
   },
   "outputs": [
    {
     "name": "stdout",
     "output_type": "stream",
     "text": [
      "alt-1  alt-2  archivo-1  archivo-6  archivo_nuevo  invisible\n"
     ]
    }
   ],
   "source": [
    "ls"
   ]
  },
  {
   "cell_type": "code",
   "execution_count": 89,
   "metadata": {},
   "outputs": [
    {
     "name": "stdout",
     "output_type": "stream",
     "text": [
      "On branch main\n",
      "Changes to be committed:\n",
      "  (use \"git restore --staged <file>...\" to unstage)\n",
      "\tnew file:   archivo-6\n",
      "\n"
     ]
    }
   ],
   "source": [
    "git status"
   ]
  },
  {
   "cell_type": "code",
   "execution_count": 90,
   "metadata": {},
   "outputs": [
    {
     "name": "stdout",
     "output_type": "stream",
     "text": [
      "100644 90a8b80bbb845cb1187852777769937a9574e3ab 0\t.gitignore\n",
      "100644 e69de29bb2d1d6434b8b29ae775ad8c2e48c5391 0\talt-1\n",
      "100644 e69de29bb2d1d6434b8b29ae775ad8c2e48c5391 0\talt-2\n",
      "100644 d7f0e7ba5cf079cdea1d7c8792e1432161f082c1 0\tarchivo-1\n",
      "100644 e69de29bb2d1d6434b8b29ae775ad8c2e48c5391 0\tarchivo-6\n",
      "100644 c751e2bede3a125b01e98ef50f47a5195f8a83df 0\tarchivo_nuevo\n"
     ]
    }
   ],
   "source": [
    "git ls-files -s"
   ]
  },
  {
   "cell_type": "markdown",
   "metadata": {},
   "source": [
    "* Se realizará un *commit* con el mensaje ```eliminacion en main```."
   ]
  },
  {
   "cell_type": "code",
   "execution_count": 91,
   "metadata": {},
   "outputs": [
    {
     "name": "stdout",
     "output_type": "stream",
     "text": [
      "[main 64d94cd] commit de restauración\n",
      " 1 file changed, 0 insertions(+), 0 deletions(-)\n",
      " create mode 100644 archivo-6\n"
     ]
    }
   ],
   "source": [
    "git commit -am \"commit de restauración\""
   ]
  },
  {
   "cell_type": "code",
   "execution_count": 92,
   "metadata": {},
   "outputs": [
    {
     "name": "stdout",
     "output_type": "stream",
     "text": [
      "* 64d94cd (HEAD -> main) commit de restauración\n",
      "*   9887e82 nuevo merge\n",
      "|\\  \n",
      "| * 4f92265 (alterna) primer commit rama alterna\n",
      "* | 8b12003 eliminacion en main\n",
      "|/  \n",
      "* a57f980 commit de rebase\n",
      "* 8bfdadc commit posterior a un soft reset\n",
      "* 2020250 primer commit\n"
     ]
    }
   ],
   "source": [
    "git log --oneline --graph"
   ]
  },
  {
   "cell_type": "markdown",
   "metadata": {},
   "source": [
    "## El comando ```git cherry-pick```.\n",
    "\n",
    "El comando ```git cherry-pick``` permite tomar cualquier commit en la historia del repositorio y aplicarlo al ```HEAD```. \n",
    "\n",
    "\n",
    "```\n",
    "git cherry-pick <id>\n",
    "```\n",
    "\n",
    "Donde:\n",
    "\n",
    "* ```<id>``` es un dientificador o referencia a un *commit*.\n",
    "\n",
    "La documentación de ```git cherry-pick``` puede ser consultada en:\n",
    "\n",
    "https://git-scm.com/docs/git-cherry-pick\n",
    "\n",
    "\n",
    "**Nota:** Este comando puede generar conflictos debido a inconsistencias entre el ```HEAD``` y el *commit* que se aplicará. Hay que ser muy cuidadosos en su utilización."
   ]
  },
  {
   "cell_type": "markdown",
   "metadata": {},
   "source": [
    "**Ejemplo:**"
   ]
  },
  {
   "cell_type": "markdown",
   "metadata": {},
   "source": [
    "* Aún con todas las modificaciones al repositorio, el reflog guarda registro de todos los *commit* existentes, incluyendo el commit con *tag* ```v1```."
   ]
  },
  {
   "cell_type": "code",
   "execution_count": 93,
   "metadata": {
    "scrolled": false
   },
   "outputs": [
    {
     "name": "stdout",
     "output_type": "stream",
     "text": [
      "64d94cd (HEAD -> main) HEAD@{0}: commit: commit de restauración\n",
      "9887e82 HEAD@{1}: merge alterna: Merge made by the 'recursive' strategy.\n",
      "8b12003 HEAD@{2}: checkout: moving from alterna to main\n",
      "4f92265 (alterna) HEAD@{3}: checkout: moving from main to alterna\n",
      "8b12003 HEAD@{4}: commit: eliminacion en main\n",
      "a57f980 HEAD@{5}: checkout: moving from alterna to main\n",
      "4f92265 (alterna) HEAD@{6}: rebase (finish): returning to refs/heads/alterna\n",
      "4f92265 (alterna) HEAD@{7}: rebase (pick): primer commit rama alterna\n",
      "a57f980 HEAD@{8}: rebase (start): checkout main\n",
      "39712e3 HEAD@{9}: checkout: moving from main to alterna\n",
      "a57f980 HEAD@{10}: commit: commit de rebase\n",
      "8bfdadc HEAD@{11}: checkout: moving from alterna to main\n",
      "39712e3 HEAD@{12}: commit: primer commit rama alterna\n",
      "8bfdadc HEAD@{13}: checkout: moving from main to alterna\n",
      "8bfdadc HEAD@{14}: commit: commit posterior a un soft reset\n",
      "2020250 HEAD@{15}: reset: moving to HEAD~3\n",
      "feaeb5f HEAD@{16}: commit: commit posterior a un mixed reset\n",
      "2405b5a (restituida) HEAD@{17}: reset: moving to HEAD~3\n",
      "09c908c HEAD@{18}: commit: commit posterior a un hard reset\n",
      "955f607 HEAD@{19}: reset: moving to HEAD~2\n",
      "5274a90 HEAD@{20}: revert: Revert \"quinto commit\"\n",
      "f65734b (tag: v1) HEAD@{21}: commit: sexto commit\n",
      "955f607 HEAD@{22}: checkout: moving from 2405b5ade4ac710fcf18cd1091b8100d9b4e093f to main\n",
      "2405b5a (restituida) HEAD@{23}: checkout: moving from segunda to 2405b5\n",
      "61db1a4 (segunda) HEAD@{24}: checkout: moving from restituida to segunda\n",
      "2405b5a (restituida) HEAD@{25}: checkout: moving from 2405b5ade4ac710fcf18cd1091b8100d9b4e093f to restituida\n",
      "2405b5a (restituida) HEAD@{26}: checkout: moving from main to 2405b5\n",
      "955f607 HEAD@{27}: merge segunda: Merge made by the 'ort' strategy.\n",
      "b5f3cc9 HEAD@{28}: commit: quinto commit\n",
      "2405b5a (restituida) HEAD@{29}: checkout: moving from segunda to main\n",
      "61db1a4 (segunda) HEAD@{30}: commit: primer commit de segunda\n",
      "2405b5a (restituida) HEAD@{31}: checkout: moving from main to segunda\n",
      "2405b5a (restituida) HEAD@{32}: commit: cuarto commit\n",
      "de4e044 HEAD@{33}: commit: segundo commit\n",
      "2020250 HEAD@{34}: commit (initial): primer commit\n"
     ]
    }
   ],
   "source": [
    "git reflog"
   ]
  },
  {
   "cell_type": "code",
   "execution_count": 94,
   "metadata": {},
   "outputs": [
    {
     "name": "stdout",
     "output_type": "stream",
     "text": [
      "alt-1  alt-2  archivo-1  archivo-6  archivo_nuevo  invisible\n"
     ]
    }
   ],
   "source": [
    "ls"
   ]
  },
  {
   "cell_type": "code",
   "execution_count": 95,
   "metadata": {},
   "outputs": [
    {
     "name": "stdout",
     "output_type": "stream",
     "text": [
      "* 64d94cd (HEAD -> main) commit de restauración\n",
      "*   9887e82 nuevo merge\n",
      "|\\  \n",
      "| * 4f92265 (alterna) primer commit rama alterna\n",
      "* | 8b12003 eliminacion en main\n",
      "|/  \n",
      "* a57f980 commit de rebase\n",
      "* 8bfdadc commit posterior a un soft reset\n",
      "* 2020250 primer commit\n"
     ]
    }
   ],
   "source": [
    "git log --oneline --graph "
   ]
  },
  {
   "cell_type": "markdown",
   "metadata": {},
   "source": [
    "* Se aplicará el comando ```git cherry-pick``` aplicando el *commit* con *tag* ```v1```."
   ]
  },
  {
   "cell_type": "code",
   "execution_count": 96,
   "metadata": {
    "scrolled": false
   },
   "outputs": [
    {
     "name": "stdout",
     "output_type": "stream",
     "text": [
      "[main ac198ec] sexto commit\n",
      " Date: Mon May 22 20:22:31 2023 -0500\n",
      " 1 file changed, 1 insertion(+)\n",
      " create mode 100644 archivo-5\n"
     ]
    }
   ],
   "source": [
    "git cherry-pick v1"
   ]
  },
  {
   "cell_type": "code",
   "execution_count": 97,
   "metadata": {},
   "outputs": [
    {
     "name": "stdout",
     "output_type": "stream",
     "text": [
      "alt-1  alt-2  archivo-1  archivo-5  archivo-6  archivo_nuevo  invisible\n"
     ]
    }
   ],
   "source": [
    "ls"
   ]
  },
  {
   "cell_type": "code",
   "execution_count": 98,
   "metadata": {},
   "outputs": [
    {
     "name": "stdout",
     "output_type": "stream",
     "text": [
      "* ac198ec (HEAD -> main) sexto commit\n",
      "* 64d94cd commit de restauración\n",
      "*   9887e82 nuevo merge\n",
      "|\\  \n",
      "| * 4f92265 (alterna) primer commit rama alterna\n",
      "* | 8b12003 eliminacion en main\n",
      "|/  \n",
      "* a57f980 commit de rebase\n",
      "* 8bfdadc commit posterior a un soft reset\n",
      "* 2020250 primer commit\n"
     ]
    }
   ],
   "source": [
    "git log --oneline --graph"
   ]
  },
  {
   "cell_type": "code",
   "execution_count": 99,
   "metadata": {},
   "outputs": [
    {
     "name": "stdout",
     "output_type": "stream",
     "text": [
      "On branch main\n",
      "You are currently cherry-picking commit f65734b.\n",
      "  (all conflicts fixed: run \"git cherry-pick --continue\")\n",
      "  (use \"git cherry-pick --skip\" to skip this patch)\n",
      "  (use \"git cherry-pick --abort\" to cancel the cherry-pick operation)\n",
      "\n",
      "nothing to commit, working tree clean\n",
      "The previous cherry-pick is now empty, possibly due to conflict resolution.\n",
      "If you wish to commit it anyway, use:\n",
      "\n",
      "    git commit --allow-empty\n",
      "\n",
      "Otherwise, please use 'git cherry-pick --skip'\n"
     ]
    },
    {
     "ename": "",
     "evalue": "1",
     "output_type": "error",
     "traceback": []
    }
   ],
   "source": [
    "git cherry-pick v1"
   ]
  },
  {
   "cell_type": "markdown",
   "metadata": {},
   "source": [
    "## Referencias adicionales."
   ]
  },
  {
   "cell_type": "markdown",
   "metadata": {},
   "source": [
    "* https://git-scm.com/book/es/v2/Fundamentos-de-Git-Deshacer-Cosas\n",
    "* https://git-scm.com/book/es/v2/Ramificaciones-en-Git-Reorganizar-el-Trabajo-Realizado\n",
    "* https://git-scm.com/book/es/v2/Herramientas-de-Git-Reescribiendo-la-Historia"
   ]
  },
  {
   "cell_type": "markdown",
   "metadata": {},
   "source": [
    "<p style=\"text-align: center\"><a rel=\"license\" href=\"http://creativecommons.org/licenses/by/4.0/\"><img alt=\"Licencia Creative Commons\" style=\"border-width:0\" src=\"https://i.creativecommons.org/l/by/4.0/80x15.png\" /></a><br />Esta obra está bajo una <a rel=\"license\" href=\"http://creativecommons.org/licenses/by/4.0/\">Licencia Creative Commons Atribución 4.0 Internacional</a>.</p>\n",
    "<p style=\"text-align: center\">&copy; José Luis Chiquete Valdivieso. 2023.</p>"
   ]
  }
 ],
 "metadata": {
  "kernelspec": {
   "display_name": "Bash",
   "language": "bash",
   "name": "bash"
  },
  "language_info": {
   "codemirror_mode": "shell",
   "file_extension": ".sh",
   "mimetype": "text/x-sh",
   "name": "bash"
  }
 },
 "nbformat": 4,
 "nbformat_minor": 2
}
