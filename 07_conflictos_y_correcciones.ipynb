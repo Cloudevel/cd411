{
 "cells": [
  {
   "cell_type": "markdown",
   "metadata": {},
   "source": [
    "<a href=\"https://cloudevel.com\"> <img src=\"img/cloudevel.png\" width=\"500px\"></a>"
   ]
  },
  {
   "cell_type": "markdown",
   "metadata": {},
   "source": [
    "# Conflictos y correcciones."
   ]
  },
  {
   "cell_type": "markdown",
   "metadata": {},
   "source": [
    "## Preliminares:\n",
    "\n",
    "A fin de contar con un entorno unificado, se utilizará una versión creada previamente del directorio ```demo``` que incluye los ejercicios de los capítulos previos y se encuentra comprimida en el archivo ```src/04/demo.zip```. "
   ]
  },
  {
   "cell_type": "code",
   "execution_count": 1,
   "metadata": {},
   "outputs": [],
   "source": [
    "rm -rf demo"
   ]
  },
  {
   "cell_type": "code",
   "execution_count": 2,
   "metadata": {},
   "outputs": [],
   "source": [
    "unzip -q src/04/demo.zip"
   ]
  },
  {
   "cell_type": "code",
   "execution_count": 3,
   "metadata": {},
   "outputs": [],
   "source": [
    "cd demo"
   ]
  },
  {
   "cell_type": "code",
   "execution_count": 4,
   "metadata": {},
   "outputs": [
    {
     "name": "stdout",
     "output_type": "stream",
     "text": [
      "* \u001b[32mmain\u001b[m\n",
      "  restituida\u001b[m\n",
      "  segunda\u001b[m\n"
     ]
    }
   ],
   "source": [
    "git branch"
   ]
  },
  {
   "cell_type": "code",
   "execution_count": 5,
   "metadata": {
    "scrolled": true
   },
   "outputs": [
    {
     "name": "stdout",
     "output_type": "stream",
     "text": [
      "*   \u001b[33m955f607\u001b[m\u001b[33m (\u001b[m\u001b[1;36mHEAD -> \u001b[m\u001b[1;32mmain\u001b[m\u001b[33m)\u001b[m commit fusionado\n",
      "\u001b[31m|\u001b[m\u001b[32m\\\u001b[m  \n",
      "\u001b[31m|\u001b[m * \u001b[33m61db1a4\u001b[m\u001b[33m (\u001b[m\u001b[1;32msegunda\u001b[m\u001b[33m)\u001b[m primer commit de segunda\n",
      "* \u001b[32m|\u001b[m \u001b[33mb5f3cc9\u001b[m quinto commit\n",
      "\u001b[32m|\u001b[m\u001b[32m/\u001b[m  \n",
      "* \u001b[33m2405b5a\u001b[m\u001b[33m (\u001b[m\u001b[1;32mrestituida\u001b[m\u001b[33m)\u001b[m cuarto commit\n",
      "* \u001b[33mde4e044\u001b[m segundo commit\n",
      "* \u001b[33m2020250\u001b[m primer commit\n"
     ]
    }
   ],
   "source": [
    "git log --graph --oneline"
   ]
  },
  {
   "cell_type": "markdown",
   "metadata": {},
   "source": [
    "## El comando ```git clean```.\n",
    "\n",
    "El comando ```git clean``` permite eliminar del directorio de trabajo a aquellos archivos que no están en estado de seguimiento.\n",
    "\n",
    "``` bash\n",
    "git clean <opciones> <ruta>\n",
    "```\n",
    "\n",
    "Donde:\n",
    "\n",
    "* ```<opciones>``` son las opciones aplicables.\n",
    "* ```<ruta>``` es la ruta o patrón de los archivos a  afectar con este comando.\n",
    "\n",
    "La documentación de referencia del comando ```git clean``` está disponible en:\n",
    "\n",
    "https://git-scm.com/docs/git-clean\n",
    "\n",
    "En caso de ejecutar el comando ```git clean``` sin opciones, se producirá un error. "
   ]
  },
  {
   "cell_type": "markdown",
   "metadata": {},
   "source": [
    "### La opción ```-f```.\n",
    "\n",
    "La opción ```-f``` le indica al comando ```git clean```que ejecute la acción forzosamente. En realidad, se utiliza como un \"seguro\", ya que en caso de uno ingresar dicha opción, se produciría un error."
   ]
  },
  {
   "cell_type": "markdown",
   "metadata": {},
   "source": [
    "**Ejemplo:**"
   ]
  },
  {
   "cell_type": "markdown",
   "metadata": {},
   "source": [
    "* Se creará el archivo ```archivo-5```."
   ]
  },
  {
   "cell_type": "code",
   "execution_count": 6,
   "metadata": {},
   "outputs": [],
   "source": [
    "echo \"Texto ilustrativo\" > archivo-5"
   ]
  },
  {
   "cell_type": "markdown",
   "metadata": {},
   "source": [
    "* Se creará el archivo ```indeseable```."
   ]
  },
  {
   "cell_type": "code",
   "execution_count": 7,
   "metadata": {},
   "outputs": [],
   "source": [
    "touch indeseable"
   ]
  },
  {
   "cell_type": "code",
   "execution_count": 16,
   "metadata": {},
   "outputs": [
    {
     "name": "stdout",
     "output_type": "stream",
     "text": [
      "archivo-1  archivo-2  archivo-5  archivo_nuevo  invisible\n"
     ]
    }
   ],
   "source": [
    "ls"
   ]
  },
  {
   "cell_type": "markdown",
   "metadata": {},
   "source": [
    "* Ninguno de los archivos recién creados tiene seguimiento."
   ]
  },
  {
   "cell_type": "code",
   "execution_count": 8,
   "metadata": {
    "scrolled": true
   },
   "outputs": [
    {
     "name": "stdout",
     "output_type": "stream",
     "text": [
      "En la rama main\n",
      "Archivos sin seguimiento:\n",
      "  (usa \"git add <archivo>...\" para incluirlo a lo que se será confirmado)\n",
      "\t\u001b[31marchivo-5\u001b[m\n",
      "\t\u001b[31mindeseable\u001b[m\n",
      "\n",
      "no hay nada agregado al commit pero hay archivos sin seguimiento presentes (usa \"git add\" para hacerles seguimiento)\n"
     ]
    }
   ],
   "source": [
    "git status"
   ]
  },
  {
   "cell_type": "markdown",
   "metadata": {},
   "source": [
    "* Se añadirá ```archivo-5``` al área de preparación."
   ]
  },
  {
   "cell_type": "code",
   "execution_count": 9,
   "metadata": {},
   "outputs": [],
   "source": [
    "git add archivo-5"
   ]
  },
  {
   "cell_type": "code",
   "execution_count": 10,
   "metadata": {},
   "outputs": [
    {
     "name": "stdout",
     "output_type": "stream",
     "text": [
      "En la rama main\n",
      "Cambios a ser confirmados:\n",
      "  (usa \"git restore --staged <archivo>...\" para sacar del área de stage)\n",
      "\t\u001b[32mnuevos archivos: archivo-5\u001b[m\n",
      "\n",
      "Archivos sin seguimiento:\n",
      "  (usa \"git add <archivo>...\" para incluirlo a lo que se será confirmado)\n",
      "\t\u001b[31mindeseable\u001b[m\n",
      "\n"
     ]
    }
   ],
   "source": [
    "git status"
   ]
  },
  {
   "cell_type": "markdown",
   "metadata": {},
   "source": [
    "* Se ejecutará el comando ```git clean``` sin la opción ```-f```, por lo que se desencadenará un error."
   ]
  },
  {
   "cell_type": "code",
   "execution_count": 11,
   "metadata": {
    "scrolled": true
   },
   "outputs": [
    {
     "name": "stdout",
     "output_type": "stream",
     "text": [
      "fatal: clean.requireForce default en true y ninguno de -i, -n, ni -f entregado; rehusando el clean\n"
     ]
    },
    {
     "ename": "",
     "evalue": "128",
     "output_type": "error",
     "traceback": []
    }
   ],
   "source": [
    "git clean"
   ]
  },
  {
   "cell_type": "markdown",
   "metadata": {},
   "source": [
    "* Se ejecutará el comando ```git clean``` correctamente y se borrarán los archivos que no tienen  seguimiento."
   ]
  },
  {
   "cell_type": "code",
   "execution_count": 12,
   "metadata": {},
   "outputs": [
    {
     "name": "stdout",
     "output_type": "stream",
     "text": [
      "Borrando indeseable\n"
     ]
    }
   ],
   "source": [
    "git clean -f"
   ]
  },
  {
   "cell_type": "markdown",
   "metadata": {},
   "source": [
    "* Los objetos que estaban en el área de preparación fueron eliminados."
   ]
  },
  {
   "cell_type": "code",
   "execution_count": 15,
   "metadata": {},
   "outputs": [
    {
     "name": "stdout",
     "output_type": "stream",
     "text": [
      "archivo-1  archivo-2  archivo-5  archivo_nuevo  invisible\n"
     ]
    }
   ],
   "source": [
    "ls"
   ]
  },
  {
   "cell_type": "code",
   "execution_count": 14,
   "metadata": {
    "scrolled": false
   },
   "outputs": [
    {
     "name": "stdout",
     "output_type": "stream",
     "text": [
      "En la rama main\n",
      "Cambios a ser confirmados:\n",
      "  (usa \"git restore --staged <archivo>...\" para sacar del área de stage)\n",
      "\t\u001b[32mnuevos archivos: archivo-5\u001b[m\n",
      "\n"
     ]
    }
   ],
   "source": [
    "git status"
   ]
  },
  {
   "cell_type": "markdown",
   "metadata": {},
   "source": [
    "* Se realizará un nuevo commit llamado ```sexto commit```."
   ]
  },
  {
   "cell_type": "code",
   "execution_count": 20,
   "metadata": {},
   "outputs": [
    {
     "name": "stdout",
     "output_type": "stream",
     "text": [
      "[main b636ac9] sexto commit\n",
      " 1 file changed, 1 insertion(+)\n",
      " create mode 100644 archivo-5\n"
     ]
    }
   ],
   "source": [
    "git commit -m  \"sexto commit\""
   ]
  },
  {
   "cell_type": "code",
   "execution_count": 21,
   "metadata": {},
   "outputs": [
    {
     "name": "stdout",
     "output_type": "stream",
     "text": [
      "\u001b[33mb636ac9\u001b[m\u001b[33m (\u001b[m\u001b[1;36mHEAD -> \u001b[m\u001b[1;32mmain\u001b[m\u001b[33m)\u001b[m sexto commit\n",
      "\u001b[33m955f607\u001b[m commit fusionado\n",
      "\u001b[33mb5f3cc9\u001b[m quinto commit\n",
      "\u001b[33m61db1a4\u001b[m\u001b[33m (\u001b[m\u001b[1;32msegunda\u001b[m\u001b[33m)\u001b[m primer commit de segunda\n",
      "\u001b[33m2405b5a\u001b[m\u001b[33m (\u001b[m\u001b[1;32mrestituida\u001b[m\u001b[33m)\u001b[m cuarto commit\n",
      "\u001b[33mde4e044\u001b[m segundo commit\n",
      "\u001b[33m2020250\u001b[m primer commit\n"
     ]
    }
   ],
   "source": [
    "git log --oneline"
   ]
  },
  {
   "cell_type": "markdown",
   "metadata": {},
   "source": [
    "## El comando ```git revert ```.\n",
    "\n",
    "El comando ```git revert``` permite regresar al estado de un commit previo, realizando las operaciones en sentido inverso que lleven al estado del *commit* en cuestión.\n",
    "\n",
    "Al ejecutar este comando se realiza un *commit* nuevo.\n",
    "\n",
    "``` bash\n",
    "git revert <identificador 1> .. <identificador 2>\n",
    "```\n",
    "\n",
    "La documentación de referencia del comando ```git revert``` está disponible en:\n",
    "\n",
    "https://git-scm.com/docs/git-revert"
   ]
  },
  {
   "cell_type": "markdown",
   "metadata": {},
   "source": [
    "**Ejemplo:**"
   ]
  },
  {
   "cell_type": "markdown",
   "metadata": {},
   "source": [
    "* La siguiente celda mosdtrará las diferencias entre ```HEAD~2``` y  ```HEAD```."
   ]
  },
  {
   "cell_type": "code",
   "execution_count": null,
   "metadata": {
    "scrolled": true
   },
   "outputs": [],
   "source": [
    "git diff HEAD~2 HEAD"
   ]
  },
  {
   "cell_type": "markdown",
   "metadata": {},
   "source": [
    "* Se restituirá al repositorio al estado de ```HEAD~2```. Esto generará un *commit*."
   ]
  },
  {
   "cell_type": "code",
   "execution_count": 22,
   "metadata": {
    "scrolled": false
   },
   "outputs": [
    {
     "name": "stdout",
     "output_type": "stream",
     "text": [
      "[main ea4fce2] Revert \"quinto commit\"\n",
      " Date: Wed Mar 15 07:23:11 2023 -0600\n",
      " 1 file changed, 1 deletion(-)\n"
     ]
    }
   ],
   "source": [
    "git revert HEAD~2 --no-edit"
   ]
  },
  {
   "cell_type": "markdown",
   "metadata": {},
   "source": [
    "* El estado del directorio de trabajo se ha actualizado."
   ]
  },
  {
   "cell_type": "code",
   "execution_count": 23,
   "metadata": {},
   "outputs": [
    {
     "name": "stdout",
     "output_type": "stream",
     "text": [
      "archivo-1  archivo-2  archivo-5  archivo_nuevo  invisible\n"
     ]
    }
   ],
   "source": [
    "ls"
   ]
  },
  {
   "cell_type": "code",
   "execution_count": 24,
   "metadata": {
    "scrolled": false
   },
   "outputs": [
    {
     "name": "stdout",
     "output_type": "stream",
     "text": [
      "\u001b[33mea4fce2\u001b[m\u001b[33m (\u001b[m\u001b[1;36mHEAD -> \u001b[m\u001b[1;32mmain\u001b[m\u001b[33m)\u001b[m Revert \"quinto commit\"\n",
      "\u001b[33mb636ac9\u001b[m sexto commit\n",
      "\u001b[33m955f607\u001b[m commit fusionado\n",
      "\u001b[33mb5f3cc9\u001b[m quinto commit\n",
      "\u001b[33m61db1a4\u001b[m\u001b[33m (\u001b[m\u001b[1;32msegunda\u001b[m\u001b[33m)\u001b[m primer commit de segunda\n",
      "\u001b[33m2405b5a\u001b[m\u001b[33m (\u001b[m\u001b[1;32mrestituida\u001b[m\u001b[33m)\u001b[m cuarto commit\n",
      "\u001b[33mde4e044\u001b[m segundo commit\n",
      "\u001b[33m2020250\u001b[m primer commit\n"
     ]
    }
   ],
   "source": [
    "git log --oneline"
   ]
  },
  {
   "cell_type": "code",
   "execution_count": 25,
   "metadata": {},
   "outputs": [
    {
     "name": "stdout",
     "output_type": "stream",
     "text": [
      "\u001b[1mdiff --git a/archivo-1 b/archivo-1\u001b[m\n",
      "\u001b[1mindex d7f0e7b..a19abfe 100644\u001b[m\n",
      "\u001b[1m--- a/archivo-1\u001b[m\n",
      "\u001b[1m+++ b/archivo-1\u001b[m\n",
      "\u001b[36m@@ -1,2 +1 @@\u001b[m\n",
      " Hola\u001b[m\n",
      "\u001b[31m-Otra linea\u001b[m\n"
     ]
    }
   ],
   "source": [
    "git diff HEAD~1 HEAD"
   ]
  },
  {
   "cell_type": "markdown",
   "metadata": {},
   "source": [
    "## El comando ```git reset```.\n",
    "\n",
    "Este comando permite regresar ```HEAD``` a un estado previo afectando a los diversos \"árboles\" de *git* (el directorio de trabajo, el *staging area* y el *data store*).\n",
    "\n",
    "```\n",
    "git reset <opcion>\n",
    "``` \n",
    "\n",
    "La documentación de referencia del comando ```git reset``` está disponible en:\n",
    "\n",
    "https://git-scm.com/docs/git-reset"
   ]
  },
  {
   "cell_type": "markdown",
   "metadata": {},
   "source": [
    "### La opción ```--mixed```.\n",
    "\n",
    "Esta opción regresa a un estado previo al *staging area* y al *data store* de *Git*, pero no a los archivos del directorio de trabajo. Esta es la opción por defecto."
   ]
  },
  {
   "cell_type": "markdown",
   "metadata": {},
   "source": [
    "### La opción ```--hard```.\n",
    "\n",
    "Esta opción regresa a un estado previo al *data store* y al directorio de trabajo."
   ]
  },
  {
   "cell_type": "markdown",
   "metadata": {},
   "source": [
    "### La opción ```--soft``` \n",
    "\n",
    "Esta opción regresa a al estado indicado, pero no a los archivos del directorio de trabajo ni al *data store*."
   ]
  },
  {
   "cell_type": "markdown",
   "metadata": {},
   "source": [
    "**Ejemplos:**"
   ]
  },
  {
   "cell_type": "markdown",
   "metadata": {},
   "source": [
    "* Se mostrará el historial de *commits*. ```HEAD```corresponde al *commit* con el comentario ```Revert \"quinto commit```"
   ]
  },
  {
   "cell_type": "code",
   "execution_count": 33,
   "metadata": {},
   "outputs": [
    {
     "name": "stdout",
     "output_type": "stream",
     "text": [
      "\u001b[33m955f607\u001b[m\u001b[33m (\u001b[m\u001b[1;36mHEAD -> \u001b[m\u001b[1;32mmain\u001b[m\u001b[33m)\u001b[m commit fusionado\n",
      "\u001b[33mb5f3cc9\u001b[m quinto commit\n",
      "\u001b[33m61db1a4\u001b[m\u001b[33m (\u001b[m\u001b[1;32msegunda\u001b[m\u001b[33m)\u001b[m primer commit de segunda\n",
      "\u001b[33m2405b5a\u001b[m\u001b[33m (\u001b[m\u001b[1;32mrestituida\u001b[m\u001b[33m)\u001b[m cuarto commit\n",
      "\u001b[33mde4e044\u001b[m segundo commit\n",
      "\u001b[33m2020250\u001b[m primer commit\n"
     ]
    }
   ],
   "source": [
    "git log --oneline"
   ]
  },
  {
   "cell_type": "markdown",
   "metadata": {},
   "source": [
    "* Se mostrará el estado actual del directorio de trabajo."
   ]
  },
  {
   "cell_type": "code",
   "execution_count": 29,
   "metadata": {},
   "outputs": [
    {
     "name": "stdout",
     "output_type": "stream",
     "text": [
      "archivo-1  archivo-2  archivo_nuevo  invisible\n"
     ]
    }
   ],
   "source": [
    "ls"
   ]
  },
  {
   "cell_type": "markdown",
   "metadata": {},
   "source": [
    "* Se realizará un *git reset --hard* a ```HEAD~2```."
   ]
  },
  {
   "cell_type": "code",
   "execution_count": 27,
   "metadata": {},
   "outputs": [
    {
     "name": "stdout",
     "output_type": "stream",
     "text": [
      "HEAD está ahora en 955f607 commit fusionado\n"
     ]
    }
   ],
   "source": [
    "git reset HEAD~2 --hard"
   ]
  },
  {
   "cell_type": "markdown",
   "metadata": {},
   "source": [
    "* El directorio de trabajo y el índice de objetos han sido modificado para sincromizarse con ```HEAD~2```."
   ]
  },
  {
   "cell_type": "code",
   "execution_count": 35,
   "metadata": {},
   "outputs": [
    {
     "name": "stdout",
     "output_type": "stream",
     "text": [
      "archivo-1  archivo-2  archivo_nuevo  invisible\n"
     ]
    }
   ],
   "source": [
    "ls"
   ]
  },
  {
   "cell_type": "code",
   "execution_count": 34,
   "metadata": {},
   "outputs": [
    {
     "name": "stdout",
     "output_type": "stream",
     "text": [
      "En la rama main\n",
      "nada para hacer commit, el árbol de trabajo está limpio\n"
     ]
    }
   ],
   "source": [
    "git status"
   ]
  },
  {
   "cell_type": "markdown",
   "metadata": {},
   "source": [
    "* Los *commits* posteriores a ```HEAD~2``` han sido eliminados y ahora ```HEAD``` corresponde al *commit* con el mensaje ```commit fusionado```."
   ]
  },
  {
   "cell_type": "code",
   "execution_count": 32,
   "metadata": {
    "scrolled": false
   },
   "outputs": [
    {
     "name": "stdout",
     "output_type": "stream",
     "text": [
      "\u001b[33m955f607\u001b[m\u001b[33m (\u001b[m\u001b[1;36mHEAD -> \u001b[m\u001b[1;32mmain\u001b[m\u001b[33m)\u001b[m commit fusionado\n",
      "\u001b[33mb5f3cc9\u001b[m quinto commit\n",
      "\u001b[33m61db1a4\u001b[m\u001b[33m (\u001b[m\u001b[1;32msegunda\u001b[m\u001b[33m)\u001b[m primer commit de segunda\n",
      "\u001b[33m2405b5a\u001b[m\u001b[33m (\u001b[m\u001b[1;32mrestituida\u001b[m\u001b[33m)\u001b[m cuarto commit\n",
      "\u001b[33mde4e044\u001b[m segundo commit\n",
      "\u001b[33m2020250\u001b[m primer commit\n"
     ]
    }
   ],
   "source": [
    "git log --oneline"
   ]
  },
  {
   "cell_type": "markdown",
   "metadata": {},
   "source": [
    "* Se creará el archivo ```archivo-6```."
   ]
  },
  {
   "cell_type": "code",
   "execution_count": 39,
   "metadata": {},
   "outputs": [],
   "source": [
    "touch archivo-6"
   ]
  },
  {
   "cell_type": "markdown",
   "metadata": {},
   "source": [
    "* Se añadirán los cambios al área de preparación."
   ]
  },
  {
   "cell_type": "code",
   "execution_count": 40,
   "metadata": {},
   "outputs": [],
   "source": [
    "git add --all "
   ]
  },
  {
   "cell_type": "markdown",
   "metadata": {},
   "source": [
    "* Se hará un nuevo *commit* con el mensaje ```commit posterior a un hard reset```."
   ]
  },
  {
   "cell_type": "code",
   "execution_count": 41,
   "metadata": {},
   "outputs": [
    {
     "name": "stdout",
     "output_type": "stream",
     "text": [
      "[main 96023d3] commit posterior a un hard reset\n",
      " 1 file changed, 0 insertions(+), 0 deletions(-)\n",
      " create mode 100644 archivo-6\n"
     ]
    }
   ],
   "source": [
    "git commit -m \"commit posterior a un hard reset\""
   ]
  },
  {
   "cell_type": "code",
   "execution_count": 42,
   "metadata": {
    "scrolled": true
   },
   "outputs": [
    {
     "name": "stdout",
     "output_type": "stream",
     "text": [
      "\u001b[33m96023d3\u001b[m\u001b[33m (\u001b[m\u001b[1;36mHEAD -> \u001b[m\u001b[1;32mmain\u001b[m\u001b[33m)\u001b[m commit posterior a un hard reset\n",
      "\u001b[33m955f607\u001b[m commit fusionado\n",
      "\u001b[33mb5f3cc9\u001b[m quinto commit\n",
      "\u001b[33m61db1a4\u001b[m\u001b[33m (\u001b[m\u001b[1;32msegunda\u001b[m\u001b[33m)\u001b[m primer commit de segunda\n",
      "\u001b[33m2405b5a\u001b[m\u001b[33m (\u001b[m\u001b[1;32mrestituida\u001b[m\u001b[33m)\u001b[m cuarto commit\n",
      "\u001b[33mde4e044\u001b[m segundo commit\n",
      "\u001b[33m2020250\u001b[m primer commit\n"
     ]
    }
   ],
   "source": [
    "git log --oneline"
   ]
  },
  {
   "cell_type": "markdown",
   "metadata": {},
   "source": [
    "* Se realizará un ```git reset --mixed``` a ```HEAD~3```."
   ]
  },
  {
   "cell_type": "code",
   "execution_count": 43,
   "metadata": {
    "scrolled": false
   },
   "outputs": [
    {
     "name": "stdout",
     "output_type": "stream",
     "text": [
      "Cambios fuera del área de stage tras el reset:\n",
      "M\tarchivo-1\n"
     ]
    }
   ],
   "source": [
    "git reset HEAD~3 --mixed"
   ]
  },
  {
   "cell_type": "markdown",
   "metadata": {},
   "source": [
    "* El directorio de trabajo queda intacto."
   ]
  },
  {
   "cell_type": "code",
   "execution_count": 45,
   "metadata": {
    "scrolled": true
   },
   "outputs": [
    {
     "name": "stdout",
     "output_type": "stream",
     "text": [
      "archivo-1  archivo-2  archivo-6  archivo_nuevo  invisible\n"
     ]
    }
   ],
   "source": [
    "ls"
   ]
  },
  {
   "cell_type": "markdown",
   "metadata": {},
   "source": [
    "* El estado de los objetos indexados es restablecido."
   ]
  },
  {
   "cell_type": "code",
   "execution_count": 44,
   "metadata": {
    "scrolled": true
   },
   "outputs": [
    {
     "name": "stdout",
     "output_type": "stream",
     "text": [
      "En la rama main\n",
      "Cambios no rastreados para el commit:\n",
      "  (usa \"git add <archivo>...\" para actualizar lo que será confirmado)\n",
      "  (usa \"git restore <archivo>...\" para descartar los cambios en el directorio de trabajo)\n",
      "\t\u001b[31mmodificados:     archivo-1\u001b[m\n",
      "\n",
      "Archivos sin seguimiento:\n",
      "  (usa \"git add <archivo>...\" para incluirlo a lo que se será confirmado)\n",
      "\t\u001b[31marchivo-6\u001b[m\n",
      "\t\u001b[31marchivo_nuevo\u001b[m\n",
      "\n",
      "sin cambios agregados al commit (usa \"git add\" y/o \"git commit -a\")\n"
     ]
    }
   ],
   "source": [
    "git status"
   ]
  },
  {
   "cell_type": "markdown",
   "metadata": {},
   "source": [
    "* Ahora ```HEAD``` corresponde al commit com el mensaje ```cuarto commit```."
   ]
  },
  {
   "cell_type": "code",
   "execution_count": 46,
   "metadata": {
    "scrolled": true
   },
   "outputs": [
    {
     "name": "stdout",
     "output_type": "stream",
     "text": [
      "\u001b[33m2405b5a\u001b[m\u001b[33m (\u001b[m\u001b[1;36mHEAD -> \u001b[m\u001b[1;32mmain\u001b[m\u001b[33m, \u001b[m\u001b[1;32mrestituida\u001b[m\u001b[33m)\u001b[m cuarto commit\n",
      "\u001b[33mde4e044\u001b[m segundo commit\n",
      "\u001b[33m2020250\u001b[m primer commit\n"
     ]
    }
   ],
   "source": [
    "git log --oneline"
   ]
  },
  {
   "cell_type": "markdown",
   "metadata": {},
   "source": [
    "* Se creará un nuevo *commit* con el mensaje ```commit posterior a un mixed reset```."
   ]
  },
  {
   "cell_type": "code",
   "execution_count": 47,
   "metadata": {},
   "outputs": [
    {
     "name": "stdout",
     "output_type": "stream",
     "text": [
      "[main 8d04e66] commit posterior a un mixed reset\n",
      " 1 file changed, 1 insertion(+)\n"
     ]
    }
   ],
   "source": [
    "git commit -am \"commit posterior a un mixed reset\""
   ]
  },
  {
   "cell_type": "code",
   "execution_count": 48,
   "metadata": {
    "scrolled": true
   },
   "outputs": [
    {
     "name": "stdout",
     "output_type": "stream",
     "text": [
      "\u001b[33m8d04e66\u001b[m\u001b[33m (\u001b[m\u001b[1;36mHEAD -> \u001b[m\u001b[1;32mmain\u001b[m\u001b[33m)\u001b[m commit posterior a un mixed reset\n",
      "\u001b[33m2405b5a\u001b[m\u001b[33m (\u001b[m\u001b[1;32mrestituida\u001b[m\u001b[33m)\u001b[m cuarto commit\n",
      "\u001b[33mde4e044\u001b[m segundo commit\n",
      "\u001b[33m2020250\u001b[m primer commit\n"
     ]
    }
   ],
   "source": [
    "git log --oneline"
   ]
  },
  {
   "cell_type": "code",
   "execution_count": null,
   "metadata": {},
   "outputs": [],
   "source": []
  },
  {
   "cell_type": "code",
   "execution_count": null,
   "metadata": {},
   "outputs": [],
   "source": [
    "git reset HEAD~3 --soft"
   ]
  },
  {
   "cell_type": "code",
   "execution_count": null,
   "metadata": {},
   "outputs": [],
   "source": [
    "git status"
   ]
  },
  {
   "cell_type": "code",
   "execution_count": null,
   "metadata": {},
   "outputs": [],
   "source": [
    "git log"
   ]
  },
  {
   "cell_type": "code",
   "execution_count": null,
   "metadata": {},
   "outputs": [],
   "source": [
    "ls"
   ]
  },
  {
   "cell_type": "code",
   "execution_count": null,
   "metadata": {},
   "outputs": [],
   "source": [
    "git add --all"
   ]
  },
  {
   "cell_type": "code",
   "execution_count": null,
   "metadata": {},
   "outputs": [],
   "source": [
    "git commit -m \"commit posterior a un soft reset\""
   ]
  },
  {
   "cell_type": "code",
   "execution_count": null,
   "metadata": {},
   "outputs": [],
   "source": [
    "git log"
   ]
  },
  {
   "cell_type": "code",
   "execution_count": null,
   "metadata": {
    "scrolled": false
   },
   "outputs": [],
   "source": [
    "tree .git/objects"
   ]
  },
  {
   "cell_type": "markdown",
   "metadata": {},
   "source": [
    "## El comando ```git rebase```.\n",
    "\n",
    "Este comando permite combinar dos ramas a partir del estado en que fueron separadas.\n",
    "\n",
    "```\n",
    "git rebase <rama 1> <rama 2>\n",
    "```"
   ]
  },
  {
   "cell_type": "code",
   "execution_count": null,
   "metadata": {},
   "outputs": [],
   "source": [
    "git checkout -b rama_alterna"
   ]
  },
  {
   "cell_type": "code",
   "execution_count": null,
   "metadata": {},
   "outputs": [],
   "source": [
    "git log --graph"
   ]
  },
  {
   "cell_type": "code",
   "execution_count": null,
   "metadata": {},
   "outputs": [],
   "source": [
    "touch archivo-a1 archivo-a2"
   ]
  },
  {
   "cell_type": "code",
   "execution_count": null,
   "metadata": {},
   "outputs": [],
   "source": [
    "ls"
   ]
  },
  {
   "cell_type": "code",
   "execution_count": null,
   "metadata": {},
   "outputs": [],
   "source": [
    "git add --all"
   ]
  },
  {
   "cell_type": "code",
   "execution_count": null,
   "metadata": {},
   "outputs": [],
   "source": [
    "git commit -m \"primer commit rama alterna\""
   ]
  },
  {
   "cell_type": "code",
   "execution_count": null,
   "metadata": {},
   "outputs": [],
   "source": [
    "git log --graph --oneline"
   ]
  },
  {
   "cell_type": "code",
   "execution_count": null,
   "metadata": {},
   "outputs": [],
   "source": [
    "git checkout master"
   ]
  },
  {
   "cell_type": "code",
   "execution_count": null,
   "metadata": {},
   "outputs": [],
   "source": [
    "ls"
   ]
  },
  {
   "cell_type": "code",
   "execution_count": null,
   "metadata": {},
   "outputs": [],
   "source": [
    "touch archivo-6\n",
    "rm archivo-2"
   ]
  },
  {
   "cell_type": "code",
   "execution_count": null,
   "metadata": {},
   "outputs": [],
   "source": [
    "git add --all"
   ]
  },
  {
   "cell_type": "code",
   "execution_count": null,
   "metadata": {},
   "outputs": [],
   "source": [
    "git log --oneline --graph"
   ]
  },
  {
   "cell_type": "code",
   "execution_count": null,
   "metadata": {},
   "outputs": [],
   "source": [
    "git commit -m \"commit de rebase\""
   ]
  },
  {
   "cell_type": "code",
   "execution_count": null,
   "metadata": {},
   "outputs": [],
   "source": [
    "git log --oneline --graph"
   ]
  },
  {
   "cell_type": "code",
   "execution_count": null,
   "metadata": {},
   "outputs": [],
   "source": [
    "git checkout rama_alterna"
   ]
  },
  {
   "cell_type": "code",
   "execution_count": null,
   "metadata": {},
   "outputs": [],
   "source": [
    "git diff rama_alterna master"
   ]
  },
  {
   "cell_type": "code",
   "execution_count": null,
   "metadata": {
    "scrolled": true
   },
   "outputs": [],
   "source": [
    "git log --oneline --graph"
   ]
  },
  {
   "cell_type": "code",
   "execution_count": null,
   "metadata": {},
   "outputs": [],
   "source": [
    "ls"
   ]
  },
  {
   "cell_type": "code",
   "execution_count": null,
   "metadata": {
    "scrolled": true
   },
   "outputs": [],
   "source": [
    "git rebase master"
   ]
  },
  {
   "cell_type": "code",
   "execution_count": null,
   "metadata": {},
   "outputs": [],
   "source": [
    "git branch"
   ]
  },
  {
   "cell_type": "code",
   "execution_count": null,
   "metadata": {
    "scrolled": true
   },
   "outputs": [],
   "source": [
    "git log --oneline --graph"
   ]
  },
  {
   "cell_type": "code",
   "execution_count": null,
   "metadata": {},
   "outputs": [],
   "source": [
    "ls"
   ]
  },
  {
   "cell_type": "code",
   "execution_count": null,
   "metadata": {},
   "outputs": [],
   "source": [
    "git reflog"
   ]
  },
  {
   "cell_type": "markdown",
   "metadata": {},
   "source": [
    "## Uso de ```git checkout``` con archivos.\n",
    "\n",
    "En ciertas ocasiones es necesario traer archivos de versiones previas del repositorio. La manera de hacer esto es mediante:\n",
    "\n",
    "```\n",
    "git checkout <referencia> <archivo>\n",
    "```"
   ]
  },
  {
   "cell_type": "code",
   "execution_count": null,
   "metadata": {},
   "outputs": [],
   "source": [
    "git branch"
   ]
  },
  {
   "cell_type": "code",
   "execution_count": null,
   "metadata": {},
   "outputs": [],
   "source": [
    "ls"
   ]
  },
  {
   "cell_type": "code",
   "execution_count": null,
   "metadata": {},
   "outputs": [],
   "source": [
    "rm  archivo-6"
   ]
  },
  {
   "cell_type": "code",
   "execution_count": null,
   "metadata": {},
   "outputs": [],
   "source": [
    "git add --all"
   ]
  },
  {
   "cell_type": "code",
   "execution_count": null,
   "metadata": {},
   "outputs": [],
   "source": [
    "git commit -m \"eliminacion en rama alterna\""
   ]
  },
  {
   "cell_type": "code",
   "execution_count": null,
   "metadata": {},
   "outputs": [],
   "source": [
    "ls"
   ]
  },
  {
   "cell_type": "code",
   "execution_count": null,
   "metadata": {},
   "outputs": [],
   "source": [
    "git merge master"
   ]
  },
  {
   "cell_type": "code",
   "execution_count": null,
   "metadata": {},
   "outputs": [],
   "source": [
    "ls"
   ]
  },
  {
   "cell_type": "code",
   "execution_count": null,
   "metadata": {},
   "outputs": [],
   "source": [
    "git checkout master"
   ]
  },
  {
   "cell_type": "code",
   "execution_count": null,
   "metadata": {},
   "outputs": [],
   "source": [
    "ls"
   ]
  },
  {
   "cell_type": "code",
   "execution_count": null,
   "metadata": {},
   "outputs": [],
   "source": [
    "git ls-files -s"
   ]
  },
  {
   "cell_type": "code",
   "execution_count": null,
   "metadata": {},
   "outputs": [],
   "source": [
    "git checkout rama_alterna"
   ]
  },
  {
   "cell_type": "code",
   "execution_count": null,
   "metadata": {},
   "outputs": [],
   "source": [
    "git checkout HEAD~ archivo-6"
   ]
  },
  {
   "cell_type": "code",
   "execution_count": null,
   "metadata": {},
   "outputs": [],
   "source": [
    "ls"
   ]
  },
  {
   "cell_type": "code",
   "execution_count": null,
   "metadata": {},
   "outputs": [],
   "source": [
    "git status"
   ]
  },
  {
   "cell_type": "code",
   "execution_count": null,
   "metadata": {},
   "outputs": [],
   "source": [
    "git ls-files -s"
   ]
  },
  {
   "cell_type": "markdown",
   "metadata": {},
   "source": [
    "<p style=\"text-align: center\"><a rel=\"license\" href=\"http://creativecommons.org/licenses/by/4.0/\"><img alt=\"Licencia Creative Commons\" style=\"border-width:0\" src=\"https://i.creativecommons.org/l/by/4.0/80x15.png\" /></a><br />Esta obra está bajo una <a rel=\"license\" href=\"http://creativecommons.org/licenses/by/4.0/\">Licencia Creative Commons Atribución 4.0 Internacional</a>.</p>\n",
    "<p style=\"text-align: center\">&copy; José Luis Chiquete Valdivieso. 2023.</p>"
   ]
  }
 ],
 "metadata": {
  "kernelspec": {
   "display_name": "Bash",
   "language": "bash",
   "name": "bash"
  },
  "language_info": {
   "codemirror_mode": "shell",
   "file_extension": ".sh",
   "mimetype": "text/x-sh",
   "name": "bash"
  }
 },
 "nbformat": 4,
 "nbformat_minor": 2
}
